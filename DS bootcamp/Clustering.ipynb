{
 "cells": [
  {
   "cell_type": "markdown",
   "id": "fc4d589f-a40b-4412-ae97-4652bc42d50c",
   "metadata": {},
   "source": [
    "# Cluster\n",
    "\n",
    "Applications:\n",
    "- Recommendation system\n",
    "- Anamaly detection\n",
    "\n",
    "\n",
    "# K-Means Clustering Algorithm\n",
    "A simple algorithm which scales well with the sieze of the data. It try to separate the cluster as much as possible.\n",
    "\n",
    "Steps for the algorithm:\n",
    "- Pick a number $K$ for the number of clusters\n",
    "- Specify the initial position of the $K$ points (aka centroids). It could be random or specified using certain argumets (K-Means Clustering plus plus).\n",
    "- Calculate the distance between data points and centroids.\n",
    "- the cost of a cluster $J_l$:\n",
    "$$\n",
    " J = (x -)\n",
    "$$\n"
   ]
  },
  {
   "cell_type": "markdown",
   "id": "01597b8a-b63d-416c-8282-80aeca03542e",
   "metadata": {},
   "source": [
    "# Hierachical Clustering\n",
    "Non-random initialization with distance metric (Eucledian) and dissimilarity metric.\n",
    "\n",
    "## Agglomerative algorithm\n",
    "- each point is its own cluster\n",
    "- merge least dissimilar (that is, similar) clusters\n",
    "- stop until the number of clusters is low enough (specified by user)\n",
    "\n",
    "## Visulation hierachical clustering using Dendrogram\n",
    "Not a good one when data contains more than 100 points\n"
   ]
  },
  {
   "cell_type": "markdown",
   "id": "411a10f2-cca6-434e-80f8-1f7f3d8719aa",
   "metadata": {},
   "source": [
    "# DBSCAN"
   ]
  },
  {
   "cell_type": "markdown",
   "id": "bcc47560-d350-46f8-8e7c-98d0acf2a39e",
   "metadata": {},
   "source": [
    "Density-based algorithm. It separate samples into three categories: core, boundary, and noise points\n",
    "\n",
    "You need to specify the radius and minimun number of samples in the circle to be considered the same cluster.\n",
    "\n",
    "The best one. It can deal with very different structures."
   ]
  },
  {
   "cell_type": "code",
   "execution_count": null,
   "id": "ec023224-dfc9-4d84-b604-742181d7b69d",
   "metadata": {},
   "outputs": [],
   "source": []
  }
 ],
 "metadata": {
  "kernelspec": {
   "display_name": "Python 3",
   "language": "python",
   "name": "python3"
  },
  "language_info": {
   "name": ""
  }
 },
 "nbformat": 4,
 "nbformat_minor": 5
}
