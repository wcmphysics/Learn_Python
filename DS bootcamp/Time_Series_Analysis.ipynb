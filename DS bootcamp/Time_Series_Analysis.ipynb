{
 "cells": [
  {
   "cell_type": "markdown",
   "id": "6cf3fa32-e7ef-4ef7-88c1-a66fb14c05c2",
   "metadata": {},
   "source": [
    "# Time Series Analysis\n",
    "\n",
    "\n",
    "- ARIMA-Family\n",
    "- TSA Decomposition\n",
    "- Smoothing\n",
    "- Fancy models"
   ]
  },
  {
   "cell_type": "markdown",
   "id": "cdc0cf01-d56d-47af-9cab-72122d7543de",
   "metadata": {},
   "source": [
    "# Introduction\n",
    "\n",
    "\n",
    "Time series: \n",
    "- A sequence of data that can be ordered by time. X axis is not necessary time (the weight of car tank versus length traveled).\n",
    "\n",
    "Specialty of time series data:\n",
    "- It can be ordered by time\n",
    "- Dependent variable stands on both side of the equation (recursive relation)\n",
    "- Error can depend on historical values\n",
    "\n",
    "A good time series analysis (TSA):\n",
    "- identify and split the known and unknown\n",
    "- forecast the known\n",
    "- define the unknown\n",
    "\n",
    "Trend:\n",
    "- long-term behavior\n",
    "\n",
    "Eliminate trends so we can split the known and unknown:\n",
    "- Model - trends\n",
    "- Take derivative\n",
    "- Time difference (good to eliminate the seasonality of data, say temperature this March minus that of last March to remove seasonal effect)\n",
    "\n",
    "Imputing missing data:\n",
    "- filling(backfill, forward fill, mean)\n",
    "- interpolate (by a line or curves)\n",
    "- Resampling (reduce the sampling rate so missing data is no longer seen)\n",
    "- Predicting (a model to predict missing values)\n",
    "\n",
    "Cross Validation\n",
    "- TimeSeriesSplit (could be problematic): incresaing validation size\n",
    "- BlockingTimeSeriesSplit: validation size remains the same\n",
    "\n",
    "Stationarity:\n",
    "Take two blocks of data and compare the statistics (mean, variation, etc.). If they are different then the data is not stationary. \n"
   ]
  },
  {
   "cell_type": "markdown",
   "id": "67387c6a-c0a4-4204-8d7d-9486d9f82178",
   "metadata": {},
   "source": [
    "# Modeling Time Series\n",
    "A time series can be decomposed by:\n",
    "$$\n",
    "x_t = m_t + s_t + e_t\n",
    "$$\n",
    "\n",
    "Trend ($m_t$): increase/decrease of values in the series\n",
    "\n",
    "Seaonality ($s_t$): repeating cycles in the series\n",
    "\n",
    "Random noise ($e_t$): random noise\n",
    "\n",
    "Note that such a decomposition is an assumption and may not be true (say, $x_t = m_t*(s_t + e_t)$)."
   ]
  },
  {
   "cell_type": "markdown",
   "id": "28442ea7-ef1c-44c7-b9eb-fe2045130d1c",
   "metadata": {},
   "source": [
    "# ARMA Model\n",
    "An example of ARMA model:\n",
    "$$\n",
    "X_t = 0.85X_{t-1} - 0.2\\epsilon_{t-2} - 0.4\\epsilon_{t-1} +\\epsilon_{t}\n",
    "$$\n",
    "\n",
    "\n",
    "AR(n): n-order auto regression: $0.85X_{t-1}$ => AR(1)\n",
    "\n",
    "MA(m): m-order moving average: $- 0.2\\epsilon_{t-2} - 0.4\\epsilon_{t-1}$ => MA(2)\n",
    "\n",
    "Error term: $\\epsilon_{t}$\n",
    "\n",
    "We can model time series with different order of AR and MA, and other manipulation (integration or differencitation). And they got many different names (ARIMA, SARMA, etc...)"
   ]
  },
  {
   "cell_type": "markdown",
   "id": "8861e7a5-1300-4f67-a6ae-2a86009242d1",
   "metadata": {},
   "source": [
    "# Exponential Smoothing Methods\n",
    "\n",
    "Averaging with expoential weight (closer to current time, the larger weight)?\n",
    "\n",
    "# Holt-Winters Model\n",
    "A very important, commonly used model \n",
    "\n",
    "# Fancy Models\n",
    "- Facebook's Prophet\n",
    "- Convolutional neural networks\n",
    "- Rocket\n",
    "\n",
    "# Long-Short-Term-Memory networks (LSTMs)\n",
    "A special network layer that carries long- and short-time memory of the time series\n"
   ]
  },
  {
   "cell_type": "code",
   "execution_count": null,
   "id": "35e6d661-ff94-434d-bba6-393c0a0d0a63",
   "metadata": {},
   "outputs": [],
   "source": []
  }
 ],
 "metadata": {
  "kernelspec": {
   "display_name": "Python 3",
   "language": "python",
   "name": "python3"
  },
  "language_info": {
   "name": ""
  }
 },
 "nbformat": 4,
 "nbformat_minor": 5
}
