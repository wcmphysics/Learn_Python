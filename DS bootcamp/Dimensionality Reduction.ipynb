{
 "cells": [
  {
   "cell_type": "markdown",
   "id": "9cea938c-059c-4500-9b0f-23d0203d9c30",
   "metadata": {},
   "source": [
    "# Dimensionality Reduction\n",
    "\n",
    "Principle component Analysis:\n",
    "\n",
    "Principle axis: the axis that preserves most variance of the data after projection onto this principle axis\n",
    "\n"
   ]
  },
  {
   "cell_type": "markdown",
   "id": "23cfdbfe-4f27-4cea-b009-99ab9236e60f",
   "metadata": {},
   "source": [
    "Check YOLO (you only look once) for real-time object detection"
   ]
  },
  {
   "cell_type": "code",
   "execution_count": null,
   "id": "f8588da6-f28b-4452-841a-548005f8d25e",
   "metadata": {},
   "outputs": [],
   "source": []
  }
 ],
 "metadata": {
  "kernelspec": {
   "display_name": "Python 3",
   "language": "python",
   "name": "python3"
  },
  "language_info": {
   "name": ""
  }
 },
 "nbformat": 4,
 "nbformat_minor": 5
}
