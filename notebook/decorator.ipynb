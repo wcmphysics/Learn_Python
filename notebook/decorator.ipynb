{
 "cells": [
  {
   "cell_type": "markdown",
   "metadata": {},
   "source": [
    "# Decorator/Function"
   ]
  },
  {
   "attachments": {},
   "cell_type": "markdown",
   "metadata": {},
   "source": [
    "# Decorator for a Function Wrapper\n",
    "\n",
    "Usage: adding extra functionalities to a function without modifying codes for calling of the function.\n",
    "\n",
    "Normally, we add extra functionalities to a function by changing the function itself. However, there are cases we want to keep the original function unchanged, and \"wrap\" functionalities around the original function (for example, logging information of a function like execution time, input, output, etc).\n",
    "\n",
    "The general form of a decorator is:"
   ]
  },
  {
   "cell_type": "code",
   "execution_count": 5,
   "metadata": {},
   "outputs": [
    {
     "name": "stdout",
     "output_type": "stream",
     "text": [
      "You can add functionalities inside a wrapper here\n",
      "Just to remember to return the original result\n",
      "I want to say hi\n"
     ]
    }
   ],
   "source": [
    "def decorator_function(original_function): # specify the name of the original function to be decorated\n",
    "\n",
    "    def wrapper(*arg, **kargs): # details for the new function\n",
    "        print('You can add functionalities inside a wrapper here')\n",
    "        result_of_original_function = original_function(*arg, **kargs)\n",
    "        print('Just to remember to return the original result')\n",
    "        return result_of_original_function\n",
    "    \n",
    "    return wrapper # specify the name of the new function to substitute the original function\n",
    "\n",
    "@decorator_function # specify the decorator\n",
    "def say_something(message):\n",
    "    return 'I want to say ' + message\n",
    "\n",
    "print(say_something('hi'))"
   ]
  },
  {
   "attachments": {},
   "cell_type": "markdown",
   "metadata": {},
   "source": [
    "### Why not just assign a new name instead of using a decorator\n",
    "\n",
    "At first sight, one might think the idea of decorator is redundant because the same effect can be achieved by the following (`@decorator_function` removed and assign the function name `say_something` to `decorator_function(say_something)`:"
   ]
  },
  {
   "cell_type": "code",
   "execution_count": 6,
   "metadata": {},
   "outputs": [
    {
     "name": "stdout",
     "output_type": "stream",
     "text": [
      "Call with wrapper:\n",
      "You can add functionalities inside a wrapper here\n",
      "Just to remember to return the original result\n",
      "I want to say hi\n"
     ]
    }
   ],
   "source": [
    "def decorator_function(original_function):\n",
    "\n",
    "    def wrapper(*arg, **kargs):\n",
    "        print('You can add functionalities inside a wrapper here')\n",
    "        result_of_original_function = original_function(*arg, **kargs)\n",
    "        print('Just to remember to return the original result')\n",
    "        return result_of_original_function\n",
    "\n",
    "    return wrapper\n",
    "\n",
    "def say_something(message):\n",
    "    return 'I want to say ' + message\n",
    "\n",
    "print('Call with wrapper:')\n",
    "say_something = decorator_function(say_something)\n",
    "print(say_something('hi'))"
   ]
  },
  {
   "attachments": {},
   "cell_type": "markdown",
   "metadata": {},
   "source": [
    "The above is not a good idea because one may eventually forgot what the function `say_something` actually mean when the code grows. The situation exacerbates when we have many different decorations (say, one for loggin and another for timing) to the same function."
   ]
  },
  {
   "attachments": {},
   "cell_type": "markdown",
   "metadata": {},
   "source": [
    "One the other hand, one might say we could just call the function `wrapper` instead of `say_something`. But this requires change to EVERY call in pre-existed codes, which is what we want to avoid at the first place.\n",
    "\n",
    "Note that, the same decorator can be applied to different functions if the decorator is written in a general form. This further strengthen the reason to use decorators (one log decorator or one timing decorator for any function) instead of name re-assignment."
   ]
  },
  {
   "attachments": {},
   "cell_type": "markdown",
   "metadata": {},
   "source": [
    "### Example code\n",
    "\n",
    "Note that the default key word argument is not recorded."
   ]
  },
  {
   "cell_type": "code",
   "execution_count": 71,
   "metadata": {},
   "outputs": [
    {
     "name": "stdout",
     "output_type": "stream",
     "text": [
      "The input variables are:\n",
      "[1, 2, 3, 4, 5]\n"
     ]
    },
    {
     "data": {
      "text/plain": [
       "15"
      ]
     },
     "execution_count": 71,
     "metadata": {},
     "output_type": "execute_result"
    }
   ],
   "source": [
    "def log_input(target_function):\n",
    "    def wrapper(*args, **kwargs):\n",
    "        input_variables = [arg for arg in args] + [kwarg for kwarg in kwargs]\n",
    "        print('The input variables are:')\n",
    "        print(input_variables)\n",
    "        return target_function(*args)\n",
    "    return wrapper\n",
    "\n",
    "def log_output(target_function):\n",
    "    def wrapper(*args, **kwargs):\n",
    "        result = target_function(*args)\n",
    "        print('The output is:', result)\n",
    "        return result\n",
    "    return wrapper\n",
    "\n",
    "\n",
    "# @log_output\n",
    "@log_input\n",
    "def summation(*args, absolute=True):\n",
    "    total = 0\n",
    "    for arg in args:\n",
    "        total += arg\n",
    "    if absolute:\n",
    "        total = abs(total)\n",
    "    return total\n",
    "\n",
    "\n",
    "a = (1, 2, 3, 4, 5)\n",
    "\n",
    "summation(*a)"
   ]
  },
  {
   "attachments": {},
   "cell_type": "markdown",
   "metadata": {},
   "source": [
    "It's possible to use multiple decoration on the same function:"
   ]
  },
  {
   "cell_type": "code",
   "execution_count": 75,
   "metadata": {},
   "outputs": [
    {
     "name": "stdout",
     "output_type": "stream",
     "text": [
      "The input variables are:\n",
      "[1, 2, 3, 4, 5, True]\n",
      "The output is: 16\n"
     ]
    },
    {
     "data": {
      "text/plain": [
       "16"
      ]
     },
     "execution_count": 75,
     "metadata": {},
     "output_type": "execute_result"
    }
   ],
   "source": [
    "@log_output # executed second\n",
    "@log_input # executed first\n",
    "def summation(*args, absolute=True):\n",
    "    total = 0\n",
    "    for arg in args:\n",
    "        total += arg\n",
    "    if absolute:\n",
    "        total = abs(total)\n",
    "    return total\n",
    "\n",
    "a = (1, 2, 3, 4, 5)\n",
    "summation(*a, True)"
   ]
  },
  {
   "attachments": {},
   "cell_type": "markdown",
   "metadata": {},
   "source": [
    "### ?? Confusion in stacked decorator??\n",
    "\n",
    "why lvl are different in the two calls?"
   ]
  },
  {
   "cell_type": "code",
   "execution_count": 88,
   "metadata": {},
   "outputs": [
    {
     "name": "stdout",
     "output_type": "stream",
     "text": [
      "input: 2 lvl: 1\n",
      "input: 4 lvl: 1\n",
      "input: 8 lvl: 1\n",
      "input: 2 lvl: 4\n",
      "input: 4 lvl: 5\n",
      "input: 8 lvl: 6\n"
     ]
    },
    {
     "data": {
      "text/plain": [
       "16"
      ]
     },
     "execution_count": 88,
     "metadata": {},
     "output_type": "execute_result"
    }
   ],
   "source": [
    "lvl = 1\n",
    "\n",
    "def decorator1(base):\n",
    "    def wrapper(a):\n",
    "        global lvl\n",
    "        print('input:', a, 'lvl:', lvl)\n",
    "        result = base(a*2)\n",
    "        lvl += 1\n",
    "        return result\n",
    "    return wrapper\n",
    "\n",
    "def decorator2(base):\n",
    "    def wrapper(a):\n",
    "        global lvl\n",
    "        print('input:', a, 'lvl:', lvl)\n",
    "        lvl += 1\n",
    "        return base(a*2)\n",
    "    return wrapper\n",
    "\n",
    "@decorator1\n",
    "@decorator1\n",
    "@decorator1\n",
    "def base(a):\n",
    "    return a\n",
    "\n",
    "base(2)\n",
    "\n",
    "@decorator2\n",
    "@decorator2\n",
    "@decorator2\n",
    "def base(a):\n",
    "    return a\n",
    "\n",
    "base(2)\n"
   ]
  },
  {
   "cell_type": "markdown",
   "metadata": {},
   "source": [
    "# Reference\n",
    "\n",
    "[dyanmic functionality; stacked decorators;wrapper using class](https://www.youtube.com/watch?v=FsAPt_9Bf3U)"
   ]
  },
  {
   "attachments": {},
   "cell_type": "markdown",
   "metadata": {},
   "source": [
    "# Future Studies\n",
    "\n",
    "The variable scoping rule in class may look different from typical python functions as mentioned [in the SECOND answer](https://stackoverflow.com/questions/51117397/why-method-cant-access-class-variable) on stackoverflow.\n",
    "\n",
    "[the super() magic of class inheritance](https://stackoverflow.com/questions/19608134/why-is-python-3-xs-super-magic)\n",
    "\n",
    "[iterable and iterator](https://www.w3schools.com/python/python_iterators.asp)\n",
    "\n",
    "[name alias; first-class object](https://stackoverflow.com/questions/28309757/instancing-a-class-difference-between-with-and-without-brackets)\n",
    "\n",
    "[order of \"not\", \"and\", and \"or\" operations and non-boolean inputs](https://en.wikibooks.org/wiki/Python_Programming/Operators#Logical_Operators)"
   ]
  }
 ],
 "metadata": {
  "interpreter": {
   "hash": "2637a4237c9832f1722b2cd300ef9b76dbc03b8bb4d86f4166da260fe841abb3"
  },
  "kernelspec": {
   "display_name": "Python 3.7.9 64-bit",
   "language": "python",
   "name": "python3"
  },
  "language_info": {
   "codemirror_mode": {
    "name": "ipython",
    "version": 3
   },
   "file_extension": ".py",
   "mimetype": "text/x-python",
   "name": "python",
   "nbconvert_exporter": "python",
   "pygments_lexer": "ipython3",
   "version": "3.7.9"
  },
  "orig_nbformat": 4
 },
 "nbformat": 4,
 "nbformat_minor": 2
}
