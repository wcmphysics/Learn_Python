{
 "cells": [
  {
   "cell_type": "markdown",
   "metadata": {},
   "source": [
    "# Decorator/Function"
   ]
  },
  {
   "cell_type": "markdown",
   "metadata": {},
   "source": [
    "# Decorator for a Function Wrapper\n",
    "\n",
    "Usage: adding extra functionalities to a function without modifying codes for calling of the function.\n",
    "\n",
    "Normally, we add extra functionalities to a function by changing the function itself. However, there are cases we want to keep the original function unchanged, and \"wrap\" functionalities around the original function (for example, logging information of a function like execution time, input, output, etc)."
   ]
  },
  {
   "cell_type": "code",
   "execution_count": 11,
   "metadata": {},
   "outputs": [
    {
     "name": "stdout",
     "output_type": "stream",
     "text": [
      "You can add functionalities inside a wrapper here\n",
      "Just to remember to return the original result\n",
      "I want to say hi\n"
     ]
    }
   ],
   "source": [
    "def decorator_function(original_function):\n",
    "\n",
    "    def wrapper(*arg, **kargs):\n",
    "        print('You can add functionalities inside a wrapper here')\n",
    "        result_of_original_function = original_function(*arg, **kargs)\n",
    "        print('Just to remember to return the original result')\n",
    "        return result_of_original_function\n",
    "    \n",
    "    return wrapper\n",
    "\n",
    "@decorator_function\n",
    "def say_something(message):\n",
    "    return 'I want to say ' + message\n",
    "\n",
    "print(say_something('hi'))"
   ]
  },
  {
   "cell_type": "markdown",
   "metadata": {},
   "source": [
    "Is the following approach meaningful? Is the decorator function redundant (just use `wrapper`?)? "
   ]
  },
  {
   "cell_type": "code",
   "execution_count": 12,
   "metadata": {},
   "outputs": [
    {
     "name": "stdout",
     "output_type": "stream",
     "text": [
      "Call with wrapper:\n",
      "You can add functionalities inside a wrapper here\n",
      "Just to remember to return the original result\n",
      "I want to say hi\n"
     ]
    }
   ],
   "source": [
    "def decorator_function(original_function):\n",
    "\n",
    "    def wrapper(*arg, **kargs):\n",
    "        print('You can add functionalities inside a wrapper here')\n",
    "        result_of_original_function = original_function(*arg, **kargs)\n",
    "        print('Just to remember to return the original result')\n",
    "        return result_of_original_function\n",
    "\n",
    "    return wrapper\n",
    "\n",
    "def say_something(message):\n",
    "    return 'I want to say ' + message\n",
    "\n",
    "print('Call with wrapper:')\n",
    "say_something = decorator_function(say_something)\n",
    "print(say_something('hi'))"
   ]
  },
  {
   "cell_type": "markdown",
   "metadata": {},
   "source": [
    "# Reference\n",
    "\n",
    "[dyanmic functionality; stacked decorators;wrapper using class](https://www.youtube.com/watch?v=FsAPt_9Bf3U)"
   ]
  },
  {
   "cell_type": "markdown",
   "metadata": {},
   "source": [
    "# Future Studies\n",
    "\n",
    "\n",
    "\n",
    "[Mutalbe and immutalbe, and copy](https://alexkataev.medium.com/magic-python-mutable-vs-immutable-and-how-to-copy-objects-908bffb811fa)\n",
    "\n",
    "The variable scoping rule in class may look different from typical python functions as mentioned [in the SECOND answer](https://stackoverflow.com/questions/51117397/why-method-cant-access-class-variable) on stackoverflow.\n",
    "\n",
    "[the super() magic of class inheritance](https://stackoverflow.com/questions/19608134/why-is-python-3-xs-super-magic)\n",
    "\n",
    "[iterable and iterator](https://www.w3schools.com/python/python_iterators.asp)\n",
    "\n",
    "[name alias; first-class object](https://stackoverflow.com/questions/28309757/instancing-a-class-difference-between-with-and-without-brackets)\n",
    "\n",
    "[order of \"not\", \"and\", and \"or\" operations and non-boolean inputs](https://en.wikibooks.org/wiki/Python_Programming/Operators#Logical_Operators)"
   ]
  },
  {
   "cell_type": "markdown",
   "metadata": {},
   "source": []
  }
 ],
 "metadata": {
  "interpreter": {
   "hash": "2637a4237c9832f1722b2cd300ef9b76dbc03b8bb4d86f4166da260fe841abb3"
  },
  "kernelspec": {
   "display_name": "Python 3.7.9 64-bit",
   "language": "python",
   "name": "python3"
  },
  "language_info": {
   "codemirror_mode": {
    "name": "ipython",
    "version": 3
   },
   "file_extension": ".py",
   "mimetype": "text/x-python",
   "name": "python",
   "nbconvert_exporter": "python",
   "pygments_lexer": "ipython3",
   "version": "3.7.9"
  },
  "orig_nbformat": 4
 },
 "nbformat": 4,
 "nbformat_minor": 2
}
