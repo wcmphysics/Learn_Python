{
 "cells": [
  {
   "cell_type": "code",
   "execution_count": null,
   "metadata": {},
   "outputs": [],
   "source": []
  },
  {
   "cell_type": "markdown",
   "metadata": {},
   "source": [
    "# Decorators - Getter, Setter, and Deleter\n",
    "\n",
    "The idea is to make python treat a method like an attribute, so as to ease code maintainance."
   ]
  },
  {
   "cell_type": "markdown",
   "metadata": {},
   "source": [
    "### The Problem\n",
    "\n",
    "In the following example, when an attribute is updated, we see attributes calculated in `__init__` is not updated:"
   ]
  },
  {
   "cell_type": "code",
   "execution_count": null,
   "metadata": {},
   "outputs": [
    {
     "name": "stdout",
     "output_type": "stream",
     "text": [
      "Toyota 30000\n",
      "Brand: Toyota ; Price: 30000\n",
      "\n",
      "Note that \"self.info\" is not updated after setting \"brand\"\n",
      "BMW 30000\n",
      "Brand: Toyota ; Price: 30000\n"
     ]
    }
   ],
   "source": [
    "class car:\n",
    "\n",
    "    def __init__(self, brand, price):\n",
    "        self.brand = brand\n",
    "        self.price = price\n",
    "        self.info = 'Brand: ' + str(self.brand) + ' ; Price: ' + str(self.price)\n",
    "    \n",
    "a = car('Toyota', 30000)\n",
    "print(a.brand, a.price)\n",
    "print(a.info)\n",
    "print()\n",
    "\n",
    "print('Note that \"self.info\" is not updated after setting \"brand\"')\n",
    "a.brand = 'BMW'\n",
    "print(a.brand, a.price)\n",
    "print(a.info)"
   ]
  },
  {
   "cell_type": "markdown",
   "metadata": {},
   "source": [
    "An intuitive way to fix it is to remove `self.info` attribute and make it a method:\n",
    "\n",
    "    def info(self):\n",
    "        return 'Brand: ' + str(self.brand) + ' ; Price: ' + str(self.price)\n",
    "\n",
    "But with this change every call to `self.info` has to be changed to `self.info()`. This might be combersome if `self.info` has wide-spread usage already in other codes."
   ]
  },
  {
   "cell_type": "markdown",
   "metadata": {},
   "source": [
    "### The Solution\n",
    "\n",
    "The problem can be solved by making python to treat a method as if it is an attribute through decorator:\n",
    "\n",
    " - Add `@property` decorator to the method `my_method` to be treated as an attribute. This is the \"getter\" of the attribute.\n",
    " - Construct \"setter\" method by `@my_method.setter` decorator.\n",
    " - Construct \"deleter\" method by `@my_method.deleter` decorator.\n",
    " - All of the three methods shares the same name `my_method`.\n",
    "\n",
    "Now the method `my_method()` can be accessed like an attribute `my_method`.\n",
    "\n",
    "Note that setter only takes one input, as the method is treated like an attribute, which only takes one input."
   ]
  },
  {
   "cell_type": "code",
   "execution_count": null,
   "metadata": {},
   "outputs": [
    {
     "name": "stdout",
     "output_type": "stream",
     "text": [
      "Toyota 30000\n",
      "Brand: Toyota ; Price: 30000\n",
      "\n",
      "Getting \"info\" as if it is an attribute\n",
      "BMW 30000\n",
      "Brand: BMW ; Price: 30000\n",
      "\n",
      "Setting \"info\" as if it is an attribute\n",
      "Brand: VW ; Price: 40000\n",
      "\n",
      "Deleting \"info\" as if it is an attribute\n",
      "Brand: None ; Price: None\n"
     ]
    }
   ],
   "source": [
    "class car:\n",
    "\n",
    "    def __init__(self, brand, price):\n",
    "        self.brand = brand\n",
    "        self.price = price\n",
    "        #self.info = 'Brand: ' + str(self.brand) + ' ; Price: ' + str(self.price)\n",
    "\n",
    "    @property\n",
    "    def info(self):\n",
    "        return 'Brand: ' + str(self.brand) + ' ; Price: ' + str(self.price)\n",
    "\n",
    "    @info.setter\n",
    "    def info(self, the_input):\n",
    "        brand, price = the_input\n",
    "        self.brand = brand\n",
    "        self.price = price\n",
    "    \n",
    "    @info.deleter\n",
    "    def info(self):\n",
    "        self.brand = None\n",
    "        self.price = None\n",
    "\n",
    "\n",
    "\n",
    "a = car('Toyota', 30000)\n",
    "print(a.brand, a.price)\n",
    "print(a.info)\n",
    "print()\n",
    "\n",
    "print('Getting \"info\" as if it is an attribute')\n",
    "a.brand = 'BMW'\n",
    "print(a.brand, a.price)\n",
    "print(a.info)\n",
    "print()\n",
    "\n",
    "print('Setting \"info\" as if it is an attribute')\n",
    "a.info = ['VW', 40000]\n",
    "print(a.info)\n",
    "print()\n",
    "\n",
    "print('Deleting \"info\" as if it is an attribute')\n",
    "del a.info\n",
    "print(a.info)\n"
   ]
  },
  {
   "cell_type": "markdown",
   "metadata": {},
   "source": [
    "An alternative way to designate the getter, setter, and deleter of a method treated as an attribute is by the the property function (this gives you the freedom for function names and attribute names):"
   ]
  },
  {
   "cell_type": "code",
   "execution_count": null,
   "metadata": {},
   "outputs": [
    {
     "name": "stdout",
     "output_type": "stream",
     "text": [
      "Toyota 30000\n",
      "Brand: Toyota ; Price: 30000\n",
      "\n",
      "Getting \"info\" as if it is an attribute\n",
      "BMW 30000\n",
      "Brand: BMW ; Price: 30000\n",
      "\n",
      "Setting \"info\" as if it is an attribute\n",
      "Brand: VW ; Price: 40000\n",
      "\n",
      "Deleting \"info\" as if it is an attribute\n",
      "Brand: None ; Price: None\n"
     ]
    }
   ],
   "source": [
    "class car:\n",
    "\n",
    "    def __init__(self, brand, price):\n",
    "        self.brand = brand\n",
    "        self.price = price\n",
    "        #self.info = 'Brand: ' + str(self.brand) + ' ; Price: ' + str(self.price)\n",
    "\n",
    "    def info1(self):\n",
    "        return 'Brand: ' + str(self.brand) + ' ; Price: ' + str(self.price)\n",
    "\n",
    "    def info2(self, the_input): # the name of the method should be the same as the property one!\n",
    "        brand, price = the_input\n",
    "        self.brand = brand\n",
    "        self.price = price\n",
    "    \n",
    "    def info3(self):\n",
    "        self.brand = None\n",
    "        self.price = None\n",
    "\n",
    "    info = property(fget=info1, fset=info2, fdel=info3)\n",
    "\n",
    "\n",
    "\n",
    "a = car('Toyota', 30000)\n",
    "print(a.brand, a.price)\n",
    "print(a.info)\n",
    "print()\n",
    "\n",
    "print('Getting \"info\" as if it is an attribute')\n",
    "a.brand = 'BMW'\n",
    "print(a.brand, a.price)\n",
    "print(a.info)\n",
    "print()\n",
    "\n",
    "print('Setting \"info\" as if it is an attribute')\n",
    "a.info = ['VW', 40000]\n",
    "print(a.info)\n",
    "print()\n",
    "\n",
    "print('Deleting \"info\" as if it is an attribute')\n",
    "del a.info\n",
    "print(a.info)"
   ]
  },
  {
   "cell_type": "markdown",
   "metadata": {},
   "source": [
    "See also: data encapsulation: [using property function](https://www.geeksforgeeks.org/getter-and-setter-in-python/#:~:text=Basically%2C%20the%20main%20purpose%20of,in%20other%20object%20oriented%20languages.) and [many info in the second answer](https://stackoverflow.com/questions/2627002/whats-the-pythonic-way-to-use-getters-and-setters)"
   ]
  },
  {
   "attachments": {},
   "cell_type": "markdown",
   "metadata": {},
   "source": [
    "# Reference\n",
    "\n"
   ]
  }
 ],
 "metadata": {
  "kernelspec": {
   "display_name": "Python 3",
   "language": "python",
   "name": "python3"
  },
  "language_info": {
   "name": "python",
   "version": "3.7.9 (tags/v3.7.9:13c94747c7, Aug 17 2020, 18:58:18) [MSC v.1900 64 bit (AMD64)]"
  },
  "orig_nbformat": 4,
  "vscode": {
   "interpreter": {
    "hash": "2637a4237c9832f1722b2cd300ef9b76dbc03b8bb4d86f4166da260fe841abb3"
   }
  }
 },
 "nbformat": 4,
 "nbformat_minor": 2
}
