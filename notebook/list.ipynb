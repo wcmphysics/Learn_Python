{
 "cells": [
  {
   "cell_type": "markdown",
   "metadata": {},
   "source": [
    "# List\n"
   ]
  },
  {
   "cell_type": "markdown",
   "metadata": {
    "vscode": {
     "languageId": "python"
    }
   },
   "source": [
    "Items in a list can be accessed by index:"
   ]
  },
  {
   "cell_type": "code",
   "execution_count": 4,
   "metadata": {},
   "outputs": [
    {
     "name": "stdout",
     "output_type": "stream",
     "text": [
      "1 3 [1, 2, 3]\n"
     ]
    }
   ],
   "source": [
    "a = [1, 2, 3]\n",
    "print(a[0], a[-1], a[:])"
   ]
  },
  {
   "cell_type": "markdown",
   "metadata": {},
   "source": [
    "## Slice\n",
    "The rule for slice can be applied to any sequence object (string, list, tuple, range, or bytes).\n",
    "\n",
    "The actual interpretation is given in [python documentation](https://docs.python.org/3/library/stdtypes.html#sequence-types-list-tuple-range)"
   ]
  },
  {
   "cell_type": "markdown",
   "metadata": {},
   "source": [
    "Format: `start:end(exclusive):step`\n",
    "\n",
    "The `step` is default to 1 and it cannot be 0.\n",
    "\n",
    "Normal index: integers between 0 and the len(sequence)-1 in question (two boundaries included).\n",
    "\n",
    "if `step` > 0:\n",
    "1. Shift `start` to normal index `start_n`.\n",
    "2. Shift `end` to normal index `end_n`\n",
    "3. If `end_n < start_n`, return empty sequence. (opposite if `step` <0)\n",
    "4. Otherwise, create an empty return sequence and follow the procedures:\n",
    "   1. Set index `i` to `start_n`\n",
    "   2. Check if  `i < end_n`\n",
    "   3. If yes, add the `i`th item of the sequence into the return sequence\n",
    "   3. Let `i = i + step` and return to 2nd step\n",
    "   4. If no, return the return sequence (it could be empty)\n",
    "\n",
    "if `step` < 0:\n",
    "\n",
    "I cannot find a solid rules for negative step. Here are some resources:\n",
    "\n",
    " - [Implementation-wise, the second answer appears to be correct (stackoverflow)](https://stackoverflow.com/questions/12521798/what-are-the-default-slice-indices-really)\n",
    " - [Saying the default values of start and end depends on objects applied (stackoverflow)](https://stackoverflow.com/questions/45682816/what-are-the-default-values-set-to-in-a-slice)\n",
    " - [Python interpreter source code](https://github.com/python/cpython/blob/143be366295038b36fc32c44b8e1b48a375eab56/Objects/unicodeobject.c#L9239)\n",
    " - [Inconclusive python documentation (see note 3, 4, and 5 of this linked section)](https://docs.python.org/3/library/stdtypes.html#sequence-types-list-tuple-range)\n",
    "\n",
    "For now I should just use `[::-1]` for reversed sequence."
   ]
  },
  {
   "cell_type": "code",
   "execution_count": 5,
   "metadata": {},
   "outputs": [
    {
     "name": "stdout",
     "output_type": "stream",
     "text": [
      "<class 'str'> \n",
      "<class 'tuple'> ()\n",
      "<class 'list'> []\n"
     ]
    }
   ],
   "source": [
    "#   -7654321\n",
    "#    0123456\n",
    "s = '0123456'\n",
    "t = (0,1,2,3,4,5,6)\n",
    "l = [0,1,2,3,4,5,6]\n",
    "so = slice(-5, 0, 1)\n",
    "print(type(s[so]), s[so])\n",
    "print(type(t[so]), t[so])\n",
    "print(type(l[so]), l[so])\n"
   ]
  },
  {
   "cell_type": "code",
   "execution_count": 73,
   "metadata": {},
   "outputs": [
    {
     "name": "stdout",
     "output_type": "stream",
     "text": [
      "Sequence length: 7\n",
      "When start = None, start seems to be set to len(s) -1 (or just -1)\n",
      "6543210\n",
      "6543210\n",
      "6543210\n",
      "When end = None, end seems to be set to -len(s) -1, but somehow it is NOT equivalent to -1 (no shift?)\n",
      "6543210\n",
      "6543210\n",
      "\n",
      "If following the rule for positive step (but change step 3 to \"If `end_n > start_n`, return empty sequence.\"),\n",
      "the results are not following the rule\n",
      "None:None:-1 => 6543210\n",
      "6:-8:-1 => 6543210\n",
      "6:-1:-1 => \n",
      "6:13:-1 => \n",
      "-1:-8:-1 => 6543210\n",
      "-8:-8:-1 => \n",
      "-1:-1:-1 => \n"
     ]
    }
   ],
   "source": [
    "L = len(s)\n",
    "print(f'Sequence length: {L}')\n",
    "\n",
    "print('When start = None, start seems to be set to len(s) -1 (or just -1)')\n",
    "print(s[   ::-1])\n",
    "print(s[L-1::-1]) \n",
    "print(s[ -1::-1]) \n",
    "\n",
    "print('When end = None, end seems to be set to -len(s) -1, but somehow it is NOT equivalent to -1 (no shift?)')\n",
    "print(s[:    :-1])\n",
    "print(s[:-L-1:-1])\n",
    "print(s[:  -1:-1]) #empty\n",
    "\n",
    "print('If following the rule for positive step (but change step 3 to \"If `end_n > start_n`, return empty sequence.\"),')\n",
    "print('the results are not following the rule')\n",
    "print(f'{None}:{None}:{-1} =>', s[    :    :-1])\n",
    "print(f'{ L-1}:{-L-1}:{-1} =>', s[ L-1:-L-1:-1]) # using the guess from above inductions is OK\n",
    "print(f'{ L-1}:{  -1}:{-1} =>', s[ L-1:  -1:-1]) # shifting end makes it empty\n",
    "print(f'{  -1}:{-L-1}:{-1} =>', s[  -1:-L-1:-1]) # shifting start is OK in this case\n",
    "print(f'{-L-1}:{-L-1}:{-1} =>', s[-L-1:-L-1:-1]) # shifting start is NOT OK in this case\n",
    "print(f'{  -1}:{  -1}:{-1} =>', s[  -1:  -1:-1]) # empty\n"
   ]
  },
  {
   "cell_type": "code",
   "execution_count": 2,
   "metadata": {},
   "outputs": [
    {
     "name": "stdout",
     "output_type": "stream",
     "text": [
      "[1, 2, 3]\n"
     ]
    }
   ],
   "source": [
    "print(a)"
   ]
  },
  {
   "cell_type": "markdown",
   "metadata": {},
   "source": [
    "# Reference\n",
    "\n",
    "For full list of functions, see [w3school web page](https://www.w3schools.com/python/python_ref_list.asp)."
   ]
  },
  {
   "cell_type": "markdown",
   "metadata": {},
   "source": []
  }
 ],
 "metadata": {
  "interpreter": {
   "hash": "ad597f9e8b4428237be062af5123ef6420a133db2239bb743f11db46ae6073a2"
  },
  "kernelspec": {
   "display_name": "Python 3.9.4 64-bit ('3.9.4')",
   "language": "python",
   "name": "python3"
  },
  "language_info": {
   "codemirror_mode": {
    "name": "ipython",
    "version": 3
   },
   "file_extension": ".py",
   "mimetype": "text/x-python",
   "name": "python",
   "nbconvert_exporter": "python",
   "pygments_lexer": "ipython3",
   "version": "3.9.4"
  },
  "orig_nbformat": 4
 },
 "nbformat": 4,
 "nbformat_minor": 2
}
