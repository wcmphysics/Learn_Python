{
 "cells": [
  {
   "cell_type": "markdown",
   "metadata": {},
   "source": [
    "# String\n"
   ]
  },
  {
   "cell_type": "markdown",
   "metadata": {},
   "source": [
    "Content of a string can be inferred by index:"
   ]
  },
  {
   "cell_type": "code",
   "execution_count": 14,
   "metadata": {},
   "outputs": [
    {
     "name": "stdout",
     "output_type": "stream",
     "text": [
      "a e bc\n"
     ]
    }
   ],
   "source": [
    "a = 'abcde'\n",
    "print(a[0], a[-1], a[1:3])\n"
   ]
  },
  {
   "cell_type": "markdown",
   "metadata": {},
   "source": [
    "## Immutable\n",
    "Strings are not immutable (contents and positions fixed in memory). \n",
    "\n",
    "Note that the variable \"a\" here is a pointer (can point to any data type), not a string:"
   ]
  },
  {
   "cell_type": "code",
   "execution_count": 11,
   "metadata": {},
   "outputs": [
    {
     "name": "stdout",
     "output_type": "stream",
     "text": [
      "Memory position of \"a\" before assignment:\n",
      " <method-wrapper '__repr__' of str object at 0x000001D759C7EC70>\n",
      "Memory position of 'a' after assignment:\n",
      " <method-wrapper '__repr__' of str object at 0x000001D759C78D30>\n",
      "<method-wrapper '__repr__' of str object at 0x000001D7543624B0>\n",
      "<method-wrapper '__repr__' of str object at 0x000001D7543624B0>\n"
     ]
    }
   ],
   "source": [
    "a = \"a a a\"\n",
    "print('Memory position of \"a\" before assignment:\\n', a.__repr__)\n",
    "a = 'c c c'\n",
    "print(\"Memory position of 'a' after assignment:\\n\", a.__repr__)"
   ]
  },
  {
   "cell_type": "markdown",
   "metadata": {},
   "source": [
    "## replace()\n",
    "Replace the 1st with the 2nd input."
   ]
  },
  {
   "cell_type": "code",
   "execution_count": 15,
   "metadata": {},
   "outputs": [
    {
     "name": "stdout",
     "output_type": "stream",
     "text": [
      "original: a a a\n",
      "replace a by b:\n",
      " b b b\n",
      "replace 1 time(s):\n",
      " b a a\n"
     ]
    }
   ],
   "source": [
    "a = \"a a a\"\n",
    "print('original:',a)\n",
    "print('replace a by b:\\n', a.replace(\"a\", \"b\"))\n",
    "\n",
    "count = 1 # -1 for default\n",
    "print(f'replace {count} time(s):\\n', a.replace(\"a\", \"b\", count)) "
   ]
  },
  {
   "cell_type": "markdown",
   "metadata": {},
   "source": [
    "There is no function \"replaced\"."
   ]
  },
  {
   "cell_type": "markdown",
   "metadata": {},
   "source": [
    "## find()\n",
    "\n",
    "Find the index of first match. Return -1 if no match."
   ]
  },
  {
   "cell_type": "code",
   "execution_count": 52,
   "metadata": {},
   "outputs": [
    {
     "name": "stdout",
     "output_type": "stream",
     "text": [
      "Position of the substring \"b c\" is: 2\n"
     ]
    }
   ],
   "source": [
    "a = 'a b c b c'\n",
    "print('Position of the substring \"b c\" is:', a.find('b c'))"
   ]
  },
  {
   "cell_type": "markdown",
   "metadata": {},
   "source": [
    "## isalpha(), isnumeric(), isalnum(), isdecimal, isupper(), islower()\n",
    "Detect if the string is composed of alphabetics, numerics, alphabetics or numerics, decimal numbers upper-case, lower-case."
   ]
  },
  {
   "cell_type": "code",
   "execution_count": 61,
   "metadata": {},
   "outputs": [
    {
     "name": "stdout",
     "output_type": "stream",
     "text": [
      "False\n",
      "True\n",
      "True\n",
      "True\n",
      "False\n",
      "False\n"
     ]
    }
   ],
   "source": [
    "a = '12'\n",
    "print(a.isalpha())\n",
    "print(a.isnumeric())\n",
    "print(a.isalnum())\n",
    "print(a.isdecimal())\n",
    "print(a.isupper())\n",
    "print(a.islower())\n"
   ]
  },
  {
   "cell_type": "markdown",
   "metadata": {},
   "source": [
    "## translate()\n",
    "Replace a character by another using a dictionary (or a \"mapping table\")."
   ]
  },
  {
   "cell_type": "code",
   "execution_count": 47,
   "metadata": {},
   "outputs": [
    {
     "name": "stdout",
     "output_type": "stream",
     "text": [
      "ABcd\n"
     ]
    }
   ],
   "source": [
    "mapping = { 97 : 65,  # a : A\n",
    "            98 : 66,  # b : B\n",
    "            101: None # c : None\n",
    "}\n",
    "\n",
    "string = 'abcde'\n",
    "print(string.translate(mapping))"
   ]
  },
  {
   "cell_type": "markdown",
   "metadata": {},
   "source": [
    "The dictonary must use ASCII codes, which can be genearte using `ord()` and verified by `chr()`:"
   ]
  },
  {
   "cell_type": "code",
   "execution_count": 8,
   "metadata": {},
   "outputs": [
    {
     "name": "stdout",
     "output_type": "stream",
     "text": [
      "ASCII code number for the character \"B\": 66\n",
      "The character for the ASCII code number 66: B\n"
     ]
    }
   ],
   "source": [
    "character = 'B'\n",
    "ascii_code = ord(character)\n",
    "print(f'ASCII code number for the character \"{character}\":', ascii_code)\n",
    "print(f'The character for the ASCII code number {ascii_code}:', chr(ascii_code))\n"
   ]
  },
  {
   "cell_type": "markdown",
   "metadata": {},
   "source": [
    "\n",
    "Additionally, an example using a mapping table:"
   ]
  },
  {
   "cell_type": "code",
   "execution_count": 48,
   "metadata": {},
   "outputs": [
    {
     "name": "stdout",
     "output_type": "stream",
     "text": [
      "ABcd\n"
     ]
    }
   ],
   "source": [
    "txt = 'abcde'\n",
    "table = txt.maketrans('ab', 'AB', 'e') # the third input remove characters\n",
    "print(txt.translate(table))"
   ]
  },
  {
   "cell_type": "markdown",
   "metadata": {},
   "source": [
    "## strip(), rstrip(), lstrip() \n",
    "Trim a specific character (white space as default) of a string from the two sides, right, and left."
   ]
  },
  {
   "cell_type": "code",
   "execution_count": 69,
   "metadata": {},
   "outputs": [
    {
     "name": "stdout",
     "output_type": "stream",
     "text": [
      "Original  : # 12 34 #\n",
      "left-strip: #12 34 ###\n",
      "strip     : #12 34#\n"
     ]
    }
   ],
   "source": [
    "a = ' 12 34 '\n",
    "print(f'Original  : #{a}#')\n",
    "print(f'left-strip: #{a.lstrip()}###')\n",
    "print(f'strip     : #{a.strip()}#')"
   ]
  },
  {
   "cell_type": "markdown",
   "metadata": {},
   "source": [
    "## ljust(), rjust()\n",
    "Return a left and right justified string with specified length and character (default to white space)."
   ]
  },
  {
   "cell_type": "code",
   "execution_count": 4,
   "metadata": {},
   "outputs": [
    {
     "name": "stdout",
     "output_type": "stream",
     "text": [
      "# abc#\n",
      "#123456#\n",
      "# abc  #\n",
      "# abc00#\n"
     ]
    }
   ],
   "source": [
    "a = ' abc'\n",
    "print(f'#{a}#')\n",
    "print(f'#123456#')\n",
    "print(f'#{a.ljust(6)}#')\n",
    "print(f\"#{a.ljust(6, '0')}#\")"
   ]
  },
  {
   "cell_type": "markdown",
   "metadata": {},
   "source": [
    "## split(), join()\n",
    "\n",
    "Split a string using a specified substring as splitter for specified number of time (default to -1, ie all)."
   ]
  },
  {
   "cell_type": "code",
   "execution_count": 5,
   "metadata": {},
   "outputs": [
    {
     "name": "stdout",
     "output_type": "stream",
     "text": [
      "['a', 'b', 'c', 'd'] <class 'list'>\n",
      "['a', 'b-c-d']\n"
     ]
    }
   ],
   "source": [
    "a = 'a-b-c-d'\n",
    "print(a.split('-'), type(a.split('-')))\n",
    "print(a.split('-', 1))\n"
   ]
  },
  {
   "cell_type": "markdown",
   "metadata": {},
   "source": [
    "Join strings in a list using a specified jointer."
   ]
  },
  {
   "cell_type": "code",
   "execution_count": 100,
   "metadata": {},
   "outputs": [
    {
     "name": "stdout",
     "output_type": "stream",
     "text": [
      "Many strings to join: ['a', 'b', 'c', 'd']\n",
      "The string after join with '-': a-b-c-d\n"
     ]
    }
   ],
   "source": [
    "b = a.split(\"-\")\n",
    "print(\"Many strings to join:\", b)\n",
    "jointer = '-'\n",
    "print(f\"The string after join with '{jointer}': {jointer.join(b)}\")"
   ]
  },
  {
   "cell_type": "markdown",
   "metadata": {},
   "source": [
    "# Reference\n",
    "\n",
    "For full list of functions, see [w3school web page](https://www.w3schools.com/python/python_ref_string.asp)."
   ]
  }
 ],
 "metadata": {
  "interpreter": {
   "hash": "c0399b6e004a1fba73ab3efe320d4b7d5faa36f21863df3f81f67611c698a3bb"
  },
  "kernelspec": {
   "display_name": "Python 3.7.9 64-bit",
   "language": "python",
   "name": "python3"
  },
  "language_info": {
   "codemirror_mode": {
    "name": "ipython",
    "version": 3
   },
   "file_extension": ".py",
   "mimetype": "text/x-python",
   "name": "python",
   "nbconvert_exporter": "python",
   "pygments_lexer": "ipython3",
   "version": "3.7.9"
  },
  "orig_nbformat": 4
 },
 "nbformat": 4,
 "nbformat_minor": 2
}
