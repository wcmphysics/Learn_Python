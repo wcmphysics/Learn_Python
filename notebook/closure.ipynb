{
 "cells": [
  {
   "attachments": {},
   "cell_type": "markdown",
   "metadata": {},
   "source": [
    "# Closure in Functions\n",
    "\n",
    "Closure means, in a nested function structure, an inner function keeps variables of outer functions even if the outer function is terminated.\n",
    "\n",
    "Closure is highly related to first class object."
   ]
  },
  {
   "attachments": {},
   "cell_type": "markdown",
   "metadata": {},
   "source": [
    "Here is a quick example utlizing the idea of closure:"
   ]
  },
  {
   "cell_type": "code",
   "execution_count": 12,
   "metadata": {},
   "outputs": [
    {
     "name": "stdout",
     "output_type": "stream",
     "text": [
      "Print the variable b shows that b is now \"inner_function\":\n",
      "<function outer_function.<locals>.inner_function at 0x0000022C2FDE5798>\n",
      "Print b's function name: inner_function\n",
      "\n",
      "Execute b:\n",
      "this is a variable outside the inner function\n"
     ]
    }
   ],
   "source": [
    "def outer_function():\n",
    "    a = 'this is a variable outside the inner function'\n",
    "    def inner_function():\n",
    "        print(a)\n",
    "    return inner_function\n",
    "\n",
    "b = outer_function()\n",
    "print('Print the variable b shows that b is now \"inner_function\":')\n",
    "print(b)\n",
    "print('''Print b's function name:''', b.__name__)\n",
    "print()\n",
    "print('Execute b:')\n",
    "b()"
   ]
  },
  {
   "attachments": {},
   "cell_type": "markdown",
   "metadata": {},
   "source": [
    "Note that `b` becomes the function `inner_function` since `outer_function()` returns `inner_function`. \n",
    "\n",
    "One normally thinks the value of `a` is lost after the line `b = outer_function()` was executed. However, when we run the `inner_function` by `b()`, it successfully sees the value of `a` and yields the correct result.\n",
    "\n",
    "Therefore, the value of `a` behaves as if it was enclosed/recorded/captured inside the inner function `inner_function` in the nested structure. This is called \"closure\" in Python."
   ]
  },
  {
   "attachments": {},
   "cell_type": "markdown",
   "metadata": {},
   "source": [
    "### Another example\n",
    "\n",
    "Here is the code for a simple counter:"
   ]
  },
  {
   "cell_type": "code",
   "execution_count": 11,
   "metadata": {},
   "outputs": [
    {
     "name": "stdout",
     "output_type": "stream",
     "text": [
      "10\n",
      "11\n",
      "12\n",
      "14\n",
      "16\n",
      "18\n"
     ]
    }
   ],
   "source": [
    "def counter(starting_count):\n",
    "    c = starting_count -1\n",
    "\n",
    "    def count(step_of_count=1):\n",
    "        nonlocal c # the value of c is \"enclosed\" in this inner function\n",
    "        c += step_of_count\n",
    "        return c\n",
    "\n",
    "    return count\n",
    "\n",
    "\n",
    "count_from_ten = counter(10)\n",
    "\n",
    "print(count_from_ten())\n",
    "print(count_from_ten())\n",
    "print(count_from_ten())\n",
    "\n",
    "print(count_from_ten(2))\n",
    "print(count_from_ten(2))\n",
    "print(count_from_ten(2))"
   ]
  }
 ],
 "metadata": {
  "kernelspec": {
   "display_name": "Python 3",
   "language": "python",
   "name": "python3"
  },
  "language_info": {
   "codemirror_mode": {
    "name": "ipython",
    "version": 3
   },
   "file_extension": ".py",
   "mimetype": "text/x-python",
   "name": "python",
   "nbconvert_exporter": "python",
   "pygments_lexer": "ipython3",
   "version": "3.7.9"
  },
  "orig_nbformat": 4,
  "vscode": {
   "interpreter": {
    "hash": "2637a4237c9832f1722b2cd300ef9b76dbc03b8bb4d86f4166da260fe841abb3"
   }
  }
 },
 "nbformat": 4,
 "nbformat_minor": 2
}
