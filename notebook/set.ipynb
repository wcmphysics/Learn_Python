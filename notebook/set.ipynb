{
 "cells": [
  {
   "cell_type": "markdown",
   "metadata": {},
   "source": [
    "# Set\n",
    "\n",
    "Set is fast for set operations, and it can only accept immutable objects (so they are hashable, enabling fast queries). \n",
    "\n",
    "One can make immutable set, which is called a frozen set, by `frozenset(iterable)`. This frozen set can be used as keys in dictionaries or an element in other sets.\n",
    "\n",
    "Elements in set will be unique.\n",
    "\n",
    "An empty set can be created by `empty_set = set()`. Note that you can NOT use `empty_set = {}` as `{}` is default to be a dictionary. \n",
    "\n",
    "The methods `clear()` and `copy()` make a set empty and create a copy (1-level deep)."
   ]
  },
  {
   "cell_type": "markdown",
   "metadata": {},
   "source": [
    "# Set Creation\n",
    "\n",
    "By simple assignment or through a sequence (note that repeated items are reduced to just one item):"
   ]
  },
  {
   "cell_type": "code",
   "execution_count": 1,
   "metadata": {},
   "outputs": [
    {
     "name": "stdout",
     "output_type": "stream",
     "text": [
      "{1, 2, 'banana', 'car'}\n",
      "{1, 2}\n"
     ]
    }
   ],
   "source": [
    "a = {\n",
    "    1,\n",
    "    2,\n",
    "    2,\n",
    "    2,\n",
    "    'car', \n",
    "    'banana'\n",
    "}\n",
    "print(a)\n",
    "\n",
    "b = set([1, 2, 'car', 'banana'])\n",
    "b = set({1: 'a', 2: 'b'})\n",
    "print(b)\n"
   ]
  },
  {
   "cell_type": "markdown",
   "metadata": {},
   "source": [
    "# Adding and Removing Items\n",
    "An item can be added to the set by `add()` (in-place operation returning `None`).\n",
    "\n",
    "An item can be removed from the set by `remove()` (in-place operation returning `None`). Use `discard()` instead of `remove()` to ignore error if the item does not exist.\n",
    "\n",
    "Use `pop()` (in-place operation returning the popped item) to remove an [arbitray (but not random)](https://stackoverflow.com/questions/44605255/what-is-the-most-pythonic-way-to-pop-a-random-element-from-a-set-in-python3-6) item."
   ]
  },
  {
   "cell_type": "code",
   "execution_count": 2,
   "metadata": {},
   "outputs": [
    {
     "name": "stdout",
     "output_type": "stream",
     "text": [
      "a: {1, 2, 'banana', 'car'}\n",
      "After add(): {1, 2, 3, 'banana', 'car'}\n",
      "After remove(): {1, 3, 'banana', 'car'}\n",
      "popped item: 1\n",
      "After pop: {3, 'banana', 'car'}\n"
     ]
    }
   ],
   "source": [
    "a = {\n",
    "    1,\n",
    "    2,\n",
    "    'car', \n",
    "    'banana'\n",
    "}\n",
    "print('a:', a)\n",
    "\n",
    "a.add(3)\n",
    "print('After add():', a)\n",
    "\n",
    "a.remove(2)\n",
    "print('After remove():', a)\n",
    "\n",
    "print('popped item:', a.pop())\n",
    "print('After pop:', a)"
   ]
  },
  {
   "cell_type": "markdown",
   "metadata": {},
   "source": [
    "# union(), difference(), intersection(), symmetric_difference()\n",
    "\n",
    "They perform their corresponding set operations. The operations are not in-place and return the result.\n",
    "\n",
    "Symmetric difference of A and B is defined as (A-B) union (B-A).\n",
    "\n",
    "The `-` (minus sign) can be used for difference operation.\n",
    "\n",
    "The in-place versions of the above operations are `update()`, `difference_update()`, `intersection_update()`, and `symmetric_difference_update()` methods. The all return `None`.\n"
   ]
  },
  {
   "cell_type": "code",
   "execution_count": 3,
   "metadata": {},
   "outputs": [
    {
     "name": "stdout",
     "output_type": "stream",
     "text": [
      "a: {1, 2, 'banana', 3, 'car'}\n",
      "b: {'apple', 1, 2, 'car'}\n",
      "a union b: {'apple', 1, 2, 'banana', 3, 'car'}\n",
      "a difference b: {3, 'banana'}\n",
      "a minus b: {3, 'banana'}\n",
      "a intersect b: {1, 2, 'car'}\n",
      "a symmetric difference b: {'apple', 'banana', 3}\n"
     ]
    }
   ],
   "source": [
    "a = set([1, 2, 3, 'car', 'banana'])\n",
    "b = set([1, 2, 'car', 'apple'])\n",
    "print('a:', a)\n",
    "print('b:', b)\n",
    "\n",
    "print('a union b:', a.union(b))\n",
    "\n",
    "print('a difference b:', a.difference(b))\n",
    "print('a minus b:', a - b)\n",
    "\n",
    "print('a intersect b:', a.intersection(b))\n",
    "\n",
    "print('a symmetric difference b:', a.symmetric_difference(b))"
   ]
  },
  {
   "cell_type": "markdown",
   "metadata": {},
   "source": [
    "# Relation: isdisjoint(), issubset(), issuperset()\n",
    "\n",
    "Relation between sets can be verified by the corresponding methods."
   ]
  },
  {
   "cell_type": "code",
   "execution_count": 4,
   "metadata": {},
   "outputs": [
    {
     "name": "stdout",
     "output_type": "stream",
     "text": [
      "a: {1, 2, 'banana', 3, 'car'}\n",
      "b: {1, 2, 'car'}\n",
      "a is disjoint with b: False\n",
      "a is a subset of b: False\n",
      "a is a superset of b: True\n"
     ]
    }
   ],
   "source": [
    "a = set([1, 2, 3, 'car', 'banana'])\n",
    "b = set([1, 2, 'car'])\n",
    "print('a:', a)\n",
    "print('b:', b)\n",
    "\n",
    "print('a is disjoint with b:', a.isdisjoint(b))\n",
    "print('a is a subset of b:', a.issubset(b))\n",
    "print('a is a superset of b:', a.issuperset(b))"
   ]
  },
  {
   "cell_type": "markdown",
   "metadata": {},
   "source": [
    "# Reference\n",
    "\n",
    "For a full list of methods, see [w3school web page](https://www.w3schools.com/python/python_ref_set.asp).\n"
   ]
  }
 ],
 "metadata": {
  "interpreter": {
   "hash": "2637a4237c9832f1722b2cd300ef9b76dbc03b8bb4d86f4166da260fe841abb3"
  },
  "kernelspec": {
   "display_name": "Python 3.7.9 64-bit",
   "language": "python",
   "name": "python3"
  },
  "language_info": {
   "codemirror_mode": {
    "name": "ipython",
    "version": 3
   },
   "file_extension": ".py",
   "mimetype": "text/x-python",
   "name": "python",
   "nbconvert_exporter": "python",
   "pygments_lexer": "ipython3",
   "version": "3.7.9"
  },
  "orig_nbformat": 4
 },
 "nbformat": 4,
 "nbformat_minor": 2
}
