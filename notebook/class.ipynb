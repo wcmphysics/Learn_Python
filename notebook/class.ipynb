{
 "cells": [
  {
   "cell_type": "markdown",
   "metadata": {},
   "source": [
    "# Class"
   ]
  },
  {
   "cell_type": "markdown",
   "metadata": {},
   "source": [
    "## Attributes\n",
    "\n",
    "Class attribute: its value is shared through all instances of the class. To access them inside methods, you should use `class.attribute` instead of just `attribute`.\n",
    "\n",
    "Instance attribute: its value is specific the created instance.\n",
    "\n",
    "If the name of an attribute is shared among class attributes and instance attributes, the instance one is referenced first because init is always executed during instantiation.\n",
    "\n",
    "The variable scoping rule in class may look different from typical python functions. See [the SECOND answer](https://stackoverflow.com/questions/51117397/why-method-cant-access-class-variable) on stackoverflow."
   ]
  },
  {
   "cell_type": "code",
   "execution_count": 46,
   "metadata": {},
   "outputs": [
    {
     "name": "stdout",
     "output_type": "stream",
     "text": [
      "instance attribute\n",
      "class attribute\n",
      "class attributeclass attribute\n",
      "class attributeclass attribute\n"
     ]
    }
   ],
   "source": [
    "class my_class:\n",
    "    x = 'class attribute'\n",
    "    y = 2*my_class.x\n",
    "    z = 2*x\n",
    "\n",
    "    def __init__(self):\n",
    "        self.x = 'instance attribute'\n",
    "        self.y = 2*my_class.x\n",
    "        \n",
    "a = my_class()\n",
    "print(a.x)\n",
    "print(my_class.x)\n",
    "print(my_class.y)\n",
    "print(my_class.z)"
   ]
  },
  {
   "cell_type": "markdown",
   "metadata": {},
   "source": [
    "### Instantiate a Class Instance vs Class Alias\n",
    "\n",
    "Not to be confused by initiating an instance and class alias as they differ by only the parentheses. See [detailed description](https://stackoverflow.com/questions/28309757/instancing-a-class-difference-between-with-and-without-brackets).\n",
    "\n",
    "Note that all python classes belong to the metaclass `type` so type(my_class) returns `type`. See [metaclass in Python](https://realpython.com/python-metaclasses/#:~:text=type%20is%20a%20metaclass%2C%20of,an%20instance%20of%20class%20Foo%20.)."
   ]
  },
  {
   "cell_type": "code",
   "execution_count": 30,
   "metadata": {},
   "outputs": [
    {
     "name": "stdout",
     "output_type": "stream",
     "text": [
      "<class '__main__.my_class'>\n",
      "<class '__main__.my_class'>\n",
      "<class 'type'>\n",
      "<class 'type'>\n",
      "After aliasing, \"a_alias\" can be used as my_class\n",
      "<class '__main__.my_class'>\n"
     ]
    }
   ],
   "source": [
    "class my_class:\n",
    "    x = 'class attribute'\n",
    "\n",
    "a_instance = my_class()\n",
    "a_alias = my_class\n",
    "\n",
    "print(type(my_class()))\n",
    "print(type(a_instance))\n",
    "print(type(my_class))\n",
    "print(type(a_alias))\n",
    "\n",
    "print('After aliasing, \"a_alias\" can be used as my_class')\n",
    "a_another_instance = a_alias()\n",
    "print(type(a_another_instance))"
   ]
  },
  {
   "cell_type": "markdown",
   "metadata": {},
   "source": [
    "# Methods\n",
    "\n",
    "You can define methods specific for the class."
   ]
  },
  {
   "cell_type": "code",
   "execution_count": 39,
   "metadata": {},
   "outputs": [
    {
     "name": "stdout",
     "output_type": "stream",
     "text": [
      "class attribute and instance attribute\n"
     ]
    }
   ],
   "source": [
    "class my_class:\n",
    "    x = 'class attribute'\n",
    "\n",
    "    def __init__(self):\n",
    "        self.x = 'instance attribute'\n",
    "    \n",
    "    def my_funct(self):\n",
    "        return str(my_class.x) + ' and ' + str(self.x)\n",
    "\n",
    "a = my_class()\n",
    "\n",
    "print(a.my_funct())"
   ]
  },
  {
   "cell_type": "markdown",
   "metadata": {},
   "source": [
    "# Reference\n",
    "\n",
    "For more details, see [w3school web page](https://www.w3schools.com/python/python_classes.asp)."
   ]
  },
  {
   "cell_type": "markdown",
   "metadata": {},
   "source": [
    "# Iterable and Iterator\n",
    "\n",
    "For more details, see [w3school web page](https://www.w3schools.com/python/python_iterators.asp)."
   ]
  },
  {
   "cell_type": "markdown",
   "metadata": {},
   "source": []
  }
 ],
 "metadata": {
  "interpreter": {
   "hash": "2637a4237c9832f1722b2cd300ef9b76dbc03b8bb4d86f4166da260fe841abb3"
  },
  "kernelspec": {
   "display_name": "Python 3.7.9 64-bit",
   "language": "python",
   "name": "python3"
  },
  "language_info": {
   "codemirror_mode": {
    "name": "ipython",
    "version": 3
   },
   "file_extension": ".py",
   "mimetype": "text/x-python",
   "name": "python",
   "nbconvert_exporter": "python",
   "pygments_lexer": "ipython3",
   "version": "3.7.9"
  },
  "orig_nbformat": 4
 },
 "nbformat": 4,
 "nbformat_minor": 2
}
