{
 "cells": [
  {
   "cell_type": "markdown",
   "metadata": {},
   "source": [
    "# Class\n",
    "\n",
    "Everything in Python is an object. And a class describes what an object is:\n",
    " - what attributes the object has\n",
    " - what methods (functions) the object can perform\n"
   ]
  },
  {
   "cell_type": "markdown",
   "metadata": {},
   "source": [
    "# Creation of a Class and its Instance\n",
    "\n",
    "The first parameter of any functions in the class is always the instance itself, and is named `self` by convention.\n",
    "\n",
    "General structure of a class:"
   ]
  },
  {
   "cell_type": "code",
   "execution_count": 1,
   "metadata": {},
   "outputs": [
    {
     "name": "stdout",
     "output_type": "stream",
     "text": [
      "codes here are executed when the class is created/imported\n"
     ]
    }
   ],
   "source": [
    "class name_of_the_class:\n",
    "    c_attribute = 'class attribute'\n",
    "    print('codes here are executed when the class is created/imported')\n",
    "\n",
    "    def __init__(self, input_1st, input_2nd):\n",
    "        self.i_attribute =  'instance attribute'\n",
    "        print('codes here are executed when an instance is created')\n",
    "\n",
    "    def this_is_a_method(self, input_1st, input_2nd):\n",
    "        return f'This method has inputs: {input_1st} and {input_2nd}'"
   ]
  },
  {
   "cell_type": "markdown",
   "metadata": {},
   "source": [
    "The special function `__init__` is called (if defined) when creating an instance of the object.\n",
    "\n",
    "Create an instance of the class and execute methods (note `self` is automatically assigned in the simple calls):"
   ]
  },
  {
   "cell_type": "code",
   "execution_count": 2,
   "metadata": {},
   "outputs": [
    {
     "name": "stdout",
     "output_type": "stream",
     "text": [
      "codes here are executed when an instance is created\n",
      "codes here are executed when an instance is created\n"
     ]
    },
    {
     "data": {
      "text/plain": [
       "'This method has inputs: Sun and Cloud'"
      ]
     },
     "execution_count": 2,
     "metadata": {},
     "output_type": "execute_result"
    }
   ],
   "source": [
    "# the two lines are exactly the same\n",
    "a = name_of_the_class('Car', 'Apple') # simple\n",
    "name_of_the_class.__init__(a, 'Car', 'Apple') # formal\n",
    "\n",
    "# the two lines are exactly the same\n",
    "a.this_is_a_method('Sun', 'Cloud') # simple\n",
    "name_of_the_class.this_is_a_method(a, 'Sun', 'Cloud') # formal"
   ]
  },
  {
   "cell_type": "markdown",
   "metadata": {},
   "source": [
    "### Name Alias\n",
    "\n",
    "Not to be confused by the name alias (no parentheses):\n",
    "| Code | Meaning |\n",
    "|---|---|\n",
    "|`a = my_class()` | Instantiate an object of the class |\n",
    "|`a = my_class` | Create an alias to the class |\n",
    "\n",
    "Note that all python classes belong to the metaclass `\"type\"` so type(my_class) returns `type`. See [metaclass in Python](https://realpython.com/python-metaclasses/#:~:text=type%20is%20a%20metaclass%2C%20of,an%20instance%20of%20class%20Foo%20.)."
   ]
  },
  {
   "cell_type": "code",
   "execution_count": 3,
   "metadata": {},
   "outputs": [
    {
     "name": "stdout",
     "output_type": "stream",
     "text": [
      "<class '__main__.my_class'>\n",
      "<class '__main__.my_class'>\n",
      "<class 'type'>\n",
      "<class 'type'>\n",
      "After aliasing, \"a_alias\" can be used as my_class\n",
      "<class '__main__.my_class'>\n"
     ]
    }
   ],
   "source": [
    "# delete the class to ensure fresh start every run\n",
    "if 'my_class' in dir():\n",
    "    del my_class\n",
    "\n",
    "class my_class:\n",
    "    x = 'class attribute'\n",
    "\n",
    "a_instance = my_class()\n",
    "a_alias = my_class\n",
    "\n",
    "print(type(my_class()))\n",
    "print(type(a_instance))\n",
    "\n",
    "print(type(my_class))\n",
    "print(type(a_alias))\n",
    "\n",
    "print('After aliasing, \"a_alias\" can be used as my_class')\n",
    "a_another_instance = a_alias()\n",
    "print(type(a_another_instance))"
   ]
  },
  {
   "cell_type": "markdown",
   "metadata": {},
   "source": [
    "# Attributes\n",
    "\n",
    "- Class attribute: its value is shared through all instances of the class.\n",
    "- Instance attribute: its value is specific the created instance.\n",
    "\n",
    "Order of attribute name search for an instance of the class:\n",
    "1. Instance attribute\n",
    "2. Class attribute\n",
    "\n",
    "To access a class attribute inside the class:\n",
    "|place | by |\n",
    "|---|---|\n",
    "|inside functions | `class_name.class_attribute` |\n",
    "|outside functions | `class_attribute` |\n",
    "\n",
    "Outside the class, class attribute is accessed as usual (`class_name.class_attribute`). \n"
   ]
  },
  {
   "cell_type": "code",
   "execution_count": 14,
   "metadata": {},
   "outputs": [
    {
     "name": "stdout",
     "output_type": "stream",
     "text": [
      "instance attribute specified in __init__\n",
      "instance attribute specified in a method\n",
      "Instance attribute is removed so it refers to class attribute class attribute\n",
      "class attribute modified\n",
      "Class attributes accessed outside the class: class attribute modified\n"
     ]
    }
   ],
   "source": [
    "# delete the class to ensure fresh start every run\n",
    "if 'my_class' in dir():\n",
    "    del my_class\n",
    "\n",
    "\n",
    "class my_class:\n",
    "    x = 'class attribute'\n",
    "\n",
    "    def __init__(self):\n",
    "        self.x = 'instance attribute specified in __init__'\n",
    "    \n",
    "    def method(self):\n",
    "        self.x = 'instance attribute specified in a method'\n",
    "\n",
    "    def delete_instance_attribute(self):\n",
    "        del self.x\n",
    "\n",
    "    def modify_class_attribute(self):\n",
    "        my_class.x = my_class.x + ' modified'\n",
    "\n",
    "a = my_class()\n",
    "print(a.x)\n",
    "\n",
    "a.method()\n",
    "print(a.x)\n",
    "\n",
    "a.delete_instance_attribute()\n",
    "print('Instance attribute is removed so it refers to class attribute', a.x)\n",
    "\n",
    "a.modify_class_attribute()\n",
    "print(a.x)\n",
    "\n",
    "print('Class attributes accessed outside the class:', my_class.x)"
   ]
  },
  {
   "cell_type": "markdown",
   "metadata": {},
   "source": [
    "# Inheritance\n",
    "\n",
    "A class (child/derived class) can inherit all attributes and methods from another class (parent/base class). The inheritance is specified by:\n",
    "\n",
    "    def child_class(parent_class):\n",
    "    "
   ]
  },
  {
   "cell_type": "markdown",
   "metadata": {},
   "source": [
    "# Classmethod and Staticmethod"
   ]
  },
  {
   "cell_type": "markdown",
   "metadata": {},
   "source": [
    "# Decorator"
   ]
  },
  {
   "cell_type": "markdown",
   "metadata": {},
   "source": [
    "# Reference\n",
    "\n",
    "For more details, see [w3school web page](https://www.w3schools.com/python/python_classes.asp)."
   ]
  },
  {
   "cell_type": "markdown",
   "metadata": {},
   "source": [
    "# Future Studies\n",
    "\n",
    "The variable scoping rule in class may look different from typical python functions as mentioned [in the SECOND answer](https://stackoverflow.com/questions/51117397/why-method-cant-access-class-variable) on stackoverflow.\n",
    "\n",
    "[the super() magic of class inheritance](https://stackoverflow.com/questions/19608134/why-is-python-3-xs-super-magic)\n",
    "\n",
    "[iterable and iterator](https://www.w3schools.com/python/python_iterators.asp)\n",
    "\n",
    "[name alias; first-class object](https://stackoverflow.com/questions/28309757/instancing-a-class-difference-between-with-and-without-brackets)\n",
    "\n"
   ]
  }
 ],
 "metadata": {
  "interpreter": {
   "hash": "2637a4237c9832f1722b2cd300ef9b76dbc03b8bb4d86f4166da260fe841abb3"
  },
  "kernelspec": {
   "display_name": "Python 3.7.9 64-bit",
   "language": "python",
   "name": "python3"
  },
  "language_info": {
   "codemirror_mode": {
    "name": "ipython",
    "version": 3
   },
   "file_extension": ".py",
   "mimetype": "text/x-python",
   "name": "python",
   "nbconvert_exporter": "python",
   "pygments_lexer": "ipython3",
   "version": "3.7.9"
  },
  "orig_nbformat": 4
 },
 "nbformat": 4,
 "nbformat_minor": 2
}
