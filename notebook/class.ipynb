{
 "cells": [
  {
   "cell_type": "markdown",
   "metadata": {},
   "source": [
    "# Class\n",
    "\n",
    "Everything in Python is an object. And a class describes what an object is:\n",
    " - what attributes the object has\n",
    " - what methods (functions) the object can perform\n"
   ]
  },
  {
   "cell_type": "markdown",
   "metadata": {},
   "source": [
    "# Creation of a Class and its Instance\n",
    "\n",
    "The first parameter of any functions in the class is always the instance itself, and is named `self` by convention.\n",
    "\n",
    "General structure of a class:"
   ]
  },
  {
   "cell_type": "code",
   "execution_count": 1,
   "metadata": {},
   "outputs": [
    {
     "name": "stdout",
     "output_type": "stream",
     "text": [
      "codes here are executed when the class is created/imported\n"
     ]
    }
   ],
   "source": [
    "class name_of_the_class:\n",
    "    c_attribute = 'class attribute'\n",
    "    print('codes here are executed when the class is created/imported')\n",
    "\n",
    "    def __init__(self, input_1st, input_2nd):\n",
    "        self.i_attribute =  'instance attribute'\n",
    "        print('codes here are executed when an instance is created')\n",
    "\n",
    "    def this_is_a_method(self, input_1st, input_2nd):\n",
    "        return f'This method has inputs: {input_1st} and {input_2nd}'"
   ]
  },
  {
   "cell_type": "markdown",
   "metadata": {},
   "source": [
    "### \\_\\_init\\_\\_()\n",
    "\n",
    "The special function `__init__` is called (if defined) when creating an instance of the object.\n",
    "\n",
    "Create an instance of the class and execute methods (note `self` is automatically assigned in the simple calls):"
   ]
  },
  {
   "cell_type": "code",
   "execution_count": 2,
   "metadata": {},
   "outputs": [
    {
     "name": "stdout",
     "output_type": "stream",
     "text": [
      "codes here are executed when an instance is created\n",
      "codes here are executed when an instance is created\n"
     ]
    },
    {
     "data": {
      "text/plain": [
       "'This method has inputs: Sun and Cloud'"
      ]
     },
     "execution_count": 2,
     "metadata": {},
     "output_type": "execute_result"
    }
   ],
   "source": [
    "# the two lines are exactly the same\n",
    "a = name_of_the_class('Car', 'Apple') # simple\n",
    "name_of_the_class.__init__(a, 'Car', 'Apple') # formal\n",
    "\n",
    "# the two lines are exactly the same\n",
    "a.this_is_a_method('Sun', 'Cloud') # simple\n",
    "name_of_the_class.this_is_a_method(a, 'Sun', 'Cloud') # formal"
   ]
  },
  {
   "cell_type": "markdown",
   "metadata": {},
   "source": [
    "### Special Methods\n",
    "\n",
    "There are other special methods that specify some build-in operations.\n",
    "\n",
    "|Special method| Build-in | Usage| Note|\n",
    "|---|---|---|---|\n",
    "|`__add__(self, other)`  | `+`                 | Class \"addition\" using `+`| |\n",
    "|`__str__(self)`         | `str()` or `__str__`| `str()` and  `print()`| Generally output for user |\n",
    "|`__repr__(self)`        | `__repr__()`        | Fallback for `print()` if `__str__` is not defined| Generally output for developer|\n",
    "|`__len__(self)`         | `len()`             | Return \"length\" of a class instance||\n",
    "|`__getitem__(self, key)`| `[]`                | `a[key]` invokes `a.__getitem__(key)`|  |\n",
    "|`__iter__(self)`        | iterator            | `iter(a)` invokes `a.__iter__()`|  |\n",
    "|`__next__(self)`        | next in iteration   | `next(a)` invokes `a.__next__()`|  |\n",
    "\n",
    "Here is a [list of special method](https://docs.python.org/3/reference/datamodel.html#special-method-names), and a more comprehensive [examples for creating them](https://www.pythonlikeyoumeanit.com/Module4_OOP/Special_Methods.html).\n"
   ]
  },
  {
   "cell_type": "code",
   "execution_count": 3,
   "metadata": {},
   "outputs": [
    {
     "name": "stdout",
     "output_type": "stream",
     "text": [
      "A car of which brand Toyota at a price of 30000 euros\n",
      "70000\n"
     ]
    }
   ],
   "source": [
    "class car:\n",
    "\n",
    "    def __init__(self, brand, price):\n",
    "        self.brand = brand\n",
    "        self.price = price\n",
    "    \n",
    "    # we define addition of two car class instance to be the price sum\n",
    "    def __add__(self, other):\n",
    "        return self.price + other.price\n",
    "\n",
    "    # we define the string output of a car class instance to be its brand and price combined in a string\n",
    "    def __str__(self):\n",
    "        return f'A car of which brand {self.brand} at a price of {self.price} euros'\n",
    "\n",
    "a = car('Toyota', 30000)\n",
    "b = car('BMW', 40000)\n",
    "\n",
    "print(a)\n",
    "print(a+b)\n",
    "    "
   ]
  },
  {
   "cell_type": "markdown",
   "metadata": {},
   "source": [
    "### Name Alias\n",
    "\n",
    "Not to be confused by the name alias (no parentheses):\n",
    "| Code | Meaning |\n",
    "|---|---|\n",
    "|`a = my_class()` | Instantiate an object of the class |\n",
    "|`a = my_class` | Create an alias to the class |\n",
    "\n",
    "Note that all python classes belong to the metaclass `\"type\"` so type(my_class) returns `type`. See [metaclass in Python](https://realpython.com/python-metaclasses/#:~:text=type%20is%20a%20metaclass%2C%20of,an%20instance%20of%20class%20Foo%20.)."
   ]
  },
  {
   "cell_type": "code",
   "execution_count": 4,
   "metadata": {},
   "outputs": [
    {
     "name": "stdout",
     "output_type": "stream",
     "text": [
      "<class '__main__.my_class'>\n",
      "<class '__main__.my_class'>\n",
      "<class 'type'>\n",
      "<class 'type'>\n",
      "After aliasing, \"a_alias\" can be used as my_class\n",
      "<class '__main__.my_class'>\n"
     ]
    }
   ],
   "source": [
    "# delete the class to ensure fresh start every run\n",
    "if 'my_class' in dir():\n",
    "    del my_class\n",
    "\n",
    "class my_class:\n",
    "    x = 'class attribute'\n",
    "\n",
    "a_instance = my_class()\n",
    "a_alias = my_class\n",
    "\n",
    "print(type(my_class()))\n",
    "print(type(a_instance))\n",
    "\n",
    "print(type(my_class))\n",
    "print(type(a_alias))\n",
    "\n",
    "print('After aliasing, \"a_alias\" can be used as my_class')\n",
    "a_another_instance = a_alias()\n",
    "print(type(a_another_instance))"
   ]
  },
  {
   "cell_type": "markdown",
   "metadata": {},
   "source": [
    "# Attributes\n",
    "\n",
    "- Class attribute: its value is shared through all instances of the class.\n",
    "- Instance attribute: its value is specific the created instance.\n",
    "\n",
    "Order of attribute name search for an instance of the class:\n",
    "1. Instance attribute\n",
    "2. Class attribute\n",
    "\n",
    "Class attributes are NOT global variables so cannot be accessed directly by their names inside class functions (counter-intuitive with the conventional Python scope rule).\n",
    "\n",
    "To access a class attribute inside the class:\n",
    "|place | by |\n",
    "|---|---|\n",
    "|inside functions | `class_name.class_attribute` |\n",
    "|outside functions | `class_attribute` |\n",
    "\n",
    "Outside the class, class attribute is accessed intuitively by `class_name.class_attribute`. \n"
   ]
  },
  {
   "cell_type": "code",
   "execution_count": 5,
   "metadata": {},
   "outputs": [
    {
     "name": "stdout",
     "output_type": "stream",
     "text": [
      "instance attribute specified in __init__\n",
      "instance attribute specified in a method\n",
      "Instance attribute is removed so it refers to class attribute class attribute\n",
      "class attribute modified\n",
      "Class attributes accessed outside the class: class attribute modified\n"
     ]
    }
   ],
   "source": [
    "# delete the class to ensure fresh start every run\n",
    "if 'my_class' in dir():\n",
    "    del my_class\n",
    "\n",
    "\n",
    "class my_class:\n",
    "    x = 'class attribute'\n",
    "\n",
    "    def __init__(self):\n",
    "        self.x = 'instance attribute specified in __init__'\n",
    "    \n",
    "    def method(self):\n",
    "        self.x = 'instance attribute specified in a method'\n",
    "\n",
    "    def delete_instance_attribute(self):\n",
    "        del self.x\n",
    "\n",
    "    def modify_class_attribute(self):\n",
    "        my_class.x = my_class.x + ' modified'\n",
    "\n",
    "a = my_class()\n",
    "print(a.x)\n",
    "\n",
    "a.method()\n",
    "print(a.x)\n",
    "\n",
    "a.delete_instance_attribute()\n",
    "print('Instance attribute is removed so it refers to class attribute', a.x)\n",
    "\n",
    "a.modify_class_attribute()\n",
    "print(a.x)\n",
    "\n",
    "print('Class attributes accessed outside the class:', my_class.x)"
   ]
  },
  {
   "cell_type": "markdown",
   "metadata": {},
   "source": [
    "Often times, one can utilize the reference order and treat class attribute as some kind of default value of an instance attribute:"
   ]
  },
  {
   "cell_type": "code",
   "execution_count": 6,
   "metadata": {},
   "outputs": [
    {
     "name": "stdout",
     "output_type": "stream",
     "text": [
      "As if the default value of the \"instance\" attribute x 10\n",
      "Now the instance attribute is defined and specified for this instance 20\n"
     ]
    }
   ],
   "source": [
    "class my_class:\n",
    "    x = 10\n",
    "\n",
    "a = my_class()\n",
    "print('As if the default value of the \"instance\" attribute x', a.x)\n",
    "\n",
    "a.x = 20\n",
    "print('Now the instance attribute is defined and specified for this instance', a.x)"
   ]
  },
  {
   "cell_type": "markdown",
   "metadata": {},
   "source": [
    "# Inheritance\n",
    "\n",
    "A class (child/derived class) can inherit all attributes and methods from another class (parent/base class). The inheritance is specified by:\n",
    "\n",
    "    def child_class(parent_class): \n",
    "\n",
    "Note that attribute search always start from the child and then to the parent class. "
   ]
  },
  {
   "cell_type": "code",
   "execution_count": 7,
   "metadata": {},
   "outputs": [
    {
     "name": "stdout",
     "output_type": "stream",
     "text": [
      "This attribute is inheritted from the parent class as it's not defined in the child class: attribute in parent\n",
      "Child objects can call parent methods: This is a parent method\n",
      "This attribute is from the child class: attribute in child\n"
     ]
    }
   ],
   "source": [
    "class parent_class:\n",
    "    x = 'attribute in parent'\n",
    "\n",
    "    def parent_method(self):\n",
    "        return 'This is a parent method'\n",
    "\n",
    "class child_class(parent_class):\n",
    "    pass\n",
    "\n",
    "class another_child_class(parent_class):\n",
    "    x = 'attribute in child'\n",
    "\n",
    "a = child_class()\n",
    "print('This attribute is inheritted from the parent class as it\\'s not defined in the child class:', a.x)\n",
    "print('Child objects can call parent methods:', a.parent_method())\n",
    "\n",
    "b = another_child_class()\n",
    "print('This attribute is from the child class:', b.x)"
   ]
  },
  {
   "cell_type": "markdown",
   "metadata": {},
   "source": [
    "### function inheritance and super()\n",
    "\n",
    "If a function in the child class shares the same name as the function in the parent class, it will overwrite the parent one.\n",
    "\n",
    "In the child class, call functions from the parent class by `parent_class.function_from_parent` or `super().function_from_parent`. \n",
    "\n",
    "Using `super()` is perfered over writing explicitly the parent name, especially for complex inheritance tree. Also, note that `self` is automatically passed so `super()` act as if an instance of the parent class."
   ]
  },
  {
   "cell_type": "code",
   "execution_count": 8,
   "metadata": {},
   "outputs": [
    {
     "name": "stdout",
     "output_type": "stream",
     "text": [
      "Parent function:\n",
      "The person is Li, aged 30\n",
      "\n",
      "Child function overwrites the parent one:\n",
      "Name: Li\n",
      "Age: 30\n",
      "Country: Taiwan\n",
      "Inherit parent function using super():\n",
      "The person is Li, aged 30 from Taiwan\n"
     ]
    }
   ],
   "source": [
    "# parent class\n",
    "class person:\n",
    "\n",
    "    def __init__(self, name, age):\n",
    "        self.name = name\n",
    "        self.age = age\n",
    "    \n",
    "    def print_profile(self):\n",
    "        return f'The person is {self.name}, aged {self.age}'\n",
    "\n",
    "# child class\n",
    "class expat(person):\n",
    "\n",
    "    def __init__(self, country, name, age):\n",
    "        self.country = country\n",
    "        person.__init__(self, name, age)\n",
    "\n",
    "    def print_profile(self):\n",
    "        return 'Name: {}\\nAge: {}\\nCountry: {}'.format(self.name, self.age, self.country)\n",
    "\n",
    "    def another_print_profile(self):\n",
    "        return super().print_profile() + ' from ' + self.country\n",
    "\n",
    "\n",
    "a = person('Li', '30')\n",
    "print('Parent function:')\n",
    "print(a.print_profile())\n",
    "print()\n",
    "\n",
    "b = expat('Taiwan', 'Li', '30')\n",
    "print('Child function overwrites the parent one:')\n",
    "print(b.print_profile())\n",
    "print('Inherit parent function using super():')\n",
    "print(b.another_print_profile())"
   ]
  },
  {
   "cell_type": "markdown",
   "metadata": {},
   "source": [
    "Note that the reference order of the variable `c` in the codes below. Although `method()` is defined in `parent`, `self.c` is referenced in `child` class because `a` is a `child` class.\n",
    "\n",
    "So the order of reference:\n",
    "\n",
    "1. instance\n",
    "2. current class\n",
    "3. parent class"
   ]
  },
  {
   "cell_type": "code",
   "execution_count": 9,
   "metadata": {},
   "outputs": [
    {
     "name": "stdout",
     "output_type": "stream",
     "text": [
      "200\n"
     ]
    }
   ],
   "source": [
    "class parent:\n",
    "    c = 100\n",
    "\n",
    "    def method(self):\n",
    "        return self.c\n",
    "        #return parent.c\n",
    "\n",
    "class child(parent):\n",
    "    c = 200\n",
    "\n",
    "a = child()\n",
    "print(a.method())"
   ]
  },
  {
   "cell_type": "markdown",
   "metadata": {},
   "source": [
    "### Method Resolution Order `__mro__` and `help()`\n",
    "\n",
    "When dealing with complicate inheritance, one should be careful about method resolution order, namely the order a method is searched in the inheritance tree. \n",
    "\n",
    "You can always check the order checking the attribute `__mro__` for any class, which is calculated by the so-called C3-linearization.\n",
    "\n",
    "To see details about inheritted properties of a class, call `help(class_in_question)`."
   ]
  },
  {
   "cell_type": "code",
   "execution_count": 10,
   "metadata": {},
   "outputs": [
    {
     "name": "stdout",
     "output_type": "stream",
     "text": [
      "Inheritance Tree:\n",
      "  A  \n",
      " / \\\n",
      "B   C\n",
      " \\ /\n",
      "  D  \n",
      "D.x is from the class: C\n",
      "MRO: (note the order of the same-level class B and C is controlled by D(B, C))\n",
      "(<class '__main__.D'>, <class '__main__.B'>, <class '__main__.C'>, <class '__main__.A'>, <class 'object'>)\n",
      "Full details of a class (attributes, methods, etc):\n",
      "Help on class D in module __main__:\n",
      "\n",
      "class D(B, C)\n",
      " |  Method resolution order:\n",
      " |      D\n",
      " |      B\n",
      " |      C\n",
      " |      A\n",
      " |      builtins.object\n",
      " |  \n",
      " |  Data and other attributes inherited from C:\n",
      " |  \n",
      " |  x = 'C'\n",
      " |  \n",
      " |  ----------------------------------------------------------------------\n",
      " |  Data descriptors inherited from A:\n",
      " |  \n",
      " |  __dict__\n",
      " |      dictionary for instance variables (if defined)\n",
      " |  \n",
      " |  __weakref__\n",
      " |      list of weak references to the object (if defined)\n",
      "\n",
      "None\n"
     ]
    }
   ],
   "source": [
    "class A:\n",
    "    x = 'A'\n",
    "class B(A):  # add C to inheritance and see the complicate MRO\n",
    "    pass\n",
    "class C(A):\n",
    "    x = 'C'\n",
    "class D(B, C):\n",
    "    pass\n",
    "\n",
    "print('Inheritance Tree:')\n",
    "print('  A  ')\n",
    "print(' / \\\\')\n",
    "print('B   C')\n",
    "print(' \\\\ /')\n",
    "print('  D  ')\n",
    "\n",
    "print('D.x is from the class:', D.x)\n",
    "print('MRO: (note the order of the same-level class B and C is controlled by D(B, C))')\n",
    "print(D.__mro__)\n",
    "\n",
    "print('Full details of a class (attributes, methods, etc):')\n",
    "print(help(D))"
   ]
  },
  {
   "cell_type": "markdown",
   "metadata": {},
   "source": [
    "Check if an object belong to a class (and its parent) by `isinstance(object, class)`, and check if a class is a subclass of a parent class by `issubclass(class, parent_class)`."
   ]
  },
  {
   "cell_type": "code",
   "execution_count": 11,
   "metadata": {},
   "outputs": [
    {
     "name": "stdout",
     "output_type": "stream",
     "text": [
      "True\n",
      "True\n",
      "True\n",
      "\n",
      "True\n",
      "True\n",
      "True\n"
     ]
    }
   ],
   "source": [
    "class A:\n",
    "    pass\n",
    "class B(A):  # add C to inheritance and see the complicate MRO\n",
    "    pass\n",
    "class C(B):\n",
    "    pass\n",
    "\n",
    "d = C()\n",
    "print(isinstance(d, C))\n",
    "print(isinstance(d, B))\n",
    "print(isinstance(d, A))\n",
    "print()\n",
    "print(issubclass(C, C))\n",
    "print(issubclass(C, B))\n",
    "print(issubclass(C, A))"
   ]
  },
  {
   "cell_type": "markdown",
   "metadata": {},
   "source": [
    "# Decorators - Classmethod and Staticmethod\n",
    "\n",
    "You can use decorators to specify a class method by addin `@classmethod` and a static method by decorating `@staticmethod` right above the method definition.\n",
    "\n",
    "| Method | First input |Use Case|\n",
    "|-------|-------------------|------------------------------------------------------------|\n",
    "|regular|instance           | Need interaction with the instance or (the instance and the class)|\n",
    "|class  |class              | Need interaction with only the class|\n",
    "|static |(no automatic pass)| No need to interact with the instance nor the class|"
   ]
  },
  {
   "cell_type": "code",
   "execution_count": 12,
   "metadata": {},
   "outputs": [
    {
     "name": "stdout",
     "output_type": "stream",
     "text": [
      "Default; if need to access class and instance\n",
      "If only need to access class\n",
      "If no need to access class or instance\n",
      "\n",
      "The following two calls also work but is not a good practice:\n",
      "If only need to access class\n",
      "If no need to access class or instance\n"
     ]
    }
   ],
   "source": [
    "class my_class:\n",
    "    x = 10\n",
    "    def regular_method(self):\n",
    "        return 'Default; if need to access class and instance'\n",
    "\n",
    "    @classmethod\n",
    "    def class_method(cls):\n",
    "        return 'If only need to access class'\n",
    "\n",
    "    @staticmethod\n",
    "    def static_method():\n",
    "        return 'If no need to access class or instance'\n",
    "\n",
    "a = my_class()\n",
    "\n",
    "print(a.regular_method())\n",
    "print(my_class.class_method())\n",
    "print(my_class.static_method())\n",
    "print()\n",
    "print('The following two calls also work but is not a good practice:')\n",
    "print(a.class_method())\n",
    "print(a.static_method())\n"
   ]
  },
  {
   "cell_type": "markdown",
   "metadata": {},
   "source": [
    "# Decorators - Getter, Setter, and Deleter\n",
    "\n",
    "The idea is to make python treat a method like an attribute, so as to ease code maintainance."
   ]
  },
  {
   "cell_type": "markdown",
   "metadata": {},
   "source": [
    "### The Problem\n",
    "\n",
    "In the following example, when an attribute is updated, we see attributes calculated in `__init__` is not updated:"
   ]
  },
  {
   "cell_type": "code",
   "execution_count": 23,
   "metadata": {},
   "outputs": [
    {
     "name": "stdout",
     "output_type": "stream",
     "text": [
      "Toyota 30000\n",
      "Brand: Toyota ; Price: 30000\n",
      "\n",
      "Note that \"self.info\" is not updated after setting \"brand\"\n",
      "BMW 30000\n",
      "Brand: Toyota ; Price: 30000\n"
     ]
    }
   ],
   "source": [
    "class car:\n",
    "\n",
    "    def __init__(self, brand, price):\n",
    "        self.brand = brand\n",
    "        self.price = price\n",
    "        self.info = 'Brand: ' + str(self.brand) + ' ; Price: ' + str(self.price)\n",
    "    \n",
    "a = car('Toyota', 30000)\n",
    "print(a.brand, a.price)\n",
    "print(a.info)\n",
    "print()\n",
    "\n",
    "print('Note that \"self.info\" is not updated after setting \"brand\"')\n",
    "a.brand = 'BMW'\n",
    "print(a.brand, a.price)\n",
    "print(a.info)"
   ]
  },
  {
   "cell_type": "markdown",
   "metadata": {},
   "source": [
    "An intuitive way to fix it is to remove `self.info` attribute and make it a method:\n",
    "\n",
    "    def info(self):\n",
    "        return 'Brand: ' + str(self.brand) + ' ; Price: ' + str(self.price)\n",
    "\n",
    "But with this change every call to `self.info` has to be changed to `self.info()`. This might be combersome if `self.info` has wide-spread usage already in other codes."
   ]
  },
  {
   "cell_type": "markdown",
   "metadata": {},
   "source": [
    "### The Solution\n",
    "\n",
    "The problem can be solved by making python to treat a method as if it is an attribute through decorator:\n",
    "\n",
    " - Add `@property` decorator to the method `my_method` to be treated as an attribute. This is the \"getter\" of the attribute.\n",
    " - Construct \"setter\" method by `@my_method.setter` decorator.\n",
    " - Construct \"deleter\" method by `@my_method.deleter` decorator.\n",
    " - All of the three methods shares the same name `my_method`.\n",
    "\n",
    "Now the method `my_method()` can be accessed like an attribute `my_method`.\n",
    "\n",
    "Note that setter only takes one input, as the method is treated like an attribute, which only takes one input."
   ]
  },
  {
   "cell_type": "code",
   "execution_count": 40,
   "metadata": {},
   "outputs": [
    {
     "name": "stdout",
     "output_type": "stream",
     "text": [
      "Toyota 30000\n",
      "Brand: Toyota ; Price: 30000\n",
      "\n",
      "Getting \"info\" as if it is an attribute\n",
      "BMW 30000\n",
      "Brand: BMW ; Price: 30000\n",
      "\n",
      "Setting \"info\" as if it is an attribute\n",
      "Brand: VW ; Price: 40000\n",
      "\n",
      "Deleting \"info\" as if it is an attribute\n",
      "Brand: None ; Price: None\n"
     ]
    }
   ],
   "source": [
    "class car:\n",
    "\n",
    "    def __init__(self, brand, price):\n",
    "        self.brand = brand\n",
    "        self.price = price\n",
    "        #self.info = 'Brand: ' + str(self.brand) + ' ; Price: ' + str(self.price)\n",
    "\n",
    "    @property\n",
    "    def info(self):\n",
    "        return 'Brand: ' + str(self.brand) + ' ; Price: ' + str(self.price)\n",
    "\n",
    "    @info.setter\n",
    "    def info(self, the_input):\n",
    "        brand, price = the_input\n",
    "        self.brand = brand\n",
    "        self.price = price\n",
    "    \n",
    "    @info.deleter\n",
    "    def info(self):\n",
    "        self.brand = None\n",
    "        self.price = None\n",
    "\n",
    "\n",
    "\n",
    "a = car('Toyota', 30000)\n",
    "print(a.brand, a.price)\n",
    "print(a.info)\n",
    "print()\n",
    "\n",
    "print('Getting \"info\" as if it is an attribute')\n",
    "a.brand = 'BMW'\n",
    "print(a.brand, a.price)\n",
    "print(a.info)\n",
    "print()\n",
    "\n",
    "print('Setting \"info\" as if it is an attribute')\n",
    "a.info = ['VW', 40000]\n",
    "print(a.info)\n",
    "print()\n",
    "\n",
    "print('Deleting \"info\" as if it is an attribute')\n",
    "del a.info\n",
    "print(a.info)\n"
   ]
  },
  {
   "cell_type": "markdown",
   "metadata": {},
   "source": [
    "An alternative way to designate the getter, setter, and deleter of a method treated as an attribute is by the the property function (this gives you the freedom for function names and attribute names):"
   ]
  },
  {
   "cell_type": "code",
   "execution_count": 44,
   "metadata": {},
   "outputs": [
    {
     "name": "stdout",
     "output_type": "stream",
     "text": [
      "Toyota 30000\n",
      "Brand: Toyota ; Price: 30000\n",
      "\n",
      "Getting \"info\" as if it is an attribute\n",
      "BMW 30000\n",
      "Brand: BMW ; Price: 30000\n",
      "\n",
      "Setting \"info\" as if it is an attribute\n",
      "Brand: VW ; Price: 40000\n",
      "\n",
      "Deleting \"info\" as if it is an attribute\n",
      "Brand: None ; Price: None\n"
     ]
    }
   ],
   "source": [
    "class car:\n",
    "\n",
    "    def __init__(self, brand, price):\n",
    "        self.brand = brand\n",
    "        self.price = price\n",
    "        #self.info = 'Brand: ' + str(self.brand) + ' ; Price: ' + str(self.price)\n",
    "\n",
    "    def info1(self):\n",
    "        return 'Brand: ' + str(self.brand) + ' ; Price: ' + str(self.price)\n",
    "\n",
    "    def info2(self, the_input): # the name of the method should be the same as the property one!\n",
    "        brand, price = the_input\n",
    "        self.brand = brand\n",
    "        self.price = price\n",
    "    \n",
    "    def info3(self):\n",
    "        self.brand = None\n",
    "        self.price = None\n",
    "\n",
    "    info = property(fget=info1, fset=info2, fdel=info3)\n",
    "\n",
    "\n",
    "\n",
    "a = car('Toyota', 30000)\n",
    "print(a.brand, a.price)\n",
    "print(a.info)\n",
    "print()\n",
    "\n",
    "print('Getting \"info\" as if it is an attribute')\n",
    "a.brand = 'BMW'\n",
    "print(a.brand, a.price)\n",
    "print(a.info)\n",
    "print()\n",
    "\n",
    "print('Setting \"info\" as if it is an attribute')\n",
    "a.info = ['VW', 40000]\n",
    "print(a.info)\n",
    "print()\n",
    "\n",
    "print('Deleting \"info\" as if it is an attribute')\n",
    "del a.info\n",
    "print(a.info)"
   ]
  },
  {
   "cell_type": "markdown",
   "metadata": {},
   "source": [
    "See also: data encapsulation: [using property function](https://www.geeksforgeeks.org/getter-and-setter-in-python/#:~:text=Basically%2C%20the%20main%20purpose%20of,in%20other%20object%20oriented%20languages.) and [many info in the second answer](https://stackoverflow.com/questions/2627002/whats-the-pythonic-way-to-use-getters-and-setters)"
   ]
  },
  {
   "cell_type": "markdown",
   "metadata": {},
   "source": [
    "# Reference\n",
    "\n",
    "For more details, see [w3school web page](https://www.w3schools.com/python/python_classes.asp)."
   ]
  }
 ],
 "metadata": {
  "interpreter": {
   "hash": "2637a4237c9832f1722b2cd300ef9b76dbc03b8bb4d86f4166da260fe841abb3"
  },
  "kernelspec": {
   "display_name": "Python 3.7.9 64-bit",
   "language": "python",
   "name": "python3"
  },
  "language_info": {
   "codemirror_mode": {
    "name": "ipython",
    "version": 3
   },
   "file_extension": ".py",
   "mimetype": "text/x-python",
   "name": "python",
   "nbconvert_exporter": "python",
   "pygments_lexer": "ipython3",
   "version": "3.7.9"
  },
  "orig_nbformat": 4
 },
 "nbformat": 4,
 "nbformat_minor": 2
}
