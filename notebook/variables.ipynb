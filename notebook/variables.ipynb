{
 "cells": [
  {
   "attachments": {},
   "cell_type": "markdown",
   "metadata": {},
   "source": [
    "# Basics"
   ]
  },
  {
   "attachments": {},
   "cell_type": "markdown",
   "metadata": {},
   "source": [
    "Reference:\n",
    "- [variable assignment in Python](https://realpython.com/python-variables/#variable-assignment)\n",
    "- [Mutalbe and immutalbe, and copy](https://alexkataev.medium.com/magic-python-mutable-vs-immutable-and-how-to-copy-objects-908bffb811fa)\n",
    "- [shallow vs deepcopy](https://realpython.com/copying-python-objects/)"
   ]
  },
  {
   "attachments": {},
   "cell_type": "markdown",
   "metadata": {},
   "source": [
    "### Name\n",
    "\n",
    "Varialbe can use upper and lower letters, digits, and underscore. But the first character cannot be a digit.\n",
    "\n",
    "By convention:\n",
    "- PEP 8 suggests 'snake case' (letters in lower case and separation by `_`) for variables and functions names, and 'Pascal case (or CapWords)' (capitalized words, no `_`) for class names.\n",
    "- use `_` as the first character if this variable is only for internal use (less widely accepted)\n",
    "\n",
    "Use `help('keywords')` to see reserved words.\n"
   ]
  },
  {
   "cell_type": "code",
   "execution_count": 1,
   "metadata": {},
   "outputs": [
    {
     "name": "stdout",
     "output_type": "stream",
     "text": [
      "\n",
      "Here is a list of the Python keywords.  Enter any keyword to get more help.\n",
      "\n",
      "False               class               from                or\n",
      "None                continue            global              pass\n",
      "True                def                 if                  raise\n",
      "and                 del                 import              return\n",
      "as                  elif                in                  try\n",
      "assert              else                is                  while\n",
      "async               except              lambda              with\n",
      "await               finally             nonlocal            yield\n",
      "break               for                 not                 \n",
      "\n"
     ]
    }
   ],
   "source": [
    "help('keywords')"
   ]
  },
  {
   "attachments": {},
   "cell_type": "markdown",
   "metadata": {},
   "source": [
    "### Assign values to variables\n",
    "\n",
    "```\n",
    "a=300\n",
    "```\n",
    "Python does:\n",
    "- create an integer object `300`\n",
    "- create a symbolic link (or pointer) `a`\n",
    "- make `a` point to the reference of the integer object `300`\n",
    "\n",
    "The reference is generally the memory position (obtained by the function `id`). "
   ]
  },
  {
   "attachments": {},
   "cell_type": "markdown",
   "metadata": {},
   "source": [
    "\n",
    "### Gargage collection\n",
    "\n",
    "```\n",
    "a=300\n",
    "a=400\n",
    "```\n",
    "Here, `a` first pointed to the object `300` and then pointed to `400`. So there is no reference to the integer object `300` anymore. `300` is lost and will be cleared by Python, which is known as garbage collection."
   ]
  },
  {
   "attachments": {},
   "cell_type": "markdown",
   "metadata": {},
   "source": [
    "### Assign a variable to another variable\n",
    "\n",
    "Assume we already have `a=300`, then the following code:\n",
    "```\n",
    "b=a\n",
    "```\n",
    "Python does:\n",
    "- create a symbolic link (or pointer) `b`\n",
    "- make `b` point to the reference where `a` points to (the integer object `300`)\n",
    "\n",
    "Note that, in Python, `b` does not point to the reference where pointer `a` is stored. `b=a` just make `b` point to the target pointed by `a`."
   ]
  },
  {
   "attachments": {},
   "cell_type": "markdown",
   "metadata": {},
   "source": [
    "### Object identity\n",
    "Each object has an unique identity unless it is erased in garbage collection. This identity can be verified by the function `id()`. Also, you can use `is` to check if two objects share the same identity.\n",
    "\n",
    "In the following code, the id's for `a` and `b` will be different since, as mentioned above, a `300` object is created at each line. Each of `300` integer object at each line are unique."
   ]
  },
  {
   "cell_type": "code",
   "execution_count": 2,
   "metadata": {},
   "outputs": [
    {
     "name": "stdout",
     "output_type": "stream",
     "text": [
      "2504939431696\n",
      "2504939430640\n",
      "False\n"
     ]
    }
   ],
   "source": [
    "a=300\n",
    "b=300\n",
    "print(id(a))\n",
    "print(id(b))\n",
    "print(a is b)"
   ]
  },
  {
   "attachments": {},
   "cell_type": "markdown",
   "metadata": {},
   "source": [
    "However, Python cache smaller numbers between -5 and 256 (inclusive) for optimal performance. So identities for integers in this range are actually the same:"
   ]
  },
  {
   "cell_type": "code",
   "execution_count": 3,
   "metadata": {},
   "outputs": [
    {
     "name": "stdout",
     "output_type": "stream",
     "text": [
      "140708560799904\n",
      "140708560799904\n",
      "True\n"
     ]
    }
   ],
   "source": [
    "a=100\n",
    "b=100\n",
    "print(id(a))\n",
    "print(id(b))\n",
    "print(a is b)"
   ]
  },
  {
   "attachments": {},
   "cell_type": "markdown",
   "metadata": {},
   "source": [
    "# Object Identity for Mutable and Immutable Types\n",
    "\n",
    "When apply operations:\n",
    "- For immutables, operations on them just create new objects with new identities since they cannot be changed.\n",
    "- For mutables, operation on them modify the original object so the identity of the mutables remains the same.\n",
    "\n",
    "Immutable:\n",
    "- Integer\n",
    "- Float\n",
    "- Complex\n",
    "- Tuple\n",
    "- String\n",
    "- Frozen set (`frozenset`)\n",
    "\n",
    "Mutable:\n",
    "- List\n",
    "- Dictionary\n",
    "- Set\n",
    "- Byte Array (`bytearray`)"
   ]
  },
  {
   "attachments": {},
   "cell_type": "markdown",
   "metadata": {},
   "source": [
    "### Immutables"
   ]
  },
  {
   "attachments": {},
   "cell_type": "markdown",
   "metadata": {},
   "source": [
    "Operation on `a` just create a new object since integer is immutable. Note that `b` points to the object `3.14` due to `b=a` so operation on `a` has nothing to do with `b`. "
   ]
  },
  {
   "cell_type": "code",
   "execution_count": 4,
   "metadata": {},
   "outputs": [
    {
     "name": "stdout",
     "output_type": "stream",
     "text": [
      "before\n",
      "3.14 3.14\n",
      "2504939430896 2504939430896\n",
      "after\n",
      "4.140000000000001 3.14\n",
      "2504939432880 2504939430896\n"
     ]
    }
   ],
   "source": [
    "a=3.14\n",
    "b=a\n",
    "print('before')\n",
    "print(a, b)\n",
    "print(id(a), id(b))\n",
    "# a=6.28\n",
    "a+=1\n",
    "print('after')\n",
    "print(a, b)\n",
    "print(id(a), id(b))"
   ]
  },
  {
   "cell_type": "code",
   "execution_count": 5,
   "metadata": {},
   "outputs": [
    {
     "name": "stdout",
     "output_type": "stream",
     "text": [
      "(1, 2) (1, 2)\n",
      "2504938584008 2504938584008\n",
      "(1, 2, 3, 4) (1, 2)\n",
      "2504939681096 2504938584008\n"
     ]
    }
   ],
   "source": [
    "a=(1, 2)\n",
    "b=a\n",
    "print(a, b)\n",
    "print(id(a), id(b))\n",
    "# a=(3, 4)\n",
    "a=a + (3, 4)\n",
    "print(a, b)\n",
    "print(id(a), id(b))"
   ]
  },
  {
   "attachments": {},
   "cell_type": "markdown",
   "metadata": {},
   "source": [
    "### Mutables"
   ]
  },
  {
   "attachments": {},
   "cell_type": "markdown",
   "metadata": {},
   "source": [
    "Note that in the following, operation on `a` modify the object `[1, 2]` to `[1, 2, 3]` (still the same object with the same identity) so `b` is also affected:"
   ]
  },
  {
   "cell_type": "code",
   "execution_count": 6,
   "metadata": {},
   "outputs": [
    {
     "name": "stdout",
     "output_type": "stream",
     "text": [
      "[1, 2] [1, 2]\n",
      "2504939735688 2504939735688\n",
      "[1, 2, 3] [1, 2, 3]\n",
      "2504939735688 2504939735688\n"
     ]
    }
   ],
   "source": [
    "a=[1, 2]\n",
    "b=a\n",
    "print(a, b)\n",
    "print(id(a), id(b))\n",
    "a.append(3)\n",
    "# a=[3, 4]\n",
    "print(a, b)\n",
    "print(id(a), id(b))"
   ]
  },
  {
   "attachments": {},
   "cell_type": "markdown",
   "metadata": {},
   "source": [
    "### Mixed case"
   ]
  },
  {
   "cell_type": "code",
   "execution_count": 17,
   "metadata": {},
   "outputs": [
    {
     "name": "stdout",
     "output_type": "stream",
     "text": [
      "Manipulate immutable parts\n",
      "(1, [2, 3]) (1, [2, 3])\n",
      "2504938389320 2504938389320\n",
      "(1, [2, 3], 5, 6) (1, [2, 3])\n",
      "Ids are the same: False\n",
      "\n",
      "Manipulate mutable parts\n",
      "(1, [2, 3]) (1, [2, 3])\n",
      "2504938585992 2504938585992\n",
      "(1, [2, 3, 4]) (1, [2, 3, 4])\n",
      "Ids are the same: True\n"
     ]
    }
   ],
   "source": [
    "print('Manipulate immutable parts')\n",
    "a=(1, [2, 3])\n",
    "b=a\n",
    "print(a, b)\n",
    "print(id(a), id(b))\n",
    "a = a+(5, 6) # this creates a new object\n",
    "print(a, b)\n",
    "print('Ids are the same:', a is b)\n",
    "\n",
    "print()\n",
    "print('Manipulate mutable parts')\n",
    "\n",
    "a=(1, [2, 3])\n",
    "b=a\n",
    "print(a, b)\n",
    "print(id(a), id(b))\n",
    "a[1].append(4) # ths alter the original object\n",
    "print(a, b)\n",
    "print('Ids are the same:', a is b)"
   ]
  },
  {
   "attachments": {},
   "cell_type": "markdown",
   "metadata": {},
   "source": [
    "### Custom class\n",
    "\n",
    "It seems custom class objects are treated as mutables:"
   ]
  },
  {
   "cell_type": "code",
   "execution_count": 8,
   "metadata": {},
   "outputs": [
    {
     "name": "stdout",
     "output_type": "stream",
     "text": [
      "Change in class variable does not change id of the class => class is treated as mutable\n",
      "2504922175432 This is a menu for cars\n",
      "2504922175432 Another name for car menu\n",
      "\n",
      "Changes in instance attributes does not change id of the instance => an instance of the class is treated as mutable\n",
      "2504952043656 2504952043656\n",
      "# Prices: [30000, 50000] ; Brands ('toyota', 'bmw') # Prices: [30000, 50000] ; Brands ('toyota', 'bmw')\n",
      "True\n",
      "2504952043656 2504952043656\n",
      "# Prices: [30000, 50000, 60000] ; Brands ('toyota', 'bmw', 'VW') # Prices: [30000, 50000, 60000] ; Brands ('toyota', 'bmw', 'VW')\n",
      "True\n"
     ]
    }
   ],
   "source": [
    "class car_menu:\n",
    "    menu_name = 'This is a menu for cars'\n",
    "\n",
    "    def __init__(self, price: list, brand: tuple) -> None:\n",
    "        self.price = price\n",
    "        self.brand = brand\n",
    "    def __repr__(self) -> str:\n",
    "        return '# Prices: {} ; Brands {}'.format(self.price, self.brand)\n",
    "\n",
    "print('Change in class variable does not change id of the class => class is treated as mutable')\n",
    "print(id(car_menu), car_menu.menu_name)\n",
    "car_menu.menu_name = 'Another name for car menu'\n",
    "print(id(car_menu), car_menu.menu_name)\n",
    "\n",
    "print()\n",
    "print('Changes in instance attributes does not change id of the instance => an instance of the class is treated as mutable')\n",
    "menu1 = car_menu([30000, 50000], ('toyota', 'bmw'))\n",
    "menu2 = menu1\n",
    "print(id(menu1), id(menu2))\n",
    "print(menu1, menu2)\n",
    "print(menu1 is menu2)\n",
    "# whatever changes below, the id for the instance of the objects are always the same\n",
    "menu1.price.append(60000)\n",
    "menu1.brand += tuple(['VW'])\n",
    "print(id(menu1), id(menu2))\n",
    "print(menu1, menu2)\n",
    "print(menu1 is menu2)"
   ]
  },
  {
   "attachments": {},
   "cell_type": "markdown",
   "metadata": {},
   "source": [
    "### ?Important note?\n",
    "\n",
    "From [Python FAQ](https://docs.python.org/3/faq/programming.html#why-did-changing-list-y-also-change-list-x):\n",
    "\n",
    "Some operations (for example `y.append(10)` and `y.sort()`) mutate the object, whereas superficially similar operations (for example `y = y + [10]` and `sorted(y)`) create a new object. In general in Python (and in all cases in the standard library) a method that mutates an object will return `None` to help avoid getting the two types of operations confused."
   ]
  },
  {
   "attachments": {},
   "cell_type": "markdown",
   "metadata": {},
   "source": [
    "# ?Function is called by assignment?\n",
    "\n",
    "Python does not pass inputs to a function by value nor by reference. Python passes inputs to a function [by assignment](https://docs.python.org/3/faq/programming.html#how-do-i-write-a-function-with-output-parameters-call-by-reference). That is, the reference of input objects are passed by value. This is the reason why \"pass by assignment\" is also called as \"pass by object reference\".\n",
    "\n",
    "\n",
    "!!! Not yet complete !!!\n",
    "\n",
    "This \"pass by assignment\" results in different behaviors for mutable and immutable inputs when these inputs are modified in the function.\n",
    "\n",
    "\n",
    "For mutable inputs, changes made inside the function will be reflected outside the function.\n",
    "\n",
    "For immutable inputs, changes made inside the function will NOT be reflected outside the function. Because immutables cannot be changed, the changes inside the function merely bind a new "
   ]
  },
  {
   "cell_type": "code",
   "execution_count": 5,
   "metadata": {},
   "outputs": [
    {
     "name": "stdout",
     "output_type": "stream",
     "text": [
      "2023482075016\n",
      "inside 2023482075016\n",
      "inside 2023482387336\n",
      "[-1, 2, 3]\n",
      "2023482075016\n"
     ]
    }
   ],
   "source": [
    "def funct(m):\n",
    "    m[0]=-1\n",
    "    print('inside', id(m))\n",
    "    m.append(3)\n",
    "    m = [4, 5]\n",
    "    print('inside', id(m))\n",
    "\n",
    "a = [1, 2]\n",
    "print(id(a))\n",
    "funct(a)\n",
    "print(a)\n",
    "print(id(a))\n"
   ]
  },
  {
   "attachments": {},
   "cell_type": "markdown",
   "metadata": {},
   "source": [
    "# Deep and Shallow Copy (and different levels)\n",
    "\n",
    "As was discussed above, assignment of mutables via `b=a` does not copy anything. It just assign the reference. Assignment like `b=a` behaves like copy only for immutable (keep in mind that it is still not copy as the id of `a` and `b` are the same before manipulation; it just behaves like copy).\n",
    "\n",
    "To really copy an mutable object, we will use the module `copy` and its methods `copy` and `deepcopy` for shallow (1-level deep) and deepcopy, respectively.\n",
    "\n",
    "- Deep copy: recursively copy everything including childen\n",
    "- Shallow copy: non-recursive copy that only copy the name of the collection; children inside the collection are the original children\n",
    "\n",
    "By the way, the built-in function `list()`, `set()`, and `dict()` all make shallow copy only (`b=list(a)` where `a` is a list)."
   ]
  },
  {
   "cell_type": "code",
   "execution_count": 9,
   "metadata": {},
   "outputs": [],
   "source": [
    "import copy"
   ]
  },
  {
   "attachments": {},
   "cell_type": "markdown",
   "metadata": {},
   "source": [
    "### Mutables"
   ]
  },
  {
   "cell_type": "code",
   "execution_count": 10,
   "metadata": {},
   "outputs": [
    {
     "name": "stdout",
     "output_type": "stream",
     "text": [
      "False\n",
      "False\n"
     ]
    }
   ],
   "source": [
    "a = [1, 2]\n",
    "a_shallow = copy.copy(a)\n",
    "a_deep = copy.deepcopy(a)\n",
    "print(a is a_shallow)\n",
    "print(a is a_deep)\n"
   ]
  },
  {
   "attachments": {},
   "cell_type": "markdown",
   "metadata": {},
   "source": [
    "For objects with mutliple levels, shallow copy does not create new instance of the childs but deepcopy does:"
   ]
  },
  {
   "cell_type": "code",
   "execution_count": 11,
   "metadata": {},
   "outputs": [
    {
     "name": "stdout",
     "output_type": "stream",
     "text": [
      "False False\n",
      "True\n",
      "False\n"
     ]
    }
   ],
   "source": [
    "a = [1, 2, [3, 4]]\n",
    "a_shallow = copy.copy(a)\n",
    "a_deep = copy.deepcopy(a)\n",
    "print(a is a_shallow, a is a_deep)\n",
    "print(a[2] is a_shallow[2])\n",
    "print(a[2] is a_deep[2])\n"
   ]
  },
  {
   "attachments": {},
   "cell_type": "markdown",
   "metadata": {},
   "source": [
    "One should be careful about shallow copy as only the name of the collection is copied (original and copied are treated uniquely), not the children inside. So modification on mutable children will be reflected on shallow copies: "
   ]
  },
  {
   "cell_type": "code",
   "execution_count": 18,
   "metadata": {},
   "outputs": [
    {
     "name": "stdout",
     "output_type": "stream",
     "text": [
      "a and b share the same id: False\n",
      "Modifying collection itself\n",
      "[1, 2, [3, 4], 6]\n",
      "[1, 2, [3, 4]]\n",
      "False\n",
      "\n",
      "Modifying the child inside the collection\n",
      "[1, 2, [3, 4, 5], 6]\n",
      "[1, 2, [3, 4, 5]]\n",
      "\n"
     ]
    }
   ],
   "source": [
    "a = [1, 2, [3, 4]]\n",
    "b = copy.copy(a)\n",
    "print('a and b share the same id:', a is b)\n",
    "\n",
    "print('Modifying collection itself')\n",
    "a.append(6)\n",
    "print(a)\n",
    "print(b)\n",
    "print()\n",
    "\n",
    "print('Modifying the child inside the collection')\n",
    "a[2].append(5)\n",
    "print(a)\n",
    "print(b)\n",
    "print()"
   ]
  },
  {
   "attachments": {},
   "cell_type": "markdown",
   "metadata": {},
   "source": [
    "### Immutables\n",
    "\n",
    "Although we don't need shallow or deep copy for immutables, it's worthy mentioning that applying shallow or deep copy to immutable does not create a new object. References are passed like assignment."
   ]
  },
  {
   "cell_type": "code",
   "execution_count": 13,
   "metadata": {},
   "outputs": [
    {
     "name": "stdout",
     "output_type": "stream",
     "text": [
      "True\n",
      "True\n"
     ]
    }
   ],
   "source": [
    "a=3000\n",
    "b=copy.deepcopy(a)\n",
    "print(a is b)\n",
    "b=copy.copy(a)\n",
    "print(a is b)"
   ]
  },
  {
   "attachments": {},
   "cell_type": "markdown",
   "metadata": {},
   "source": [
    "### Mixed cases"
   ]
  },
  {
   "attachments": {},
   "cell_type": "markdown",
   "metadata": {},
   "source": [
    "Consider a tuple (immutable) with a child being a list (mutable):"
   ]
  },
  {
   "cell_type": "code",
   "execution_count": 14,
   "metadata": {},
   "outputs": [
    {
     "name": "stdout",
     "output_type": "stream",
     "text": [
      "Before modification, a and b share the same id:\n",
      "2504939693144\n",
      "2504939693144\n",
      "True\n",
      "After modification, a and b does not share the same id:\n",
      "2504939151272\n",
      "2504939693144\n",
      "False\n",
      "However, the list inside is still shared by both a and b\n",
      "2504952043080\n",
      "2504952043080\n",
      "True\n",
      "To have independent a and b, use \"b=copy.deepcopy(a)\"\n"
     ]
    }
   ],
   "source": [
    "a = (1, 2, [3, 4])\n",
    "b = a\n",
    "# b = copy.deepcopy(a)\n",
    "# b = copy.copy(a)\n",
    "print('Before modification, a and b share the same id:')\n",
    "print(id(a))\n",
    "print(id(b))\n",
    "print(a is b)\n",
    "\n",
    "a += (5, 6)\n",
    "print('After modification, a and b does not share the same id:')\n",
    "print(id(a))\n",
    "print(id(b))\n",
    "print(a is b)\n",
    "\n",
    "print('However, the list inside is still shared by both a and b')\n",
    "print(id(a[2]))\n",
    "print(id(b[2]))\n",
    "print(a[2] is b[2])\n",
    "\n",
    "print('To have independent a and b, use \"b=copy.deepcopy(a)\"')"
   ]
  },
  {
   "attachments": {},
   "cell_type": "markdown",
   "metadata": {},
   "source": [
    "However, note that deepcopy actually gives different id's for the mixed case above. This is different from applying deepcopy to pure immutable (giving the same id)"
   ]
  },
  {
   "cell_type": "code",
   "execution_count": 15,
   "metadata": {},
   "outputs": [
    {
     "name": "stdout",
     "output_type": "stream",
     "text": [
      "a and b share the same id: False\n",
      "2504950631064\n",
      "2504950670744\n"
     ]
    }
   ],
   "source": [
    "a = (1, 2, [3, 4])\n",
    "b = copy.deepcopy(a)\n",
    "print('a and b share the same id:', a is b)\n",
    "print(id(a))\n",
    "print(id(b))"
   ]
  },
  {
   "attachments": {},
   "cell_type": "markdown",
   "metadata": {},
   "source": [
    "When deepcopy, my guess is:\n",
    "- Check if all children are immutable\n",
    "- If so, yield the same id\n",
    "- If not, yield a different id"
   ]
  },
  {
   "attachments": {},
   "cell_type": "markdown",
   "metadata": {},
   "source": [
    "### Custom classes\n",
    "\n",
    "Note that deepcopy on immutable is just assignment. It's legit since assignment of immutables behaves like copy."
   ]
  },
  {
   "cell_type": "code",
   "execution_count": 20,
   "metadata": {},
   "outputs": [
    {
     "name": "stdout",
     "output_type": "stream",
     "text": [
      "Assignment\n",
      "menu1 and menu2 have the same id: True\n",
      "price (mutable) has the same id: True\n",
      "brand (immutable) has the same id: True\n",
      "\n",
      "Shallow copy\n",
      "menu1 and menu2 have the same id: False\n",
      "price (mutable) has the same id: True\n",
      "brand (immutable) has the same id: True\n",
      "\n",
      "Deep copy\n",
      "menu1 and menu2 have the same id: False\n",
      "price (mutable) has the same id: False\n",
      "brand (immutable) has the same id: True\n",
      "# Prices: [30000, 50000] ; Brands ('toyota', 'bmw')\n",
      "# Prices: [30000, 50000] ; Brands ('toyota', 'bmw')\n",
      "\n",
      "After deepcopy, manipulating the immutable child makes\n",
      "menu1 and menu2 have the same id: False\n",
      "price (mutable) has the same id: False\n",
      "brand (immutable) has the same id: False\n",
      "# Prices: [30000, 50000] ; Brands ('toyota', 'bmw', 'vw', 'ford')\n",
      "# Prices: [30000, 50000] ; Brands ('toyota', 'bmw')\n"
     ]
    }
   ],
   "source": [
    "class car_menu:\n",
    "    menu_name = 'This is a menu for cars'\n",
    "\n",
    "    def __init__(self, price: list, brand: tuple) -> None:\n",
    "        self.price = price\n",
    "        self.brand = brand\n",
    "    def __repr__(self) -> str:\n",
    "        return '# Prices: {} ; Brands {}'.format(self.price, self.brand)\n",
    "\n",
    "menu1 = car_menu([30000, 50000], ('toyota', 'bmw'))\n",
    "print('Assignment')\n",
    "menu2=menu1\n",
    "print('menu1 and menu2 have the same id:', menu1 is menu2)\n",
    "print('price (mutable) has the same id:', menu1.price is menu2.price)\n",
    "print('brand (immutable) has the same id:', menu1.brand is menu2.brand)\n",
    "\n",
    "print()\n",
    "print('Shallow copy')\n",
    "menu2 = copy.copy(menu1)\n",
    "print('menu1 and menu2 have the same id:', menu1 is menu2)\n",
    "print('price (mutable) has the same id:', menu1.price is menu2.price)\n",
    "print('brand (immutable) has the same id:', menu1.brand is menu2.brand)\n",
    "\n",
    "print()\n",
    "print('Deep copy')\n",
    "menu2 = copy.deepcopy(menu1)\n",
    "print('menu1 and menu2 have the same id:', menu1 is menu2)\n",
    "print('price (mutable) has the same id:', menu1.price is menu2.price)\n",
    "print('brand (immutable) has the same id:', menu1.brand is menu2.brand)\n",
    "print(menu1)\n",
    "print(menu2)\n",
    "\n",
    "print()\n",
    "print('After deepcopy, manipulating the immutable child makes')\n",
    "menu2 = copy.deepcopy(menu1)\n",
    "menu1.brand += ('vw', 'ford')\n",
    "print('menu1 and menu2 have the same id:', menu1 is menu2)\n",
    "print('price (mutable) has the same id:', menu1.price is menu2.price)\n",
    "print('brand (immutable) has the same id:', menu1.brand is menu2.brand)\n",
    "print(menu1)\n",
    "print(menu2)"
   ]
  },
  {
   "cell_type": "code",
   "execution_count": null,
   "metadata": {},
   "outputs": [],
   "source": []
  }
 ],
 "metadata": {
  "kernelspec": {
   "display_name": "Python 3.7.9 64-bit",
   "language": "python",
   "name": "python3"
  },
  "language_info": {
   "codemirror_mode": {
    "name": "ipython",
    "version": 3
   },
   "file_extension": ".py",
   "mimetype": "text/x-python",
   "name": "python",
   "nbconvert_exporter": "python",
   "pygments_lexer": "ipython3",
   "version": "3.7.9 (tags/v3.7.9:13c94747c7, Aug 17 2020, 18:58:18) [MSC v.1900 64 bit (AMD64)]"
  },
  "orig_nbformat": 4,
  "vscode": {
   "interpreter": {
    "hash": "2637a4237c9832f1722b2cd300ef9b76dbc03b8bb4d86f4166da260fe841abb3"
   }
  }
 },
 "nbformat": 4,
 "nbformat_minor": 2
}
