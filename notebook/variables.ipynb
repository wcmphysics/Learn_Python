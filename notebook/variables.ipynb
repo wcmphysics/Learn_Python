{
 "cells": [
  {
   "attachments": {},
   "cell_type": "markdown",
   "metadata": {},
   "source": [
    "# Basics"
   ]
  },
  {
   "attachments": {},
   "cell_type": "markdown",
   "metadata": {},
   "source": [
    "Reference:\n",
    "- [variable assignment in Python](https://realpython.com/python-variables/#variable-assignment)"
   ]
  },
  {
   "attachments": {},
   "cell_type": "markdown",
   "metadata": {},
   "source": [
    "### Name\n",
    "\n",
    "Varialbe can use upper and lower letters, digits, and underscore. But the first character cannot be a digit.\n",
    "\n",
    "By convention:\n",
    "- PEP 8 suggests 'snake case' (letters in lower case and separation by `_`) for variables and functions names, and 'Pascal case (or CapWords)' (capitalized words, no `_`) for class names.\n",
    "- use `_` as the first character if this variable is only for internal use (less widely accepted)\n",
    "\n",
    "Use `help('keywords')` to see reserved words.\n"
   ]
  },
  {
   "cell_type": "code",
   "execution_count": 31,
   "metadata": {},
   "outputs": [
    {
     "name": "stdout",
     "output_type": "stream",
     "text": [
      "\n",
      "Here is a list of the Python keywords.  Enter any keyword to get more help.\n",
      "\n",
      "False               class               from                or\n",
      "None                continue            global              pass\n",
      "True                def                 if                  raise\n",
      "and                 del                 import              return\n",
      "as                  elif                in                  try\n",
      "assert              else                is                  while\n",
      "async               except              lambda              with\n",
      "await               finally             nonlocal            yield\n",
      "break               for                 not                 \n",
      "\n"
     ]
    }
   ],
   "source": [
    "help('keywords')"
   ]
  },
  {
   "attachments": {},
   "cell_type": "markdown",
   "metadata": {},
   "source": [
    "### Assign values to variables\n",
    "\n",
    "```\n",
    "a=300\n",
    "```\n",
    "Python does:\n",
    "- create an integer object `300`\n",
    "- create a symbolic link (or pointer) `a`\n",
    "- make `a` point to the reference of the integer object `300`\n",
    "\n",
    "The reference is generally the memory position (obtained by the function `id`). "
   ]
  },
  {
   "attachments": {},
   "cell_type": "markdown",
   "metadata": {},
   "source": [
    "\n",
    "### Gargage collection\n",
    "\n",
    "```\n",
    "a=300\n",
    "a=400\n",
    "```\n",
    "Here, `a` first pointed to the object `300` and then pointed to `400`. So there is no reference to the integer object `300` anymore. `300` is lost and will be cleared by Python, which is known as garbage collection."
   ]
  },
  {
   "attachments": {},
   "cell_type": "markdown",
   "metadata": {},
   "source": [
    "### Assign a variable to another variable\n",
    "\n",
    "Assume we already have `a=300`, then the following code:\n",
    "```\n",
    "b=a\n",
    "```\n",
    "Python does:\n",
    "- create a symbolic link (or pointer) `b`\n",
    "- make `b` point to the reference where `a` points to (the integer object `300`)\n",
    "\n",
    "Note that, in Python, `b` does not point to the reference where pointer `a` is stored. `b=a` just make `b` point to the target pointed by `a`."
   ]
  },
  {
   "attachments": {},
   "cell_type": "markdown",
   "metadata": {},
   "source": [
    "### Object identity\n",
    "Each object has an unique identity unless it is erased in garbage collection. This identity can be verified by the function `id()`. Also, you can use `is` to check if two objects share the same identity.\n",
    "\n",
    "In the following code, the id's for `a` and `b` will be different since, as mentioned above, a `300` object is created at each line. Each of `300` integer object at each line are unique."
   ]
  },
  {
   "cell_type": "code",
   "execution_count": 56,
   "metadata": {},
   "outputs": [
    {
     "name": "stdout",
     "output_type": "stream",
     "text": [
      "2187323256080\n",
      "2187323256592\n",
      "False\n"
     ]
    }
   ],
   "source": [
    "a=300\n",
    "b=300\n",
    "print(id(a))\n",
    "print(id(b))\n",
    "print(a is b)"
   ]
  },
  {
   "attachments": {},
   "cell_type": "markdown",
   "metadata": {},
   "source": [
    "However, Python cache smaller numbers between -5 and 256 (inclusive) for optimal performance. So identities for integers in this range are actually the same:"
   ]
  },
  {
   "cell_type": "code",
   "execution_count": 57,
   "metadata": {},
   "outputs": [
    {
     "name": "stdout",
     "output_type": "stream",
     "text": [
      "140721391896736\n",
      "140721391896736\n",
      "True\n"
     ]
    }
   ],
   "source": [
    "a=100\n",
    "b=100\n",
    "print(id(a))\n",
    "print(id(b))\n",
    "print(a is b)"
   ]
  },
  {
   "attachments": {},
   "cell_type": "markdown",
   "metadata": {},
   "source": [
    "# Object Identity for Mutable and Immutable Types\n",
    "\n",
    "When apply operations:\n",
    "- For immutables, operations on them just create new objects with new identities since they cannot be changed.\n",
    "- For mutables, operation on them modify the original object so the identity of the mutables remains the same.\n",
    "\n",
    "Immutable:\n",
    "- Integer\n",
    "- Float\n",
    "- Complex\n",
    "- Tuple\n",
    "- String\n",
    "\n",
    "Mutable:\n",
    "- List\n",
    "- Dictionary\n",
    "- Set"
   ]
  },
  {
   "attachments": {},
   "cell_type": "markdown",
   "metadata": {},
   "source": [
    "### Immutables"
   ]
  },
  {
   "attachments": {},
   "cell_type": "markdown",
   "metadata": {},
   "source": [
    "Operation on `a` just create a new object since integer is immutable. Note that `b` points to the object `3.14` due to `b=a` so operation on `a` has nothing to do with `b`. "
   ]
  },
  {
   "cell_type": "code",
   "execution_count": 34,
   "metadata": {},
   "outputs": [
    {
     "name": "stdout",
     "output_type": "stream",
     "text": [
      "before\n",
      "3.14 3.14\n",
      "2187323254416 2187323254416\n",
      "after\n",
      "4.140000000000001 3.14\n",
      "2187323256784 2187323254416\n"
     ]
    }
   ],
   "source": [
    "a=3.14\n",
    "b=a\n",
    "print('before')\n",
    "print(a, b)\n",
    "print(id(a), id(b))\n",
    "# a=6.28\n",
    "a+=1\n",
    "print('after')\n",
    "print(a, b)\n",
    "print(id(a), id(b))"
   ]
  },
  {
   "cell_type": "code",
   "execution_count": 35,
   "metadata": {},
   "outputs": [
    {
     "name": "stdout",
     "output_type": "stream",
     "text": [
      "(1, 2) (1, 2)\n",
      "2187334024072 2187334024072\n",
      "(1, 2, 3, 4) (1, 2)\n",
      "2187322269032 2187334024072\n"
     ]
    }
   ],
   "source": [
    "a=(1, 2)\n",
    "b=a\n",
    "print(a, b)\n",
    "print(id(a), id(b))\n",
    "# a=(3, 4)\n",
    "a=a + (3, 4)\n",
    "print(a, b)\n",
    "print(id(a), id(b))"
   ]
  },
  {
   "attachments": {},
   "cell_type": "markdown",
   "metadata": {},
   "source": [
    "### Mutables"
   ]
  },
  {
   "attachments": {},
   "cell_type": "markdown",
   "metadata": {},
   "source": [
    "Note that in the following, operation on `a` modify the object `[1, 2]` to `[1, 2, 3]` (still the same object with the same identity) so `b` is also affected:"
   ]
  },
  {
   "cell_type": "code",
   "execution_count": 36,
   "metadata": {},
   "outputs": [
    {
     "name": "stdout",
     "output_type": "stream",
     "text": [
      "[1, 2] [1, 2]\n",
      "2187323594440 2187323594440\n",
      "[1, 2, 3] [1, 2, 3]\n",
      "2187323594440 2187323594440\n"
     ]
    }
   ],
   "source": [
    "a=[1, 2]\n",
    "b=a\n",
    "print(a, b)\n",
    "print(id(a), id(b))\n",
    "a.append(3)\n",
    "# a=[3, 4]\n",
    "print(a, b)\n",
    "print(id(a), id(b))"
   ]
  },
  {
   "attachments": {},
   "cell_type": "markdown",
   "metadata": {},
   "source": [
    "### Mixed case?"
   ]
  },
  {
   "cell_type": "code",
   "execution_count": 42,
   "metadata": {},
   "outputs": [
    {
     "name": "stdout",
     "output_type": "stream",
     "text": [
      "(1, [2, 3]) (1, [2, 3])\n",
      "2187334166280 2187334166280\n",
      "(1, [2, 3], 5, 6) (1, [2, 3])\n",
      "2187323773640 2187334166280\n"
     ]
    }
   ],
   "source": [
    "a=(1, [2, 3])\n",
    "b=a\n",
    "print(a, b)\n",
    "print(id(a), id(b))\n",
    "# a[1].append(4) # ths alter the original object\n",
    "a = a+(5, 6) # this creates a new object\n",
    "print(a, b)\n",
    "print(id(a), id(b))"
   ]
  },
  {
   "attachments": {},
   "cell_type": "markdown",
   "metadata": {},
   "source": [
    "# Deep and Shallow Copy (and different levels)"
   ]
  }
 ],
 "metadata": {
  "kernelspec": {
   "display_name": "Python 3.7.9 64-bit",
   "language": "python",
   "name": "python3"
  },
  "language_info": {
   "codemirror_mode": {
    "name": "ipython",
    "version": 3
   },
   "file_extension": ".py",
   "mimetype": "text/x-python",
   "name": "python",
   "nbconvert_exporter": "python",
   "pygments_lexer": "ipython3",
   "version": "3.7.9"
  },
  "orig_nbformat": 4,
  "vscode": {
   "interpreter": {
    "hash": "2637a4237c9832f1722b2cd300ef9b76dbc03b8bb4d86f4166da260fe841abb3"
   }
  }
 },
 "nbformat": 4,
 "nbformat_minor": 2
}
