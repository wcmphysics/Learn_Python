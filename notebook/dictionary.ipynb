{
 "cells": [
  {
   "cell_type": "markdown",
   "metadata": {},
   "source": [
    "# Dictionary\n",
    "\n",
    "A dictionary is composed of key-value pairs and it is mutable (keys are immutable but values are mutable).\n",
    "\n",
    "Create an empty dictionary by `empty_dictionary = dict()` or just `empty_dictionary = {}`. \n",
    "\n",
    "Copy() will copy the dictionary (1-level deep)."
   ]
  },
  {
   "cell_type": "markdown",
   "metadata": {},
   "source": [
    "# Key-Value Creation (direct and using lists)\n",
    "\n",
    "Simple creation and assignment to the dictionary by specifying the keys and values:"
   ]
  },
  {
   "cell_type": "code",
   "execution_count": 1,
   "metadata": {},
   "outputs": [
    {
     "name": "stdout",
     "output_type": "stream",
     "text": [
      "{'1st key': 1, '2nd key': 2, '3rd key': 3}\n",
      "{'first key': 'first value', 'second key': 'second value'}\n"
     ]
    }
   ],
   "source": [
    "b = {\n",
    "    '1st key' : 1,\n",
    "    '2nd key' : 2,\n",
    "    '3rd key' : 3\n",
    "}\n",
    "print(b)\n",
    "\n",
    "# this also does the same, but it takes more steps\n",
    "a = dict()\n",
    "a['first key'] = 'first value'\n",
    "a['second key'] = 'second value'\n",
    "print(a)"
   ]
  },
  {
   "cell_type": "markdown",
   "metadata": {},
   "source": [
    "Create a dictionary from a key list and a value list through `zip()` method:"
   ]
  },
  {
   "cell_type": "code",
   "execution_count": 2,
   "metadata": {},
   "outputs": [
    {
     "name": "stdout",
     "output_type": "stream",
     "text": [
      "{'a': 'alpha', 'b': 'beta', 'c': 'gamma'}\n"
     ]
    }
   ],
   "source": [
    "key_list = ['a', 'b', 'c']\n",
    "value_list = ['alpha', 'beta', 'gamma']\n",
    "a = dict(zip(key_list, value_list))\n",
    "print(a)"
   ]
  },
  {
   "cell_type": "markdown",
   "metadata": {},
   "source": [
    "In general, you only need a sequence with each of its elements contains two elements (the key and the value) to form a dictionary by the list (I will call this kind of sequence as \"dict sequence\" in this notebook):"
   ]
  },
  {
   "cell_type": "code",
   "execution_count": 31,
   "metadata": {},
   "outputs": [
    {
     "name": "stdout",
     "output_type": "stream",
     "text": [
      "The \"dict sequence\": [('a', 'alpha'), ('b', 'beta'), ('c', 'gamma')]\n",
      "{'a': 'alpha', 'b': 'beta', 'c': 'gamma'}\n"
     ]
    }
   ],
   "source": [
    "list_key_value = list(zip(key_list,value_list))\n",
    "print('The \"dict sequence\":', list_key_value)\n",
    "a = dict(list_key_value)\n",
    "print(a)"
   ]
  },
  {
   "cell_type": "markdown",
   "metadata": {},
   "source": [
    "## update()\n",
    "\n",
    "You can combine two dictionaries by update(). The input of update can be a \"dict sequence\".\n",
    "\n",
    "It's an in-place operation and return `None`."
   ]
  },
  {
   "cell_type": "code",
   "execution_count": 30,
   "metadata": {},
   "outputs": [
    {
     "name": "stdout",
     "output_type": "stream",
     "text": [
      "{'1st key': 1, '2nd key': 2, '3rd key': 3, '4th key': 4, '5th key': 5}\n"
     ]
    }
   ],
   "source": [
    "a = {\n",
    "    '1st key' : 1,\n",
    "    '2nd key' : 2,\n",
    "    '3rd key' : 3\n",
    "}\n",
    "\n",
    "b = {\n",
    "    '4th key' : 4,\n",
    "    '5th key' : 5\n",
    "}\n",
    "\n",
    "a.update(b)\n",
    "print(a)"
   ]
  },
  {
   "cell_type": "markdown",
   "metadata": {},
   "source": [
    "# Access to Keys and Values\n",
    "\n",
    "A value can be accessed by its key using `get()` method or just direct specification. \n",
    "\n",
    "Using `get()` can avoid raising error when the key doesn't exist. It returns `None` (or user-specified content)."
   ]
  },
  {
   "cell_type": "code",
   "execution_count": 15,
   "metadata": {},
   "outputs": [
    {
     "name": "stdout",
     "output_type": "stream",
     "text": [
      "1 1\n",
      "None\n",
      "this key doesn't exist!\n"
     ]
    }
   ],
   "source": [
    "a = {\n",
    "    '1st key' : 1,\n",
    "    '2nd key' : 2,\n",
    "    '3rd key' : 3\n",
    "}\n",
    "print(a.get('1st key'), a['1st key'])\n",
    "print(a.get('0th key'))\n",
    "print(a.get('0th key', 'this key doesn\\'t exist!'))"
   ]
  },
  {
   "cell_type": "markdown",
   "metadata": {},
   "source": [
    "Get the keys and values by `keys` and `values` methods. Note that they are special objects and should be fed to `list()` to actually form lists.\n",
    "\n",
    "An item is defined as a key-value pair, and it can be obtained by `items` method. It comes in handy in for loop.\n"
   ]
  },
  {
   "cell_type": "code",
   "execution_count": 4,
   "metadata": {},
   "outputs": [
    {
     "name": "stdout",
     "output_type": "stream",
     "text": [
      "['1st key', '2nd key', '3rd key'] <class 'dict_keys'>\n",
      "[1, 2, 3] <class 'dict_values'>\n",
      "[('1st key', 1), ('2nd key', 2), ('3rd key', 3)] <class 'dict_items'>\n",
      "Use items() in for loop:\n",
      "1st key 1\n",
      "2nd key 2\n",
      "3rd key 3\n"
     ]
    }
   ],
   "source": [
    "a = {\n",
    "    '1st key' : 1,\n",
    "    '2nd key' : 2,\n",
    "    '3rd key' : 3\n",
    "}\n",
    "print(list(a.keys()), type(a.keys()))\n",
    "print(list(a.values()), type(a.values()))\n",
    "print(list(a.items()), type(a.items()))\n",
    "\n",
    "print('Use items() in for loop:')\n",
    "for key, value in a.items():\n",
    "#for key, value in list(a.items()): # this also works\n",
    "    print(key,value)"
   ]
  },
  {
   "cell_type": "markdown",
   "metadata": {},
   "source": [
    "Note that the special key, value, and item objects are so-called \"dynamical view object\", and they will track the changes in the corresponding dictionary (maybe I can consider them as pointers):"
   ]
  },
  {
   "cell_type": "code",
   "execution_count": 12,
   "metadata": {},
   "outputs": [
    {
     "name": "stdout",
     "output_type": "stream",
     "text": [
      "Before modifying the dictionary:\n",
      "dict_keys(['1st key', '2nd key', '3rd key'])\n",
      "dict_values([1, 2, 3])\n",
      "dict_items([('1st key', 1), ('2nd key', 2), ('3rd key', 3)])\n",
      "\n",
      "After modifying the dictionary:\n",
      "dict_keys(['1st key', '2nd key', '3rd key', '4th key'])\n",
      "dict_values([111, 2, 3, 4])\n",
      "dict_items([('1st key', 111), ('2nd key', 2), ('3rd key', 3), ('4th key', 4)])\n",
      "111\n"
     ]
    }
   ],
   "source": [
    "a = {\n",
    "    '1st key' : 1,\n",
    "    '2nd key' : 2,\n",
    "    '3rd key' : 3\n",
    "}\n",
    "key_object = a.keys()\n",
    "value_object = a.values()\n",
    "item_object = a.items()\n",
    "print('Before modifying the dictionary:')\n",
    "print(key_object)\n",
    "print(value_object)\n",
    "print(item_object)\n",
    "\n",
    "a['1st key'] = 111\n",
    "a['4th key'] = 4\n",
    "\n",
    "print('\\nAfter modifying the dictionary:')\n",
    "print(key_object)\n",
    "print(value_object)\n",
    "print(item_object)\n",
    "\n",
    "#for key, value in enumerate(list(a.keys)):\n",
    "#    print(key, value)"
   ]
  },
  {
   "cell_type": "markdown",
   "metadata": {},
   "source": [
    "# Removal of key-value pairs\n",
    "\n",
    "Remove key-value pairs by the command `del` or the method `pop()` (this will return the value of the popped key). \n",
    "\n",
    "Clear() will make the whole dictionary an empty one:"
   ]
  },
  {
   "cell_type": "code",
   "execution_count": 25,
   "metadata": {},
   "outputs": [
    {
     "name": "stdout",
     "output_type": "stream",
     "text": [
      "After del: {'3rd key': 3, '4th key': 4}\n",
      "Removal by pop(): 3 ; After pop(): {'4th key': 4}\n",
      "After clear(): {}\n"
     ]
    }
   ],
   "source": [
    "a = {\n",
    "    '1st key' : 1,\n",
    "    '2nd key' : 2,\n",
    "    '3rd key' : 3,\n",
    "    '4th key' : 4\n",
    "}\n",
    "\n",
    "del a['1st key'], a['2nd key']\n",
    "print('After del:', a)\n",
    "\n",
    "print('Removal by pop():', a.pop('3rd key'), '; After pop():', a)\n",
    "\n",
    "a.clear()\n",
    "print('After clear():', a)"
   ]
  },
  {
   "cell_type": "markdown",
   "metadata": {},
   "source": [
    "# Sorting a dictionary by sorted()\n",
    "\n",
    "Key-value pairs preserve the creation order for Python 3.7+. \n",
    "\n",
    "You can sort the dictionary key-value pairs using `sorted()`:"
   ]
  },
  {
   "cell_type": "code",
   "execution_count": 8,
   "metadata": {},
   "outputs": [
    {
     "name": "stdout",
     "output_type": "stream",
     "text": [
      "Sorting with keys: {1: 'c', 2: 'b', 3: 'a', 4: 'd'}\n",
      "Sorting with values: {3: 'a', 2: 'b', 1: 'c', 4: 'd'}\n",
      "[1, 2, 3, 4]\n",
      "{3: 'a', 2: 'b', 4: 'd', 1: 'c'}\n"
     ]
    }
   ],
   "source": [
    "a = {\n",
    "    3 : 'a',\n",
    "    2 : 'b',\n",
    "    4 : 'd',\n",
    "    1 : 'c'\n",
    "}\n",
    "c = dict(sorted(a.items(), key=lambda item: item[0]))\n",
    "#c = dict(sorted(a, key=lambda item: item[0])) # this doesn't work\n",
    "print('Sorting with keys:', c)\n",
    "c = dict(sorted(a.items(), key=lambda item: item[1]))\n",
    "print('Sorting with values:', c)\n",
    "b = sorted(a)\n",
    "print(b)\n",
    "print(a)"
   ]
  },
  {
   "cell_type": "markdown",
   "metadata": {},
   "source": [
    "# Reference\n",
    "\n",
    "For a full list of methods, see [w3school web page](https://www.w3schools.com/python/python_ref_dictionary.asp).\n",
    "\n",
    "About iterable, iterator, sequence and generator, see [realpython web page](https://realpython.com/python-enumerate/)"
   ]
  }
 ],
 "metadata": {
  "interpreter": {
   "hash": "2637a4237c9832f1722b2cd300ef9b76dbc03b8bb4d86f4166da260fe841abb3"
  },
  "kernelspec": {
   "display_name": "Python 3.7.9 64-bit",
   "language": "python",
   "name": "python3"
  },
  "language_info": {
   "codemirror_mode": {
    "name": "ipython",
    "version": 3
   },
   "file_extension": ".py",
   "mimetype": "text/x-python",
   "name": "python",
   "nbconvert_exporter": "python",
   "pygments_lexer": "ipython3",
   "version": "3.7.9"
  },
  "orig_nbformat": 4
 },
 "nbformat": 4,
 "nbformat_minor": 2
}
