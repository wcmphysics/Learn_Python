{
 "cells": [
  {
   "cell_type": "markdown",
   "metadata": {},
   "source": [
    "# List\n"
   ]
  },
  {
   "cell_type": "markdown",
   "metadata": {
    "vscode": {
     "languageId": "python"
    }
   },
   "source": [
    "Items in a list can be accessed by index `i` in the range (`L = len(list)`):\n",
    "\n",
    "    -L <= i < L-1"
   ]
  },
  {
   "cell_type": "code",
   "execution_count": 1,
   "metadata": {},
   "outputs": [
    {
     "name": "stdout",
     "output_type": "stream",
     "text": [
      "1 2 [1, 2, 3]\n"
     ]
    }
   ],
   "source": [
    "a = [1, 2, 3]\n",
    "print(a[0], a[-2], a[:])"
   ]
  },
  {
   "cell_type": "markdown",
   "metadata": {},
   "source": [
    "# append() and extend()\n",
    "\n",
    "Append() adds the specified items to the list, while extend() adds the elements inside the specified items to the list:\n",
    "\n",
    "They are in-place operations and return `None`.\n",
    "\n",
    "You can also use `+` for in-place extend()."
   ]
  },
  {
   "cell_type": "code",
   "execution_count": 18,
   "metadata": {},
   "outputs": [
    {
     "name": "stdout",
     "output_type": "stream",
     "text": [
      "[1, 2, 3, [4, 5]]\n",
      "[1, 2, 3, 4, 5]\n",
      "a+b= [1, 2, 3, 4, 5]\n"
     ]
    }
   ],
   "source": [
    "a = [1, 2, 3]\n",
    "b = [4, 5]\n",
    "a.append(b)\n",
    "print(a)\n",
    "\n",
    "a = [1, 2, 3]\n",
    "b = [4, 5]\n",
    "a.extend(b)\n",
    "print(a)\n",
    "\n",
    "a = [1, 2, 3]\n",
    "b = [4, 5]\n",
    "print('a+b=', a+b)"
   ]
  },
  {
   "cell_type": "markdown",
   "metadata": {},
   "source": [
    "# insert() and slice insert\n",
    "\n",
    "insert() inserts specified items into the designated position (original items at that position is move to the back)."
   ]
  },
  {
   "cell_type": "code",
   "execution_count": 47,
   "metadata": {},
   "outputs": [
    {
     "name": "stdout",
     "output_type": "stream",
     "text": [
      "Before insertion: [1, 2, 3]\n",
      "After insertion: [1, [4, 5], 2, 3]\n"
     ]
    }
   ],
   "source": [
    "a = [1, 2, 3]\n",
    "b = [4, 5]\n",
    "print('Before insertion:', a)\n",
    "a.insert(1, b)\n",
    "print('After insertion:', a)"
   ]
  },
  {
   "cell_type": "markdown",
   "metadata": {},
   "source": [
    "You can use slicing index to insert items into a list (original items at that position is move to the back). You can avoid nested structure with this method.\n"
   ]
  },
  {
   "cell_type": "code",
   "execution_count": 61,
   "metadata": {},
   "outputs": [
    {
     "name": "stdout",
     "output_type": "stream",
     "text": [
      "Insert at a[:0] [4, 5, 1, 2, 3]\n",
      "Insert at a[1:1] [1, 4, 5, 2, 3]\n",
      "Insert at a[1:2] [1, 4, 5, 3]\n",
      "Insert at a[1:4:2] [1, 9, 3, 99, 5]\n"
     ]
    }
   ],
   "source": [
    "a = [1, 2, 3]\n",
    "b = [4, 5]\n",
    "a[:0] = b # or a[0:0]\n",
    "print('Insert at a[:0]', a)\n",
    "\n",
    "a = [1, 2, 3]\n",
    "b = [4, 5]\n",
    "a[1:1] = b \n",
    "print('Insert at a[1:1]', a)\n",
    "\n",
    "a = [1, 2, 3]\n",
    "b = [4, 5]\n",
    "a[1:2] = b \n",
    "print('Insert at a[1:2]', a)\n",
    "\n",
    "a = [1, 2, 3, 4, 5]\n",
    "b = [9, 99]\n",
    "a[1:4:2] = b \n",
    "print('Insert at a[1:4:2]', a)"
   ]
  },
  {
   "cell_type": "markdown",
   "metadata": {},
   "source": [
    "# copy()\n",
    "It returns a copy of a list (one-level deep):"
   ]
  },
  {
   "cell_type": "code",
   "execution_count": 29,
   "metadata": {},
   "outputs": [
    {
     "name": "stdout",
     "output_type": "stream",
     "text": [
      "[1, 2, 3]\n",
      "[1, 2, 9]\n"
     ]
    }
   ],
   "source": [
    "a = [1, 2, 3]\n",
    "b = a.copy()\n",
    "a = [4, 5, 6]\n",
    "print(b) # insensitive to the change of a\n",
    "\n",
    "c = 9 # a pointer points to 9\n",
    "a = [1, 2, c] # a[2] is the pointer pointing to the pointer c\n",
    "b = a.copy() # b[2] deepcopy the a[2] so b[2] is a newly created pointer pointing to the pointer c \n",
    "c= 99\n",
    "print(b) # sensitive to the change of c"
   ]
  },
  {
   "cell_type": "markdown",
   "metadata": {},
   "source": [
    "# index()\n",
    "\n",
    "It returns the index of first found element which matches the specified value (error when not found). "
   ]
  },
  {
   "cell_type": "code",
   "execution_count": 41,
   "metadata": {},
   "outputs": [
    {
     "name": "stdout",
     "output_type": "stream",
     "text": [
      "3\n"
     ]
    }
   ],
   "source": [
    "a = [1, 2, 2, 3, 3, 3]\n",
    "print(a.index(3))"
   ]
  },
  {
   "cell_type": "markdown",
   "metadata": {},
   "source": [
    "# count()\n",
    "\n",
    "Count the number of elements matching the specified value:"
   ]
  },
  {
   "cell_type": "code",
   "execution_count": 56,
   "metadata": {},
   "outputs": [
    {
     "name": "stdout",
     "output_type": "stream",
     "text": [
      "3\n"
     ]
    }
   ],
   "source": [
    "a = [1, 2, 2, 3, 3, 3]\n",
    "print(a.count(3))"
   ]
  },
  {
   "cell_type": "markdown",
   "metadata": {},
   "source": [
    "# remove()\n",
    "\n",
    "Remove the first item matching the specified value from the list (in-place operation returning None):"
   ]
  },
  {
   "cell_type": "code",
   "execution_count": 64,
   "metadata": {},
   "outputs": [
    {
     "name": "stdout",
     "output_type": "stream",
     "text": [
      "[1, 2, 2, 3, 3]\n"
     ]
    }
   ],
   "source": [
    "a = [1, 2, 2, 3, 3, 3]\n",
    "a.remove(3)\n",
    "print(a)"
   ]
  },
  {
   "cell_type": "markdown",
   "metadata": {},
   "source": [
    "# pop()\n",
    "\n",
    "Remove the item from the list according to the specified index (default to -1).\n",
    "\n",
    "It's an in-place operation but returns removed item."
   ]
  },
  {
   "cell_type": "code",
   "execution_count": 84,
   "metadata": {},
   "outputs": [
    {
     "name": "stdout",
     "output_type": "stream",
     "text": [
      "[1, 2, 2, 3, 3, 3]\n",
      "2\n",
      "[1, 2, 3, 3, 3]\n"
     ]
    }
   ],
   "source": [
    "a = [1, 2, 2, 3, 3, 3]\n",
    "print(a)\n",
    "print(a.pop(1))\n",
    "print(a)"
   ]
  },
  {
   "cell_type": "markdown",
   "metadata": {},
   "source": [
    "# clear()\n",
    "\n",
    "Remove all items in the list, leaving an empty list (in-place operation returning None):"
   ]
  },
  {
   "cell_type": "code",
   "execution_count": 74,
   "metadata": {},
   "outputs": [
    {
     "name": "stdout",
     "output_type": "stream",
     "text": [
      "[]\n"
     ]
    }
   ],
   "source": [
    "a = [1, 2, 2, 3, 3, 3]\n",
    "a.clear()\n",
    "print(a)"
   ]
  },
  {
   "cell_type": "markdown",
   "metadata": {},
   "source": [
    "# sort() and sorted()\n",
    "\n",
    "Sort items in a list in ascending order. Can use customized function for sorting key (in-place operation returning None):\n",
    "\n",
    "The sorted() method is a non in-place version of sort(), but not called in the same way. "
   ]
  },
  {
   "cell_type": "code",
   "execution_count": 89,
   "metadata": {},
   "outputs": [
    {
     "name": "stdout",
     "output_type": "stream",
     "text": [
      "In-place: [-3, -2, -1, 4, 5]\n",
      "a after sorted: [-3, -2, -1, 4, 5]\n",
      "Non in-place: [-3, -2, -1, 4, 5]\n",
      "a after sorted: [5, -1, -2, 4, -3]\n",
      "In descending order: [5, -1, -2, 4, -3]\n",
      "[5, 4, -1, -2, -3]\n",
      "Sorting using self-defined function (square):\n",
      "[1, 2, 3, 4, -5]\n"
     ]
    }
   ],
   "source": [
    "a = [5, -1, -2, 4, -3]\n",
    "a.sort()\n",
    "print('In-place:', a)\n",
    "print('a after sorted:', a)\n",
    "\n",
    "a = [5, -1, -2, 4, -3]\n",
    "sorted(a)\n",
    "print('Non in-place:', sorted(a))\n",
    "print('a after sorted:', a)\n",
    "\n",
    "print('In descending order:', a)\n",
    "a = [5, -1, -2, 4, -3]\n",
    "a.sort(reverse=True)\n",
    "print(a)\n",
    "\n",
    "print('Sorting using self-defined function (square):')\n",
    "def func(an_item_inside_the_list):\n",
    "    return an_item_inside_the_list**2\n",
    "a = [-5, 1, 2, 4, 3]\n",
    "a.sort(key=func)\n",
    "print(a)\n",
    "\n"
   ]
  },
  {
   "cell_type": "markdown",
   "metadata": {},
   "source": [
    "## Slice\n",
    "The rule for slice can be applied to any sequence object (string, list, tuple, range, or bytes).\n",
    "\n",
    "The actual interpretation is given in [python documentation](https://docs.python.org/3/library/stdtypes.html#sequence-types-list-tuple-range)"
   ]
  },
  {
   "cell_type": "markdown",
   "metadata": {},
   "source": [
    "Format: `start:end(exclusive):step`\n",
    "\n",
    "The `step` is default to 1 and it cannot be 0.\n",
    "\n",
    "Normal index: integers between 0 and the len(sequence)-1 in question (two boundaries included).\n",
    "\n",
    "if `step` > 0:\n",
    "1. Shift `start` to normal index `start_n`.\n",
    "2. Shift `end` to normal index `end_n`\n",
    "3. If `end_n < start_n`, return empty sequence. (opposite if `step` <0)\n",
    "4. Otherwise, create an empty return sequence and follow the procedures:\n",
    "   1. Set index `i` to `start_n`\n",
    "   2. Check if  `i < end_n`\n",
    "   3. If yes, add the `i`th item of the sequence into the return sequence\n",
    "   3. Let `i = i + step` and return to 2nd step\n",
    "   4. If no, return the return sequence (it could be empty)\n",
    "\n",
    "if `step` < 0:\n",
    "\n",
    "I cannot find a solid rules for negative step. Here are some resources:\n",
    "\n",
    " - [Implementation-wise, the second answer appears to be correct (stackoverflow)](https://stackoverflow.com/questions/12521798/what-are-the-default-slice-indices-really)\n",
    " - [Saying the default values of start and end depends on objects applied (stackoverflow)](https://stackoverflow.com/questions/45682816/what-are-the-default-values-set-to-in-a-slice)\n",
    " - [Python interpreter source code](https://github.com/python/cpython/blob/143be366295038b36fc32c44b8e1b48a375eab56/Objects/unicodeobject.c#L9239)\n",
    " - [Inconclusive python documentation (see note 3, 4, and 5 of this linked section)](https://docs.python.org/3/library/stdtypes.html#sequence-types-list-tuple-range)\n",
    " - [Exhaustive listing of possible combination of slicing](https://stackoverflow.com/questions/509211/understanding-slicing)\n",
    "\n",
    "For now I should just use `[::-1]` for reversed sequence."
   ]
  },
  {
   "cell_type": "code",
   "execution_count": 3,
   "metadata": {},
   "outputs": [
    {
     "name": "stdout",
     "output_type": "stream",
     "text": [
      "<class 'str'> \n",
      "<class 'tuple'> ()\n",
      "<class 'list'> []\n"
     ]
    }
   ],
   "source": [
    "#   -7654321\n",
    "#    0123456\n",
    "s = '0123456'\n",
    "t = (0,1,2,3,4,5,6)\n",
    "l = [0,1,2,3,4,5,6]\n",
    "so = slice(-5, 0, 1)\n",
    "print(type(s[so]), s[so])\n",
    "print(type(t[so]), t[so])\n",
    "print(type(l[so]), l[so])\n"
   ]
  },
  {
   "cell_type": "code",
   "execution_count": 4,
   "metadata": {},
   "outputs": [
    {
     "name": "stdout",
     "output_type": "stream",
     "text": [
      "Sequence length: 7\n",
      "When start = None, start seems to be set to len(s) -1 (or just -1)\n",
      "None:None:-1 => 6543210\n",
      "6:None:-1 => 6543210\n",
      "-1:None:-1 => 6543210\n",
      "-8:None:-1 => 6543210\n",
      "0:None:-1 => 6543210\n"
     ]
    }
   ],
   "source": [
    "L = len(s)\n",
    "print(f'Sequence length: {L}')\n",
    "\n",
    "print('When start = None, start seems to be set to len(s) -1 (or just -1)')\n",
    "print(f'{None}:{None}:{-1} =>', s[   ::-1])\n",
    "print(f'{ L-1}:{None}:{-1} =>', s[L-1::-1]) \n",
    "print(f'{  -1}:{None}:{-1} =>', s[ -1::-1]) \n",
    "print(f'{-L-1}:{None}:{-1} =>', s[ -1::-1]) \n",
    "print(f'{0}:{None}:{-1} =>', s[ -1::-1]) \n"
   ]
  },
  {
   "cell_type": "code",
   "execution_count": 5,
   "metadata": {},
   "outputs": [
    {
     "name": "stdout",
     "output_type": "stream",
     "text": [
      "When end = None, end seems to be set to -len(s) -1, but somehow it is NOT equivalent to -1 (no shift?)\n",
      "None:None:-1 => 6543210\n",
      "None:-8:-1 => 6543210\n",
      "None:-1:-1 => \n"
     ]
    }
   ],
   "source": [
    "print('When end = None, end seems to be set to -len(s) -1, but somehow it is NOT equivalent to -1 (no shift?)')\n",
    "print(f'{None}:{None}:{-1} =>', s[:    :-1])\n",
    "print(f'{None}:{-L-1}:{-1} =>', s[:-L-1:-1])\n",
    "print(f'{None}:{  -1}:{-1} =>', s[:  -1:-1]) #empty"
   ]
  },
  {
   "cell_type": "code",
   "execution_count": 6,
   "metadata": {},
   "outputs": [
    {
     "name": "stdout",
     "output_type": "stream",
     "text": [
      "If following the rule for positive step (but change step 3 to \"If `end_n > start_n`, return empty sequence.\"),\n",
      "the results are not following the rule\n",
      "None:None:-1 => 6543210\n",
      "6:-8:-1 => 6543210\n",
      "6:-1:-1 => \n",
      "-1:-8:-1 => 6543210\n",
      "-8:-8:-1 => \n",
      "-1:-1:-1 => \n"
     ]
    }
   ],
   "source": [
    "print('If following the rule for positive step (but change step 3 to \"If `end_n > start_n`, return empty sequence.\"),')\n",
    "print('the results are not following the rule')\n",
    "print(f'{None}:{None}:{-1} =>', s[    :    :-1])\n",
    "print(f'{ L-1}:{-L-1}:{-1} =>', s[ L-1:-L-1:-1]) # using the guess from above inductions is OK\n",
    "print(f'{ L-1}:{  -1}:{-1} =>', s[ L-1:  -1:-1]) # shifting end makes it empty\n",
    "print(f'{  -1}:{-L-1}:{-1} =>', s[  -1:-L-1:-1]) # shifting start is OK in this case\n",
    "print(f'{-L-1}:{-L-1}:{-1} =>', s[-L-1:-L-1:-1]) # shifting start is NOT OK in this case\n",
    "print(f'{  -1}:{  -1}:{-1} =>', s[  -1:  -1:-1]) # empty"
   ]
  },
  {
   "cell_type": "markdown",
   "metadata": {},
   "source": [
    "From [this Python interpreter source code](https://github.com/python/cpython/blob/143be366295038b36fc32c44b8e1b48a375eab56/Objects/unicodeobject.c#L9224):\n",
    "\n",
    "    /* helper macro to fixup start/end slice values */\n",
    "    #define ADJUST_INDICES(start, end, len)         \\\n",
    "        if (end > len)                              \\\n",
    "            end = len;                              \\\n",
    "        else if (end < 0) {                         \\\n",
    "            end += len;                             \\\n",
    "            if (end < 0)                            \\\n",
    "                end = 0;                            \\\n",
    "        }                                           \\\n",
    "        if (start < 0) {                            \\\n",
    "            start += len;                           \\\n",
    "            if (start < 0)                          \\\n",
    "                start = 0;                          \\\n",
    "        }\n",
    "\n",
    "\n",
    "For start, shift occurs only once if start <0. If still start < 0 after the shift, let start=0.\n",
    "\n",
    "For end, if end > len(sequence), let end = len(sequence). If end <0, shift occurs only once. If still end < 0 after the shift, let end =0.\n",
    "\n",
    "Following the two arguments above and the conclusion from previous trial for default values, we say, for negative step:\n",
    " - If start is None, set it to the value: len(sequence)-1\n",
    " - If end is None, set it to the value: 0"
   ]
  },
  {
   "cell_type": "code",
   "execution_count": 7,
   "metadata": {},
   "outputs": [
    {
     "name": "stdout",
     "output_type": "stream",
     "text": [
      "None:None:-1 => 6543210\n",
      "6:0:-1 => 654321\n"
     ]
    }
   ],
   "source": [
    "#   -7654321\n",
    "#    0123456\n",
    "s = '0123456'\n",
    "print(f'{None}:{None}:{-1} =>', s[   ::-1])\n",
    "print(f'{ L-1}:{0}:{-1} =>', s[L-1:0:-1]) "
   ]
  },
  {
   "cell_type": "markdown",
   "metadata": {},
   "source": [
    "However, the conclusion still break in this case:"
   ]
  },
  {
   "cell_type": "code",
   "execution_count": 8,
   "metadata": {},
   "outputs": [
    {
     "name": "stdout",
     "output_type": "stream",
     "text": [
      "They should be the same:\n",
      "\n",
      "0\n"
     ]
    }
   ],
   "source": [
    "print('They should be the same:')\n",
    "print(s[0:0:-1])\n",
    "print(s[0:-9999:-1])"
   ]
  },
  {
   "cell_type": "markdown",
   "metadata": {},
   "source": [
    "# Reference\n",
    "\n",
    "For full list of functions, see [w3school web page](https://www.w3schools.com/python/python_ref_list.asp)."
   ]
  },
  {
   "cell_type": "markdown",
   "metadata": {},
   "source": []
  }
 ],
 "metadata": {
  "interpreter": {
   "hash": "ad597f9e8b4428237be062af5123ef6420a133db2239bb743f11db46ae6073a2"
  },
  "kernelspec": {
   "display_name": "Python 3.9.4 64-bit ('3.9.4')",
   "language": "python",
   "name": "python3"
  },
  "language_info": {
   "codemirror_mode": {
    "name": "ipython",
    "version": 3
   },
   "file_extension": ".py",
   "mimetype": "text/x-python",
   "name": "python",
   "nbconvert_exporter": "python",
   "pygments_lexer": "ipython3",
   "version": "3.9.4"
  },
  "orig_nbformat": 4
 },
 "nbformat": 4,
 "nbformat_minor": 2
}
