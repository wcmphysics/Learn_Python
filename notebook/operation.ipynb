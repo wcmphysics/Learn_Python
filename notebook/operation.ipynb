{
 "cells": [
  {
   "attachments": {},
   "cell_type": "markdown",
   "metadata": {},
   "source": [
    "# Operations and Expressions\n",
    "\n",
    "Some interesting knowledge to write down.\n",
    "\n",
    "Reference:\n",
    "[operations and expressions](https://realpython.com/python-operators-expressions/#augmented-assignment-operators)"
   ]
  },
  {
   "cell_type": "code",
   "execution_count": null,
   "metadata": {},
   "outputs": [],
   "source": []
  }
 ],
 "metadata": {
  "kernelspec": {
   "display_name": "Python 3.7.9 64-bit",
   "language": "python",
   "name": "python3"
  },
  "language_info": {
   "name": "python",
   "version": "3.7.9"
  },
  "orig_nbformat": 4,
  "vscode": {
   "interpreter": {
    "hash": "2637a4237c9832f1722b2cd300ef9b76dbc03b8bb4d86f4166da260fe841abb3"
   }
  }
 },
 "nbformat": 4,
 "nbformat_minor": 2
}
