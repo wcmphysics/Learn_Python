{
 "cells": [
  {
   "attachments": {},
   "cell_type": "markdown",
   "metadata": {},
   "source": [
    "# Scope of Variables\n",
    "\n",
    "Python look for variable definition through the following order (scope hierachy):\n",
    "\n",
    "1. local definition\n",
    "2. enclosing definition\n",
    "3. global definition\n",
    "4. built-in definition\n",
    "\n",
    "This order is known as \"LEGB rule\"."
   ]
  },
  {
   "cell_type": "code",
   "execution_count": 30,
   "metadata": {},
   "outputs": [
    {
     "name": "stdout",
     "output_type": "stream",
     "text": [
      "a, b, c: 2 1 0\n",
      "a, b, c: 1 1 0\n",
      "a, b, c: 0 0 0\n"
     ]
    }
   ],
   "source": [
    "a=0\n",
    "b=0\n",
    "c=0\n",
    "def level_1():\n",
    "    a=1\n",
    "    b=1\n",
    "    # c is a global variable (taken from the global)     \n",
    "    def level_2():\n",
    "        a=2  # a is a local variable (inside the function level_2)\n",
    "        # b is an enclosing variable (taken from the enclosing function level_1)\n",
    "        # c is a global variable (taken from the global)\n",
    "        print('a, b, c:', a, b, c)\n",
    "    level_2()\n",
    "    print('a, b, c:', a, b, c)\n",
    "\n",
    "level_1()\n",
    "print('a, b, c:', a, b, c)"
   ]
  },
  {
   "attachments": {},
   "cell_type": "markdown",
   "metadata": {},
   "source": [
    "Avoid using built-in as variable names as it may cause confusion. For example, `int` still has integer type although declared as an integer in the following:"
   ]
  },
  {
   "cell_type": "code",
   "execution_count": 27,
   "metadata": {},
   "outputs": [
    {
     "name": "stdout",
     "output_type": "stream",
     "text": [
      "3 <class 'int'>\n",
      "<class 'int'>\n"
     ]
    }
   ],
   "source": [
    "int = 3\n",
    "print(int, type(int))"
   ]
  },
  {
   "cell_type": "markdown",
   "metadata": {},
   "source": [
    "In functions, variables declared inside the function are local variables, which will lose their meaning outside the function."
   ]
  },
  {
   "cell_type": "code",
   "execution_count": 12,
   "metadata": {},
   "outputs": [
    {
     "name": "stdout",
     "output_type": "stream",
     "text": [
      "Global a before the call: 3\n",
      "a inside the function: 11\n",
      "Global a after the call: 3\n",
      "b is not defined outside the function!\n"
     ]
    }
   ],
   "source": [
    "a = 3 # global\n",
    "\n",
    "def funct():\n",
    "    a = 10 # local\n",
    "    a +=1 # modification to local\n",
    "    b = 30\n",
    "    print('a inside the function:', a)\n",
    "\n",
    "print('Global a before the call:', a)\n",
    "funct()\n",
    "print('Global a after the call:', a) # global is not changed\n",
    "\n",
    "# b is only defined in the function\n",
    "try:\n",
    "    print(b)\n",
    "except:\n",
    "    print('b is not defined outside the function!')\n"
   ]
  },
  {
   "attachments": {},
   "cell_type": "markdown",
   "metadata": {},
   "source": [
    "To MODIFY or ACCESS global variables, use `global` to declare the variable is the global variable."
   ]
  },
  {
   "cell_type": "code",
   "execution_count": 9,
   "metadata": {},
   "outputs": [
    {
     "name": "stdout",
     "output_type": "stream",
     "text": [
      "Global a before the call: 3\n",
      "a inside the function: 4\n",
      "Global a after the call: 4\n"
     ]
    }
   ],
   "source": [
    "a = 3 # global\n",
    "\n",
    "def funct():\n",
    "    global a # now a is global\n",
    "    a +=1 # modification of the global variable\n",
    "    print('a inside the function:', a)\n",
    "\n",
    "print('Global a before the call:', a)\n",
    "funct()\n",
    "print('Global a after the call:', a) # global is changed"
   ]
  },
  {
   "attachments": {},
   "cell_type": "markdown",
   "metadata": {},
   "source": [
    "However, if only ACCESS of global variables is needed, you can just use the variable directly:"
   ]
  },
  {
   "cell_type": "code",
   "execution_count": 11,
   "metadata": {},
   "outputs": [
    {
     "name": "stdout",
     "output_type": "stream",
     "text": [
      "Global a before the call: 3\n",
      "a inside the function: 3\n",
      "b inside the function: 4\n",
      "Global a after the call: 3\n"
     ]
    }
   ],
   "source": [
    "a = 3 # global\n",
    "\n",
    "def funct():\n",
    "    print('a inside the function:', a) # no need to declare a as global\n",
    "    b = a\n",
    "    b += 1\n",
    "    print('b inside the function:', b)\n",
    "\n",
    "print('Global a before the call:', a)\n",
    "funct()\n",
    "print('Global a after the call:', a)"
   ]
  },
  {
   "attachments": {},
   "cell_type": "markdown",
   "metadata": {},
   "source": [
    "Some details about why Python is designed in this way can be seen in [Stack overflow](https://stackoverflow.com/questions/10360229/python-why-is-global-needed-only-on-assignment-and-not-on-reads) and the Python documentation [(What are the rules for local and global variables in Python?)](https://docs.python.org/3/faq/programming.html#what-are-the-rules-for-local-and-global-variables-in-python)."
   ]
  }
 ],
 "metadata": {
  "kernelspec": {
   "display_name": "Python 3",
   "language": "python",
   "name": "python3"
  },
  "language_info": {
   "codemirror_mode": {
    "name": "ipython",
    "version": 3
   },
   "file_extension": ".py",
   "mimetype": "text/x-python",
   "name": "python",
   "nbconvert_exporter": "python",
   "pygments_lexer": "ipython3",
   "version": "3.7.9"
  },
  "orig_nbformat": 4,
  "vscode": {
   "interpreter": {
    "hash": "2637a4237c9832f1722b2cd300ef9b76dbc03b8bb4d86f4166da260fe841abb3"
   }
  }
 },
 "nbformat": 4,
 "nbformat_minor": 2
}
