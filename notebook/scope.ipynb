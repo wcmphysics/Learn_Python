{
 "cells": [
  {
   "attachments": {},
   "cell_type": "markdown",
   "metadata": {},
   "source": [
    "# Scope\n",
    "\n",
    "Python look for variable definition through the following order (scope hierachy):\n",
    "\n",
    "1. local definition\n",
    "2. enclosing definition\n",
    "3. global (or modular) definition\n",
    "4. built-in definition\n",
    "\n",
    "This order is known as \"LEGB rule\".\n",
    "\n",
    "Also note the difference in assignment operation and reference operation:\n",
    "- assign/modify: change the value of the target\n",
    "- access/refer: retrieve the value of the target\n",
    "\n",
    "The two behaviors are treated differently in LEGB (discussed in the `global`/`nonlocal` sections below)."
   ]
  },
  {
   "attachments": {},
   "cell_type": "markdown",
   "metadata": {},
   "source": [
    "## Namespace\n",
    "\n",
    "In Python, the idea of scope is implemented by dictionary (mapping a name to an object), which are commonly know as namespaces. \n",
    "\n",
    "You can access the namespace of:\n",
    "- current codes: `dir()`\n",
    "- a module: `dir(module_name)` or `module_name.__dict__.keys()`\n",
    "- a function: `function_name.__code__.co_varnames`\n",
    "- built-ins: `dir(__builtins__)` (`__builtins__` is actually a preloaded module)"
   ]
  },
  {
   "cell_type": "code",
   "execution_count": 1,
   "metadata": {},
   "outputs": [
    {
     "name": "stdout",
     "output_type": "stream",
     "text": [
      "Current namespace (\"names\" is not there as it was assigned after the call):\n",
      "['In', 'Out', '_', '__', '___', '__builtin__', '__builtins__', '__doc__', '__loader__', '__name__', '__package__', '__spec__', '__vsc_ipynb_file__', '_dh', '_i', '_i1', '_ih', '_ii', '_iii', '_oh', 'a____a', 'exit', 'get_ipython', 'os', 'quit', 'sys']\n"
     ]
    }
   ],
   "source": [
    "# namespace of the current script\n",
    "a____a=1\n",
    "names = dir()\n",
    "print('Current namespace (\"names\" is not there as it was assigned after the call):')\n",
    "print(names)"
   ]
  },
  {
   "cell_type": "code",
   "execution_count": 16,
   "metadata": {},
   "outputs": [
    {
     "name": "stdout",
     "output_type": "stream",
     "text": [
      "Name defined at the top-level of the module \"sys\":\n",
      "['__breakpointhook__', '__displayhook__', '__doc__', '__excepthook__', '__interactivehook__', '__loader__', '__name__', '__package__', '__spec__', '__stderr__', '__stdin__', '__stdout__', '_base_executable', '_clear_type_cache', '_current_frames', '_debugmallocstats', '_enablelegacywindowsfsencoding', '_framework', '_getframe', '_git', '_home', '_xoptions', 'api_version', 'argv', 'base_exec_prefix', 'base_prefix', 'breakpointhook', 'builtin_module_names', 'byteorder', 'call_tracing', 'callstats', 'copyright', 'displayhook', 'dllhandle', 'dont_write_bytecode', 'exc_info', 'excepthook', 'exec_prefix', 'executable', 'exit', 'flags', 'float_info', 'float_repr_style', 'get_asyncgen_hooks', 'get_coroutine_origin_tracking_depth', 'get_coroutine_wrapper', 'getallocatedblocks', 'getcheckinterval', 'getdefaultencoding', 'getfilesystemencodeerrors', 'getfilesystemencoding', 'getprofile', 'getrecursionlimit', 'getrefcount', 'getsizeof', 'getswitchinterval', 'gettrace', 'getwindowsversion', 'hash_info', 'hexversion', 'implementation', 'int_info', 'intern', 'is_finalizing', 'last_traceback', 'last_type', 'last_value', 'maxsize', 'maxunicode', 'meta_path', 'modules', 'path', 'path_hooks', 'path_importer_cache', 'platform', 'prefix', 'ps1', 'ps2', 'ps3', 'set_asyncgen_hooks', 'set_coroutine_origin_tracking_depth', 'set_coroutine_wrapper', 'setcheckinterval', 'setprofile', 'setrecursionlimit', 'setswitchinterval', 'settrace', 'stderr', 'stdin', 'stdout', 'thread_info', 'version', 'version_info', 'warnoptions', 'winver']\n"
     ]
    }
   ],
   "source": [
    "# namespace of a module\n",
    "import sys\n",
    "print('Name defined at the top-level of the module \"sys\":')\n",
    "# print(sys.__dict__.keys())\n",
    "print(dir(sys))"
   ]
  },
  {
   "cell_type": "code",
   "execution_count": 19,
   "metadata": {},
   "outputs": [
    {
     "name": "stdout",
     "output_type": "stream",
     "text": [
      "parameter names defined for the function:\n",
      "('variable_1', 'variable_2', 'args', 'kwargs')\n"
     ]
    }
   ],
   "source": [
    "# namespace of a function\n",
    "def this_is_a_function(variable_1, variable_2, *args, **kwargs):\n",
    "    pass\n",
    "\n",
    "print('parameter names defined for the function:')\n",
    "print(this_is_a_function.__code__.co_varnames)"
   ]
  },
  {
   "cell_type": "code",
   "execution_count": 23,
   "metadata": {},
   "outputs": [
    {
     "name": "stdout",
     "output_type": "stream",
     "text": [
      "['ArithmeticError', 'AssertionError', 'AttributeError', 'BaseException', 'BlockingIOError', 'BrokenPipeError', 'BufferError', 'BytesWarning', 'ChildProcessError', 'ConnectionAbortedError', 'ConnectionError', 'ConnectionRefusedError', 'ConnectionResetError', 'DeprecationWarning', 'EOFError', 'Ellipsis', 'EnvironmentError', 'Exception', 'False', 'FileExistsError', 'FileNotFoundError', 'FloatingPointError', 'FutureWarning', 'GeneratorExit', 'IOError', 'ImportError', 'ImportWarning', 'IndentationError', 'IndexError', 'InterruptedError', 'IsADirectoryError', 'KeyError', 'KeyboardInterrupt', 'LookupError', 'MemoryError', 'ModuleNotFoundError', 'NameError', 'None', 'NotADirectoryError', 'NotImplemented', 'NotImplementedError', 'OSError', 'OverflowError', 'PendingDeprecationWarning', 'PermissionError', 'ProcessLookupError', 'RecursionError', 'ReferenceError', 'ResourceWarning', 'RuntimeError', 'RuntimeWarning', 'StopAsyncIteration', 'StopIteration', 'SyntaxError', 'SyntaxWarning', 'SystemError', 'SystemExit', 'TabError', 'TimeoutError', 'True', 'TypeError', 'UnboundLocalError', 'UnicodeDecodeError', 'UnicodeEncodeError', 'UnicodeError', 'UnicodeTranslateError', 'UnicodeWarning', 'UserWarning', 'ValueError', 'Warning', 'WindowsError', 'ZeroDivisionError', '__IPYTHON__', '__build_class__', '__debug__', '__doc__', '__import__', '__loader__', '__name__', '__package__', '__spec__', 'abs', 'all', 'any', 'ascii', 'bin', 'bool', 'breakpoint', 'bytearray', 'bytes', 'callable', 'chr', 'classmethod', 'compile', 'complex', 'copyright', 'credits', 'delattr', 'dict', 'dir', 'display', 'divmod', 'enumerate', 'eval', 'exec', 'execfile', 'filter', 'float', 'format', 'frozenset', 'get_ipython', 'getattr', 'globals', 'hasattr', 'hash', 'help', 'hex', 'id', 'input', 'int', 'isinstance', 'issubclass', 'iter', 'len', 'license', 'list', 'locals', 'map', 'max', 'memoryview', 'min', 'next', 'object', 'oct', 'open', 'ord', 'pow', 'print', 'property', 'range', 'repr', 'reversed', 'round', 'runfile', 'set', 'setattr', 'slice', 'sorted', 'staticmethod', 'str', 'sum', 'super', 'tuple', 'type', 'vars', 'zip']\n"
     ]
    }
   ],
   "source": [
    "# namespace of built-ins\n",
    "print(dir(__builtins__))"
   ]
  },
  {
   "attachments": {},
   "cell_type": "markdown",
   "metadata": {},
   "source": [
    "## Global, Enclosed, and Local\n",
    "\n",
    "Note that Python automatically turns the script you're running into a module with the name `__main__`, which can be checked by printing out the variable `__name__`. Global scope is then the scope in this `__main__` module.\n",
    "\n",
    "Here is an example demonstrating variables at different scope:"
   ]
  },
  {
   "cell_type": "code",
   "execution_count": 30,
   "metadata": {},
   "outputs": [
    {
     "name": "stdout",
     "output_type": "stream",
     "text": [
      "a, b, c: 2 1 0\n",
      "a, b, c: 1 1 0\n",
      "a, b, c: 0 0 0\n"
     ]
    }
   ],
   "source": [
    "a=0\n",
    "b=0\n",
    "c=0\n",
    "def level_1():\n",
    "    a=1\n",
    "    b=1\n",
    "    # c is a global variable (taken from the global)     \n",
    "    def level_2():\n",
    "        a=2  # a is a local variable (inside the function level_2)\n",
    "        # b is an enclosing variable (taken from the enclosing function level_1)\n",
    "        # c is a global variable (taken from the global)\n",
    "        print('a, b, c:', a, b, c)\n",
    "    level_2()\n",
    "    print('a, b, c:', a, b, c)\n",
    "\n",
    "level_1()\n",
    "print('a, b, c:', a, b, c)"
   ]
  },
  {
   "cell_type": "markdown",
   "metadata": {},
   "source": [
    "In functions, variables declared inside the function are local variables, which will lose their meaning outside the function."
   ]
  },
  {
   "cell_type": "code",
   "execution_count": 12,
   "metadata": {},
   "outputs": [
    {
     "name": "stdout",
     "output_type": "stream",
     "text": [
      "Global a before the call: 3\n",
      "a inside the function: 11\n",
      "Global a after the call: 3\n",
      "b is not defined outside the function!\n"
     ]
    }
   ],
   "source": [
    "a = 3 # global\n",
    "\n",
    "def funct():\n",
    "    a = 10 # local\n",
    "    a +=1 # modification to local\n",
    "    b = 30\n",
    "    print('a inside the function:', a)\n",
    "\n",
    "print('Global a before the call:', a)\n",
    "funct()\n",
    "print('Global a after the call:', a) # global is not changed\n",
    "\n",
    "# b is only defined in the function\n",
    "try:\n",
    "    print(b)\n",
    "except:\n",
    "    print('b is not defined outside the function!')\n"
   ]
  },
  {
   "attachments": {},
   "cell_type": "markdown",
   "metadata": {},
   "source": [
    "### Access global and nonlocal variables by `global` and `nonlocal` "
   ]
  },
  {
   "attachments": {},
   "cell_type": "markdown",
   "metadata": {},
   "source": [
    "To MODIFY and ACCESS global variables, use `global` to declare the variable is the global variable."
   ]
  },
  {
   "cell_type": "code",
   "execution_count": 9,
   "metadata": {},
   "outputs": [
    {
     "name": "stdout",
     "output_type": "stream",
     "text": [
      "Global a before the call: 3\n",
      "a inside the function: 4\n",
      "Global a after the call: 4\n"
     ]
    }
   ],
   "source": [
    "a = 3 # global\n",
    "\n",
    "def funct():\n",
    "    global a # now a is global\n",
    "    a +=1 # modification of the global variable\n",
    "    print('a inside the function:', a)\n",
    "\n",
    "print('Global a before the call:', a)\n",
    "funct()\n",
    "print('Global a after the call:', a) # global is changed"
   ]
  },
  {
   "attachments": {},
   "cell_type": "markdown",
   "metadata": {},
   "source": [
    "However, if only ACCESS of global variables is needed, you can just use the variable directly:"
   ]
  },
  {
   "cell_type": "code",
   "execution_count": 9,
   "metadata": {},
   "outputs": [
    {
     "name": "stdout",
     "output_type": "stream",
     "text": [
      "Global a before the call: 3\n",
      "a inside the function: 3\n",
      "Global a after the call: 3\n"
     ]
    }
   ],
   "source": [
    "a = 3 # global\n",
    "\n",
    "def funct():\n",
    "    print('a inside the function:', a) # no need to declare a as global\n",
    "\n",
    "print('Global a before the call:', a)\n",
    "funct()\n",
    "print('Global a after the call:', a)"
   ]
  },
  {
   "attachments": {},
   "cell_type": "markdown",
   "metadata": {},
   "source": [
    "Some details about why Python is designed in this way can be seen in [Stack overflow](https://stackoverflow.com/questions/10360229/python-why-is-global-needed-only-on-assignment-and-not-on-reads) and the Python documentation [(What are the rules for local and global variables in Python?)](https://docs.python.org/3/faq/programming.html#what-are-the-rules-for-local-and-global-variables-in-python)."
   ]
  },
  {
   "attachments": {},
   "cell_type": "markdown",
   "metadata": {},
   "source": [
    "Similarly, to MODIFY and ACCESS variables defined in the closest enclosing function outside current function, use `nonlocal`:"
   ]
  },
  {
   "cell_type": "code",
   "execution_count": 4,
   "metadata": {},
   "outputs": [
    {
     "name": "stdout",
     "output_type": "stream",
     "text": [
      "global a; before level 1: 0\n",
      "a in level 1; before level 2: 1\n",
      "a in level 2: 2\n",
      "a in level 1; after level 2: 2\n",
      "global a; after level 1: 0\n"
     ]
    }
   ],
   "source": [
    "a=0\n",
    "def level_1():\n",
    "    a=1\n",
    "    print('a in level 1; before level 2:', a)    \n",
    "    def level_2():\n",
    "        nonlocal a\n",
    "        a+=1\n",
    "        print('a in level 2:', a)  \n",
    "    level_2()\n",
    "    print('a in level 1; after level 2:', a)  \n",
    "\n",
    "print('global a; before level 1:', a)  \n",
    "level_1()\n",
    "print('global a; after level 1:', a)  "
   ]
  },
  {
   "attachments": {},
   "cell_type": "markdown",
   "metadata": {},
   "source": [
    "Again, if only ACCESS is needed, you can use the variable directly."
   ]
  },
  {
   "cell_type": "code",
   "execution_count": 10,
   "metadata": {},
   "outputs": [
    {
     "name": "stdout",
     "output_type": "stream",
     "text": [
      "global a; before level 1: 0\n",
      "a in level 1; before level 2: 1\n",
      "a in level 2: 1\n",
      "a in level 1; after level 2: 1\n",
      "global a; after level 1: 0\n"
     ]
    }
   ],
   "source": [
    "a=0\n",
    "def level_1():\n",
    "    a=1\n",
    "    print('a in level 1; before level 2:', a)    \n",
    "    def level_2():\n",
    "        print('a in level 2:', a)  \n",
    "    level_2()\n",
    "    print('a in level 1; after level 2:', a)  \n",
    "\n",
    "print('global a; before level 1:', a)  \n",
    "level_1()\n",
    "print('global a; after level 1:', a)  "
   ]
  },
  {
   "attachments": {},
   "cell_type": "markdown",
   "metadata": {},
   "source": [
    "### A confusing case for mutable global/nonlocal variables\n",
    "\n",
    "One might accidentally modify mutable global variables when one wrongly believes he/she is merely \"accessing\" the variable. In the following, the global mutable variable `a` is modified even though no `global` is declared to `a` inside the function:"
   ]
  },
  {
   "cell_type": "code",
   "execution_count": 14,
   "metadata": {},
   "outputs": [
    {
     "name": "stdout",
     "output_type": "stream",
     "text": [
      "Global a before the call: [1, 2]\n",
      "a inside the function: [1, 2]\n",
      "b inside the function: [1, 2, 3]\n",
      "Global a after the call: [1, 2, 3]\n"
     ]
    }
   ],
   "source": [
    "a = [1, 2] # global\n",
    "\n",
    "def funct():\n",
    "    print('a inside the function:', a) #\n",
    "    b = a\n",
    "    b += [3]\n",
    "    print('b inside the function:', b)\n",
    "\n",
    "print('Global a before the call:', a)\n",
    "funct()\n",
    "print('Global a after the call:', a)"
   ]
  },
  {
   "attachments": {},
   "cell_type": "markdown",
   "metadata": {},
   "source": [
    "This is because `b=a` points `b` to the id of the mutable `[1,2]` so modification on `b` means modification on the mutable `[1, 2]`, which is pointed by `a`. As a result, `a` is also modified. The issue will not appear if `a` is an immutable.\n",
    "\n",
    "Unlike modifying `a`, which yields an error, Python cannot see such an error in the indirect modification of mutable global variable. "
   ]
  },
  {
   "attachments": {},
   "cell_type": "markdown",
   "metadata": {},
   "source": [
    "The same issue also occurs for mutable nonlocal variable:"
   ]
  },
  {
   "cell_type": "code",
   "execution_count": 16,
   "metadata": {},
   "outputs": [
    {
     "name": "stdout",
     "output_type": "stream",
     "text": [
      "global a; before level 1: [0]\n",
      "a in level 1; before level 2: [1]\n",
      "a in level 2: [1, 2]\n",
      "a in level 1; after level 2: [1, 2]\n",
      "global a; after level 1: [0]\n"
     ]
    }
   ],
   "source": [
    "a=[0]\n",
    "def level_1():\n",
    "    a=[1]\n",
    "    print('a in level 1; before level 2:', a)    \n",
    "    def level_2():\n",
    "        b = a\n",
    "        b+= [2]\n",
    "        print('a in level 2:', a)  \n",
    "    level_2()\n",
    "    print('a in level 1; after level 2:', a)  \n",
    "\n",
    "print('global a; before level 1:', a)  \n",
    "level_1()\n",
    "print('global a; after level 1:', a)  "
   ]
  },
  {
   "attachments": {},
   "cell_type": "markdown",
   "metadata": {},
   "source": [
    "### ?? Is append not considered mutation??\n",
    "\n",
    "Somehow in the following code enclosed variable can be changed inside inner function without `nonlocal` declaration. This is against the idea above:"
   ]
  },
  {
   "cell_type": "code",
   "execution_count": 13,
   "metadata": {},
   "outputs": [
    {
     "name": "stdout",
     "output_type": "stream",
     "text": [
      "[1, 2, 0]\n"
     ]
    }
   ],
   "source": [
    "def outer_funct():\n",
    "    a = [1, 2]\n",
    "    def inner_funct():\n",
    "        a.append(0) # this is fine somwhow\n",
    "        # a += [0] # this raises error\n",
    "        print(a)\n",
    "    return inner_funct()\n",
    "\n",
    "outer_funct()"
   ]
  },
  {
   "attachments": {},
   "cell_type": "markdown",
   "metadata": {},
   "source": [
    "### Good programming practice\n",
    "\n",
    "It is better to:\n",
    "- Write self-contained functions relying on local names rather than global ones\n",
    "- Use unique names even if they're in different scope for best readibility and maintenance\n",
    "- Avoid global name modifications; use them when their values are constants\n",
    "- Avoid name modifications between modules\n",
    "- Avoid overwriting built-ins"
   ]
  },
  {
   "attachments": {},
   "cell_type": "markdown",
   "metadata": {},
   "source": [
    "# Reference:\n",
    "- [Python Scope](https://realpython.com/python-scope-legb-rule/#:~:text=The%20LEGB%20rule%20is%20a,the%20first%20occurrence%20of%20it.)"
   ]
  }
 ],
 "metadata": {
  "kernelspec": {
   "display_name": "Python 3",
   "language": "python",
   "name": "python3"
  },
  "language_info": {
   "codemirror_mode": {
    "name": "ipython",
    "version": 3
   },
   "file_extension": ".py",
   "mimetype": "text/x-python",
   "name": "python",
   "nbconvert_exporter": "python",
   "pygments_lexer": "ipython3",
   "version": "3.7.9"
  },
  "orig_nbformat": 4,
  "vscode": {
   "interpreter": {
    "hash": "2637a4237c9832f1722b2cd300ef9b76dbc03b8bb4d86f4166da260fe841abb3"
   }
  }
 },
 "nbformat": 4,
 "nbformat_minor": 2
}
