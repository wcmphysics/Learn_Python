{
 "cells": [
  {
   "cell_type": "markdown",
   "metadata": {},
   "source": [
    "# Number of Card to Draw the First Ace"
   ]
  },
  {
   "cell_type": "code",
   "execution_count": 205,
   "metadata": {},
   "outputs": [],
   "source": [
    "import random\n",
    "import numpy as np\n",
    "import seaborn as sns\n",
    "import matplotlib.pyplot as plt"
   ]
  },
  {
   "cell_type": "code",
   "execution_count": 206,
   "metadata": {},
   "outputs": [],
   "source": [
    "deck_size = 52\n",
    "number_of_ace = 4"
   ]
  },
  {
   "cell_type": "code",
   "execution_count": 207,
   "metadata": {},
   "outputs": [],
   "source": [
    "def play_one_round(deck_size, number_of_ace):\n",
    "    max_draw = deck_size-number_of_ace+1\n",
    "    draw_count = 0\n",
    "    deck = list(range(deck_size))\n",
    "    drawn_sequence = []\n",
    "    for i in range(max_draw):\n",
    "        draw = deck[random.randint(0,len(deck)-1)]\n",
    "        deck.remove(draw)\n",
    "        drawn_sequence.append(draw)\n",
    "        draw_count += 1\n",
    "        # Aces are 0, 13, 26, 39 for standard deck\n",
    "        if draw % (deck_size // number_of_ace) == 0:\n",
    "            return draw_count, drawn_sequence\n"
   ]
  },
  {
   "cell_type": "code",
   "execution_count": 230,
   "metadata": {},
   "outputs": [
    {
     "name": "stdout",
     "output_type": "stream",
     "text": [
      "[7.592e-02 7.320e-02 6.807e-02 6.329e-02 5.964e-02 5.752e-02 5.166e-02\n",
      " 4.969e-02 4.489e-02 4.302e-02 3.942e-02 3.612e-02 3.397e-02 3.119e-02\n",
      " 2.934e-02 2.571e-02 2.459e-02 2.218e-02 2.001e-02 1.842e-02 1.685e-02\n",
      " 1.502e-02 1.280e-02 1.212e-02 1.101e-02 9.250e-03 8.380e-03 7.410e-03\n",
      " 6.250e-03 6.220e-03 4.830e-03 3.870e-03 3.460e-03 2.970e-03 2.320e-03\n",
      " 2.180e-03 1.700e-03 1.550e-03 1.060e-03 8.700e-04 7.700e-04 5.100e-04\n",
      " 2.700e-04 2.500e-04 1.300e-04 2.000e-05 4.000e-05 4.000e-05 0.000e+00]\n",
      "10.598440000000004\n",
      "46.23076923076923\n"
     ]
    }
   ],
   "source": [
    "number_of_round = int(1e5) # 1e5 takes ~2s\n",
    "probability_for_each_draw= np.zeros(deck_size-number_of_ace+1) # number of draw = array index+1\n",
    "\n",
    "for i in range(number_of_round):\n",
    "    count, _ = play_one_round(deck_size, number_of_ace)    \n",
    "    probability_for_each_draw[count-1] += 1\n",
    "\n",
    "probability_for_each_draw /= number_of_round\n",
    "mean_number_of_draw = sum(list(probability_for_each_draw[i]*(i+1) for i in range(len(probability_for_each_draw))))\n",
    "\n",
    "print(probability_for_each_draw)\n",
    "print(mean_number_of_draw)\n",
    "print(1+((deck_size-number_of_ace+1)*(deck_size-number_of_ace)/deck_size))"
   ]
  },
  {
   "cell_type": "code",
   "execution_count": 231,
   "metadata": {},
   "outputs": [],
   "source": [
    "analytical_probability_for_each_draw = np.array(list(1/13*(52-i)*(51-i)*(50-i)/51/50/49 for i in range(1,deck_size-number_of_ace+2)))"
   ]
  },
  {
   "cell_type": "code",
   "execution_count": 232,
   "metadata": {},
   "outputs": [
    {
     "data": {
      "text/plain": [
       "[<matplotlib.lines.Line2D at 0x1e462186dc8>]"
      ]
     },
     "execution_count": 232,
     "metadata": {},
     "output_type": "execute_result"
    },
    {
     "data": {
      "image/png": "[encoded data removed]",
      "text/plain": [
       "<Figure size 432x288 with 1 Axes>"
      ]
     },
     "metadata": {
      "needs_background": "light"
     },
     "output_type": "display_data"
    }
   ],
   "source": [
    "plt.plot(list(range(1,deck_size-number_of_ace+2)), analytical_probability_for_each_draw)\n",
    "plt.plot(list(range(1,deck_size-number_of_ace+2)), probability_for_each_draw, marker='x', linestyle=' ')"
   ]
  }
 ],
 "metadata": {
  "kernelspec": {
   "display_name": "Python 3",
   "language": "python",
   "name": "python3"
  },
  "language_info": {
   "codemirror_mode": {
    "name": "ipython",
    "version": 3
   },
   "file_extension": ".py",
   "mimetype": "text/x-python",
   "name": "python",
   "nbconvert_exporter": "python",
   "pygments_lexer": "ipython3",
   "version": "3.7.9"
  }
 },
 "nbformat": 4,
 "nbformat_minor": 2
}
