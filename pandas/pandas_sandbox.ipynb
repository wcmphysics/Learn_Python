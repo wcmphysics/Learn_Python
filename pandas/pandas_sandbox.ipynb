{
 "cells": [
  {
   "cell_type": "markdown",
   "id": "4c690b1c",
   "metadata": {},
   "source": [
    "# Import Pandas"
   ]
  },
  {
   "cell_type": "code",
   "execution_count": 1,
   "id": "ba69e722",
   "metadata": {},
   "outputs": [],
   "source": [
    "import pandas as pd\n",
    "import numpy as np"
   ]
  },
  {
   "cell_type": "markdown",
   "id": "34bbafa9-0ed3-4629-b315-69f1155971f2",
   "metadata": {},
   "source": [
    "# Data Creation/Addition\n",
    "There are several ways to create dataframe.\n",
    "\n",
    "Use list for data creation by rows, and dictionary for data creation by columns. The list/dictionary here is the item passed to `DataFrame`."
   ]
  },
  {
   "cell_type": "markdown",
   "id": "e11b51a4",
   "metadata": {},
   "source": [
    "Create rows from dictionaries inside a list:"
   ]
  },
  {
   "cell_type": "code",
   "execution_count": 2,
   "id": "d6242c46",
   "metadata": {},
   "outputs": [
    {
     "data": {
      "text/html": [
       "<div>\n",
       "<style scoped>\n",
       "    .dataframe tbody tr th:only-of-type {\n",
       "        vertical-align: middle;\n",
       "    }\n",
       "\n",
       "    .dataframe tbody tr th {\n",
       "        vertical-align: top;\n",
       "    }\n",
       "\n",
       "    .dataframe thead th {\n",
       "        text-align: right;\n",
       "    }\n",
       "</style>\n",
       "<table border=\"1\" class=\"dataframe\">\n",
       "  <thead>\n",
       "    <tr style=\"text-align: right;\">\n",
       "      <th></th>\n",
       "      <th>C1</th>\n",
       "      <th>C2</th>\n",
       "      <th>C3</th>\n",
       "    </tr>\n",
       "  </thead>\n",
       "  <tbody>\n",
       "    <tr>\n",
       "      <th>0</th>\n",
       "      <td>1</td>\n",
       "      <td>2.0</td>\n",
       "      <td>3</td>\n",
       "    </tr>\n",
       "    <tr>\n",
       "      <th>1</th>\n",
       "      <td>21</td>\n",
       "      <td>22.0</td>\n",
       "      <td>33</td>\n",
       "    </tr>\n",
       "    <tr>\n",
       "      <th>2</th>\n",
       "      <td>21</td>\n",
       "      <td>NaN</td>\n",
       "      <td>33</td>\n",
       "    </tr>\n",
       "  </tbody>\n",
       "</table>\n",
       "</div>"
      ],
      "text/plain": [
       "   C1    C2  C3\n",
       "0   1   2.0   3\n",
       "1  21  22.0  33\n",
       "2  21   NaN  33"
      ]
     },
     "execution_count": 2,
     "metadata": {},
     "output_type": "execute_result"
    }
   ],
   "source": [
    "a = {\"C1\" : 1 , \"C2\" : 2 , 'C3' : 3} # first row\n",
    "b = {\"C1\" : 21, 'C2' : 22, 'C3' : 33} # second row\n",
    "c = {\"C1\" : 21,            'C3' : 33} # third row\n",
    "\n",
    "df = pd.DataFrame([a, b, c])\n",
    "df"
   ]
  },
  {
   "cell_type": "markdown",
   "id": "84c48e8f",
   "metadata": {},
   "source": [
    "A simplified desgination can be done by using lists inside a list (use `Numpy.NaN` for missing values):"
   ]
  },
  {
   "cell_type": "code",
   "execution_count": 3,
   "id": "b5236d84-3ab0-4258-b1bd-b72139688b6f",
   "metadata": {},
   "outputs": [
    {
     "data": {
      "text/html": [
       "<div>\n",
       "<style scoped>\n",
       "    .dataframe tbody tr th:only-of-type {\n",
       "        vertical-align: middle;\n",
       "    }\n",
       "\n",
       "    .dataframe tbody tr th {\n",
       "        vertical-align: top;\n",
       "    }\n",
       "\n",
       "    .dataframe thead th {\n",
       "        text-align: right;\n",
       "    }\n",
       "</style>\n",
       "<table border=\"1\" class=\"dataframe\">\n",
       "  <thead>\n",
       "    <tr style=\"text-align: right;\">\n",
       "      <th></th>\n",
       "      <th>C1</th>\n",
       "      <th>C2</th>\n",
       "      <th>C3</th>\n",
       "      <th>C4</th>\n",
       "    </tr>\n",
       "  </thead>\n",
       "  <tbody>\n",
       "    <tr>\n",
       "      <th>0</th>\n",
       "      <td>1</td>\n",
       "      <td>2</td>\n",
       "      <td>3.0</td>\n",
       "      <td>4</td>\n",
       "    </tr>\n",
       "    <tr>\n",
       "      <th>1</th>\n",
       "      <td>21</td>\n",
       "      <td>22</td>\n",
       "      <td>23.0</td>\n",
       "      <td>24</td>\n",
       "    </tr>\n",
       "    <tr>\n",
       "      <th>2</th>\n",
       "      <td>31</td>\n",
       "      <td>32</td>\n",
       "      <td>NaN</td>\n",
       "      <td>34</td>\n",
       "    </tr>\n",
       "  </tbody>\n",
       "</table>\n",
       "</div>"
      ],
      "text/plain": [
       "   C1  C2    C3  C4\n",
       "0   1   2   3.0   4\n",
       "1  21  22  23.0  24\n",
       "2  31  32   NaN  34"
      ]
     },
     "execution_count": 3,
     "metadata": {},
     "output_type": "execute_result"
    }
   ],
   "source": [
    "column_name = [\"C1\", \"C2\", \"C3\", \"C4\"]\n",
    "a = [1, 2, 3, 4] # first row\n",
    "b = [21, 22, 23, 24] # second row\n",
    "c = [31, 32, np.NaN, 34] # third row\n",
    "\n",
    "df = pd.DataFrame([a, b, c], columns=column_name)\n",
    "df"
   ]
  },
  {
   "cell_type": "markdown",
   "id": "92c4bced",
   "metadata": {},
   "source": [
    "Create columns by dictionaries inside a dictionary.\n",
    "\n",
    "For inner dictionary, the keys (`0, 1, 2`) are the row index.\n",
    "\n",
    "For outside dictionary, the keys (`C1, C2, C3`) are column index."
   ]
  },
  {
   "cell_type": "code",
   "execution_count": 4,
   "id": "8c9bc483",
   "metadata": {},
   "outputs": [
    {
     "data": {
      "text/html": [
       "<div>\n",
       "<style scoped>\n",
       "    .dataframe tbody tr th:only-of-type {\n",
       "        vertical-align: middle;\n",
       "    }\n",
       "\n",
       "    .dataframe tbody tr th {\n",
       "        vertical-align: top;\n",
       "    }\n",
       "\n",
       "    .dataframe thead th {\n",
       "        text-align: right;\n",
       "    }\n",
       "</style>\n",
       "<table border=\"1\" class=\"dataframe\">\n",
       "  <thead>\n",
       "    <tr style=\"text-align: right;\">\n",
       "      <th></th>\n",
       "      <th>C1</th>\n",
       "      <th>C2</th>\n",
       "      <th>C3</th>\n",
       "    </tr>\n",
       "  </thead>\n",
       "  <tbody>\n",
       "    <tr>\n",
       "      <th>0</th>\n",
       "      <td>1</td>\n",
       "      <td>21</td>\n",
       "      <td>21.0</td>\n",
       "    </tr>\n",
       "    <tr>\n",
       "      <th>1</th>\n",
       "      <td>2</td>\n",
       "      <td>22</td>\n",
       "      <td>NaN</td>\n",
       "    </tr>\n",
       "    <tr>\n",
       "      <th>2</th>\n",
       "      <td>3</td>\n",
       "      <td>33</td>\n",
       "      <td>33.0</td>\n",
       "    </tr>\n",
       "  </tbody>\n",
       "</table>\n",
       "</div>"
      ],
      "text/plain": [
       "   C1  C2    C3\n",
       "0   1  21  21.0\n",
       "1   2  22   NaN\n",
       "2   3  33  33.0"
      ]
     },
     "execution_count": 4,
     "metadata": {},
     "output_type": "execute_result"
    }
   ],
   "source": [
    "a = {0 : 1 , 1 : 2 , 2 : 3} # first column\n",
    "b = {0 : 21, 1 : 22, 2 : 33} # second column\n",
    "c = {0 : 21,         2 : 33} # third column\n",
    "\n",
    "df = pd.DataFrame({\"C1\" : a, 'C2' : b, 'C3' : c})\n",
    "df"
   ]
  },
  {
   "cell_type": "markdown",
   "id": "a633c3dc",
   "metadata": {},
   "source": [
    "Similary, a simplified designation using lists inside a dictionary (use `numpy.NaN` for missing values):"
   ]
  },
  {
   "cell_type": "code",
   "execution_count": 5,
   "id": "ae40a02a",
   "metadata": {},
   "outputs": [
    {
     "data": {
      "text/html": [
       "<div>\n",
       "<style scoped>\n",
       "    .dataframe tbody tr th:only-of-type {\n",
       "        vertical-align: middle;\n",
       "    }\n",
       "\n",
       "    .dataframe tbody tr th {\n",
       "        vertical-align: top;\n",
       "    }\n",
       "\n",
       "    .dataframe thead th {\n",
       "        text-align: right;\n",
       "    }\n",
       "</style>\n",
       "<table border=\"1\" class=\"dataframe\">\n",
       "  <thead>\n",
       "    <tr style=\"text-align: right;\">\n",
       "      <th></th>\n",
       "      <th>C1</th>\n",
       "      <th>C2</th>\n",
       "      <th>C3</th>\n",
       "    </tr>\n",
       "  </thead>\n",
       "  <tbody>\n",
       "    <tr>\n",
       "      <th>0</th>\n",
       "      <td>1</td>\n",
       "      <td>12</td>\n",
       "      <td>13.0</td>\n",
       "    </tr>\n",
       "    <tr>\n",
       "      <th>1</th>\n",
       "      <td>2</td>\n",
       "      <td>22</td>\n",
       "      <td>NaN</td>\n",
       "    </tr>\n",
       "    <tr>\n",
       "      <th>2</th>\n",
       "      <td>3</td>\n",
       "      <td>32</td>\n",
       "      <td>33.0</td>\n",
       "    </tr>\n",
       "  </tbody>\n",
       "</table>\n",
       "</div>"
      ],
      "text/plain": [
       "   C1  C2    C3\n",
       "0   1  12  13.0\n",
       "1   2  22   NaN\n",
       "2   3  32  33.0"
      ]
     },
     "execution_count": 5,
     "metadata": {},
     "output_type": "execute_result"
    }
   ],
   "source": [
    "a = [1, 2, 3] # first column\n",
    "b = [12, 22, 32] # second column\n",
    "c = [13, np.NaN, 33] # third column\n",
    "\n",
    "df = pd.DataFrame({\"C1\" : a, 'C2' : b, 'C3' : c})\n",
    "df"
   ]
  },
  {
   "cell_type": "markdown",
   "id": "eca62d4c",
   "metadata": {},
   "source": [
    "Append rows using `concat()` with `axis=0` (default). Usually, we specify `ignore_index=True` to reset index (otherwise the original index is used)."
   ]
  },
  {
   "cell_type": "code",
   "execution_count": 6,
   "id": "f7ce846c",
   "metadata": {},
   "outputs": [
    {
     "name": "stdout",
     "output_type": "stream",
     "text": [
      "Original dataframe:\n",
      "   C1    C2  C3\n",
      "0  11  12.0  13\n",
      "1  21   NaN  23\n",
      "2  31  32.0  33\n",
      "After appending rows:\n",
      "   C1    C2  C3\n",
      "0  11  12.0  13\n",
      "1  21   NaN  23\n",
      "2  31  32.0  33\n",
      "3  41  42.0  43\n",
      "4  51  52.0  53\n"
     ]
    }
   ],
   "source": [
    "df = pd.DataFrame([[11, 12, 13], [21, np.NaN, 23], [31, 32, 33]], columns=['C1', 'C2', 'C3'])\n",
    "print('Original dataframe:')\n",
    "print(df)\n",
    "\n",
    "df_tmp = pd.DataFrame([[41, 42, 43], [51, 52, 53]], columns=df.columns)\n",
    "df = pd.concat([df, df_tmp], ignore_index=True)\n",
    "print('After appending rows:')\n",
    "print(df)\n",
    "\n",
    "del df, df_tmp"
   ]
  },
  {
   "cell_type": "markdown",
   "id": "3597d129",
   "metadata": {},
   "source": [
    "Append columns by `concat` with `axis=1` or just `join`:"
   ]
  },
  {
   "cell_type": "code",
   "execution_count": 7,
   "id": "e43c34f7",
   "metadata": {},
   "outputs": [
    {
     "name": "stdout",
     "output_type": "stream",
     "text": [
      "Original dataframe:\n",
      "   C1  C2  C3\n",
      "0  11  12  13\n",
      "1  21  22  23\n",
      "2  31  32  33\n",
      "After joining another dataframe:\n",
      "   C1  C2  C3  C4  C5\n",
      "0  11  12  13  14  15\n",
      "1  21  22  23  24  25\n",
      "2  31  32  33  34  35\n",
      "After concating yet another dataframe:\n",
      "   C1  C2  C3  C4  C5  C6  C7\n",
      "0  11  12  13  14  15  16  17\n",
      "1  21  22  23  24  25  26  27\n",
      "2  31  32  33  34  35  36  37\n"
     ]
    }
   ],
   "source": [
    "df = pd.DataFrame([[11, 12, 13], [21, 22, 23], [31, 32, 33]], columns=['C1', 'C2', 'C3'])\n",
    "print('Original dataframe:')\n",
    "print(df)\n",
    "\n",
    "df_tmp = pd.DataFrame({'C4': [14, 24, 34], 'C5': [15, 25, 35]})\n",
    "df = df.join(df_tmp)\n",
    "print('After joining another dataframe:')\n",
    "print(df)\n",
    "\n",
    "df_tmp2 = pd.DataFrame({'C6': [16, 26, 36], 'C7': [17, 27, 37]})\n",
    "df = pd.concat([df, df_tmp2], axis=1)\n",
    "print('After concating yet another dataframe:')\n",
    "print(df)\n",
    "del df, df_tmp, df_tmp2"
   ]
  },
  {
   "cell_type": "markdown",
   "id": "d82c2783-9bb2-45ca-90e9-c3aca9203003",
   "metadata": {},
   "source": [
    "# Basic Properties of the Data\n",
    "The number of rows and columns of the dataframe:"
   ]
  },
  {
   "cell_type": "code",
   "execution_count": 8,
   "id": "91ee58de-a36e-4a81-8d74-491716445f08",
   "metadata": {},
   "outputs": [
    {
     "name": "stdout",
     "output_type": "stream",
     "text": [
      "   C1  C2  C3\n",
      "0  11  12  13\n",
      "1  21  22  23\n",
      "-------------\n",
      "Number of rows: 2\n",
      "Number of columns: 3\n"
     ]
    }
   ],
   "source": [
    "df = pd.DataFrame([[11, 12, 13], [21, 22, 23]], columns=['C1', 'C2', 'C3'])\n",
    "print(df)\n",
    "print('-------------')\n",
    "print('Number of rows:', df.shape[0])\n",
    "print('Number of columns:', df.shape[1])"
   ]
  },
  {
   "cell_type": "markdown",
   "id": "0de84615-ba5f-4e41-b1af-ca44f7e634be",
   "metadata": {},
   "source": [
    "Get a more detailed info on the data structure:"
   ]
  },
  {
   "cell_type": "code",
   "execution_count": 9,
   "id": "3b4112d0-da8e-4aa7-a782-051cef96ac50",
   "metadata": {},
   "outputs": [
    {
     "name": "stdout",
     "output_type": "stream",
     "text": [
      "<class 'pandas.core.frame.DataFrame'>\n",
      "RangeIndex: 2 entries, 0 to 1\n",
      "Data columns (total 3 columns):\n",
      " #   Column  Non-Null Count  Dtype\n",
      "---  ------  --------------  -----\n",
      " 0   C1      2 non-null      int64\n",
      " 1   C2      2 non-null      int64\n",
      " 2   C3      2 non-null      int64\n",
      "dtypes: int64(3)\n",
      "memory usage: 176.0 bytes\n"
     ]
    }
   ],
   "source": [
    "df.info()"
   ]
  },
  {
   "cell_type": "markdown",
   "id": "24082a7d-0a26-4a1e-8e20-5467d0882189",
   "metadata": {},
   "source": [
    "Get some basic analysis:"
   ]
  },
  {
   "cell_type": "code",
   "execution_count": 10,
   "id": "a67ea537-f6f3-4b56-a7d4-0507353c91e9",
   "metadata": {},
   "outputs": [
    {
     "data": {
      "text/html": [
       "<div>\n",
       "<style scoped>\n",
       "    .dataframe tbody tr th:only-of-type {\n",
       "        vertical-align: middle;\n",
       "    }\n",
       "\n",
       "    .dataframe tbody tr th {\n",
       "        vertical-align: top;\n",
       "    }\n",
       "\n",
       "    .dataframe thead th {\n",
       "        text-align: right;\n",
       "    }\n",
       "</style>\n",
       "<table border=\"1\" class=\"dataframe\">\n",
       "  <thead>\n",
       "    <tr style=\"text-align: right;\">\n",
       "      <th></th>\n",
       "      <th>C1</th>\n",
       "      <th>C2</th>\n",
       "      <th>C3</th>\n",
       "    </tr>\n",
       "  </thead>\n",
       "  <tbody>\n",
       "    <tr>\n",
       "      <th>count</th>\n",
       "      <td>2.000000</td>\n",
       "      <td>2.000000</td>\n",
       "      <td>2.000000</td>\n",
       "    </tr>\n",
       "    <tr>\n",
       "      <th>mean</th>\n",
       "      <td>16.000000</td>\n",
       "      <td>17.000000</td>\n",
       "      <td>18.000000</td>\n",
       "    </tr>\n",
       "    <tr>\n",
       "      <th>std</th>\n",
       "      <td>7.071068</td>\n",
       "      <td>7.071068</td>\n",
       "      <td>7.071068</td>\n",
       "    </tr>\n",
       "    <tr>\n",
       "      <th>min</th>\n",
       "      <td>11.000000</td>\n",
       "      <td>12.000000</td>\n",
       "      <td>13.000000</td>\n",
       "    </tr>\n",
       "    <tr>\n",
       "      <th>25%</th>\n",
       "      <td>13.500000</td>\n",
       "      <td>14.500000</td>\n",
       "      <td>15.500000</td>\n",
       "    </tr>\n",
       "    <tr>\n",
       "      <th>50%</th>\n",
       "      <td>16.000000</td>\n",
       "      <td>17.000000</td>\n",
       "      <td>18.000000</td>\n",
       "    </tr>\n",
       "    <tr>\n",
       "      <th>75%</th>\n",
       "      <td>18.500000</td>\n",
       "      <td>19.500000</td>\n",
       "      <td>20.500000</td>\n",
       "    </tr>\n",
       "    <tr>\n",
       "      <th>max</th>\n",
       "      <td>21.000000</td>\n",
       "      <td>22.000000</td>\n",
       "      <td>23.000000</td>\n",
       "    </tr>\n",
       "  </tbody>\n",
       "</table>\n",
       "</div>"
      ],
      "text/plain": [
       "              C1         C2         C3\n",
       "count   2.000000   2.000000   2.000000\n",
       "mean   16.000000  17.000000  18.000000\n",
       "std     7.071068   7.071068   7.071068\n",
       "min    11.000000  12.000000  13.000000\n",
       "25%    13.500000  14.500000  15.500000\n",
       "50%    16.000000  17.000000  18.000000\n",
       "75%    18.500000  19.500000  20.500000\n",
       "max    21.000000  22.000000  23.000000"
      ]
     },
     "execution_count": 10,
     "metadata": {},
     "output_type": "execute_result"
    }
   ],
   "source": [
    "df.describe()"
   ]
  },
  {
   "cell_type": "markdown",
   "id": "080c275f-f5d9-4f57-896b-860b7beb4cc4",
   "metadata": {},
   "source": [
    "# Select Data\n",
    "Column:"
   ]
  },
  {
   "cell_type": "code",
   "execution_count": 11,
   "id": "ea39e384-21e3-4ea7-bec5-b21d9cc91af7",
   "metadata": {},
   "outputs": [
    {
     "name": "stdout",
     "output_type": "stream",
     "text": [
      "   C1  C2  C3\n",
      "0  11  12  13\n",
      "1  21  22  23\n",
      "2  31  32  33\n",
      "--------\n",
      "0    11\n",
      "1    21\n",
      "2    31\n",
      "Name: C1, dtype: int64\n",
      "--------\n",
      "0    11\n",
      "1    21\n",
      "2    31\n",
      "Name: C1, dtype: int64\n"
     ]
    }
   ],
   "source": [
    "df = pd.DataFrame([[11, 12, 13], [21, 22, 23], [31, 32, 33]], columns=['C1', 'C2', 'C3'])\n",
    "print(df)\n",
    "print('--------')\n",
    "print(df['C1']) # column\n",
    "print('--------')\n",
    "print(df.C1)"
   ]
  },
  {
   "cell_type": "markdown",
   "id": "45e2c128-cf2c-4a1d-b015-db90b839938c",
   "metadata": {},
   "source": [
    "Row:"
   ]
  },
  {
   "cell_type": "code",
   "execution_count": 12,
   "id": "380c3780-dd86-4a35-81d8-3648214bc41b",
   "metadata": {},
   "outputs": [
    {
     "name": "stdout",
     "output_type": "stream",
     "text": [
      "   C1  C2  C3\n",
      "0  11  12  13\n",
      "1  21  22  23\n",
      "2  31  32  33\n",
      "--------\n",
      "   C1  C2  C3\n",
      "1  21  22  23\n"
     ]
    }
   ],
   "source": [
    "print(df)\n",
    "print('--------')\n",
    "print(df[1:2]) # row, pythonic index style"
   ]
  },
  {
   "cell_type": "markdown",
   "id": "c2604461-f0c7-47f5-a772-ec7d44ddb07d",
   "metadata": {},
   "source": [
    "Subset of the data:"
   ]
  },
  {
   "cell_type": "code",
   "execution_count": 13,
   "id": "a1744877-c206-4d70-9cec-5869749367d4",
   "metadata": {},
   "outputs": [
    {
     "name": "stdout",
     "output_type": "stream",
     "text": [
      "   C1  C2  C3\n",
      "0  11  12  13\n",
      "1  21  22  23\n",
      "2  31  32  33\n",
      "--------\n",
      "   C2\n",
      "0  12\n",
      "1  22\n",
      "--------\n"
     ]
    },
    {
     "data": {
      "text/html": [
       "<div>\n",
       "<style scoped>\n",
       "    .dataframe tbody tr th:only-of-type {\n",
       "        vertical-align: middle;\n",
       "    }\n",
       "\n",
       "    .dataframe tbody tr th {\n",
       "        vertical-align: top;\n",
       "    }\n",
       "\n",
       "    .dataframe thead th {\n",
       "        text-align: right;\n",
       "    }\n",
       "</style>\n",
       "<table border=\"1\" class=\"dataframe\">\n",
       "  <thead>\n",
       "    <tr style=\"text-align: right;\">\n",
       "      <th></th>\n",
       "      <th>C1</th>\n",
       "      <th>C3</th>\n",
       "    </tr>\n",
       "  </thead>\n",
       "  <tbody>\n",
       "    <tr>\n",
       "      <th>1</th>\n",
       "      <td>21</td>\n",
       "      <td>23</td>\n",
       "    </tr>\n",
       "    <tr>\n",
       "      <th>2</th>\n",
       "      <td>31</td>\n",
       "      <td>33</td>\n",
       "    </tr>\n",
       "  </tbody>\n",
       "</table>\n",
       "</div>"
      ],
      "text/plain": [
       "   C1  C3\n",
       "1  21  23\n",
       "2  31  33"
      ]
     },
     "execution_count": 13,
     "metadata": {},
     "output_type": "execute_result"
    }
   ],
   "source": [
    "print(df)\n",
    "print('--------')\n",
    "print(df.iloc[0:2,1:2] ) # row 0 and 1, column 1; pythonic inidex\n",
    "print('--------')\n",
    "df.loc[1:2, ['C1','C3']] # note that, for slices, loc defaults to non-pythonic index: starting from 1 and endpoint is included"
   ]
  },
  {
   "cell_type": "markdown",
   "id": "6be87e78-0b68-49d9-9384-1c9c223fd92b",
   "metadata": {},
   "source": [
    "Specific item in the dataframe:"
   ]
  },
  {
   "cell_type": "code",
   "execution_count": 14,
   "id": "b533ba25-c768-4510-a620-8ffb088c5883",
   "metadata": {},
   "outputs": [
    {
     "name": "stdout",
     "output_type": "stream",
     "text": [
      "   C1  C2  C3\n",
      "0  11  12  13\n",
      "1  21  22  23\n",
      "2  31  32  33\n",
      "--------\n",
      "22\n",
      "--------\n"
     ]
    },
    {
     "data": {
      "text/plain": [
       "22"
      ]
     },
     "execution_count": 14,
     "metadata": {},
     "output_type": "execute_result"
    }
   ],
   "source": [
    "print(df)\n",
    "print('--------')\n",
    "print(df.iloc[1,1] ) # row 1, column 1\n",
    "print('--------')\n",
    "df.loc[1, 'C2'] # note that, for non-slices case, loc is still pythonic"
   ]
  },
  {
   "cell_type": "markdown",
   "id": "8635e01e-f158-4c84-9100-4f7925a0b081",
   "metadata": {},
   "source": [
    "# Manipulation of Data"
   ]
  },
  {
   "cell_type": "markdown",
   "id": "cdd18b9e",
   "metadata": {},
   "source": [
    "Add one column:"
   ]
  },
  {
   "cell_type": "code",
   "execution_count": 15,
   "id": "56d0a9ac-9857-4957-bd02-666aa964c8f1",
   "metadata": {},
   "outputs": [
    {
     "name": "stdout",
     "output_type": "stream",
     "text": [
      "   C1  C2  C3\n",
      "0  11  12  13\n",
      "1  21  22  23\n",
      "2  31  32  33\n",
      "--------\n",
      "   C1  C2  C3  C4\n",
      "0  11  12  13  14\n",
      "1  21  22  23  24\n",
      "2  31  32  33  34\n"
     ]
    }
   ],
   "source": [
    "df = pd.DataFrame([[11, 12, 13], [21, 22, 23], [31, 32, 33]], columns=['C1', 'C2', 'C3'])\n",
    "df_tmp = df.copy() # deep copy of dataframe. If using =, it only passes reference.\n",
    "print(df_tmp)\n",
    "print('--------')\n",
    "df_tmp['C4'] = [14, 24, 34] # add one column\n",
    "print(df_tmp)\n",
    "del df_tmp"
   ]
  },
  {
   "cell_type": "markdown",
   "id": "7bb5ac51",
   "metadata": {},
   "source": [
    "Add one row:"
   ]
  },
  {
   "cell_type": "code",
   "execution_count": 16,
   "id": "ac59e63f-282c-43df-ab00-ee6ee27ece9b",
   "metadata": {},
   "outputs": [
    {
     "name": "stdout",
     "output_type": "stream",
     "text": [
      "   C1  C2  C3\n",
      "0  11  12  13\n",
      "1  21  22  23\n",
      "2  31  32  33\n",
      "--------\n",
      "   C1  C2  C3\n",
      "0  11  12  13\n",
      "1  21  22  23\n",
      "2  31  32  33\n",
      "3  41  42  43\n"
     ]
    }
   ],
   "source": [
    "df_tmp = df.copy()\n",
    "print(df_tmp)\n",
    "print('--------')\n",
    "# df_tmp[3:4] = [41, 42, 43] this does not work!\n",
    "df_tmp.loc[3] = [41, 42, 43]\n",
    "print(df_tmp)\n",
    "del df_tmp"
   ]
  },
  {
   "cell_type": "markdown",
   "id": "315074ad-c833-48e0-9bde-f6cf648710af",
   "metadata": {},
   "source": [
    "# Filtering Data"
   ]
  },
  {
   "cell_type": "markdown",
   "id": "62523275-d9e8-4d9b-8eca-a4f9629eefcb",
   "metadata": {},
   "source": [
    "Specifying conditions for filtering data:"
   ]
  },
  {
   "cell_type": "code",
   "execution_count": 18,
   "id": "383802ed-194f-48da-892f-56e147c6e632",
   "metadata": {},
   "outputs": [
    {
     "name": "stdout",
     "output_type": "stream",
     "text": [
      "   C1  C2  C3\n",
      "0  11  12  13\n",
      "1  21  22  23\n",
      "2  31  32  33\n",
      "------------------\n",
      "   C1  C2  C3\n",
      "1  21  22  23\n",
      "2  31  32  33\n",
      "------------------\n",
      "   C1  C2  C3\n",
      "0  11  12  13\n",
      "2  31  32  33\n"
     ]
    }
   ],
   "source": [
    "df = pd.DataFrame([[11, 12, 13], [21, 22, 23], [31, 32, 33]], columns=['C1', 'C2', 'C3'])\n",
    "print(df)\n",
    "print('------------------')\n",
    "print(df[df['C2'] > 20])\n",
    "print('------------------')\n",
    "print(df[df['C2'].isin([12, 32])])"
   ]
  },
  {
   "cell_type": "markdown",
   "id": "daaf3f20-cb7e-4e9a-b53e-2772536e255f",
   "metadata": {},
   "source": [
    "Remove \"not available\":"
   ]
  },
  {
   "cell_type": "code",
   "execution_count": 19,
   "id": "f9266251-d8c4-42eb-861b-5bb8a25a71e1",
   "metadata": {},
   "outputs": [
    {
     "name": "stdout",
     "output_type": "stream",
     "text": [
      "   C1  C2    C3\n",
      "0  11  12  13.0\n",
      "1  21  22   NaN\n",
      "2  31  32   NaN\n",
      "--------\n",
      "   C1  C2    C3\n",
      "0  11  12  13.0\n"
     ]
    }
   ],
   "source": [
    "df = pd.DataFrame([[11, 12, 13], [21, 22, np.NaN], [31, 32, np.NaN]], columns=['C1', 'C2', 'C3'])\n",
    "print(df)\n",
    "print('--------')\n",
    "print(df[df['C3'].notna()]) # notna = not NA = not not-available"
   ]
  },
  {
   "cell_type": "markdown",
   "id": "3f4ee368",
   "metadata": {},
   "source": [
    "# Apply Self-Defined Function"
   ]
  },
  {
   "cell_type": "markdown",
   "id": "fff09340",
   "metadata": {},
   "source": [
    "Note that the first variable in the self-define function should always be the input data.\n",
    "\n",
    "One column input, one column output (no need to specify `axis` as input is a `pandas.Series`):"
   ]
  },
  {
   "cell_type": "code",
   "execution_count": 38,
   "id": "8569f6c1",
   "metadata": {},
   "outputs": [
    {
     "name": "stdout",
     "output_type": "stream",
     "text": [
      "   C1  C2  C3\n",
      "0  11  12  13\n",
      "1  21  22  23\n",
      "2  31  32  33\n",
      "--------\n",
      "   C1  C2  C3  C3+arg1\n",
      "0  11  12  13       16\n",
      "1  21  22  23       26\n",
      "2  31  32  33       36\n"
     ]
    }
   ],
   "source": [
    "df = pd.DataFrame([[11, 12, 13], [21, 22, 23], [31, 32, 33]], columns=['C1', 'C2', 'C3'])\n",
    "print(df)\n",
    "print('--------')\n",
    "\n",
    "def function_0(sample_input, argument1=1, argument2=2):\n",
    "    return sample_input + argument1\n",
    "df_tmp = df.copy()\n",
    "df_tmp['C3+arg1'] = df_tmp['C3'].apply(function_0, args=(3, 4))\n",
    "print(df_tmp)"
   ]
  },
  {
   "cell_type": "markdown",
   "id": "394c07f5",
   "metadata": {},
   "source": [
    "Many-column input, many-column output.\n",
    "\n",
    "The parameter `axis` indicates axis to which the self-defined function applies\":  \n",
    "- `0` or `'index'` => apply to each column (row vector as a variable in the function)  \n",
    "- `1` or `'columns'` => apply to each row (column vector as a variable in the function)"
   ]
  },
  {
   "cell_type": "code",
   "execution_count": 46,
   "id": "b063d6e8",
   "metadata": {},
   "outputs": [
    {
     "name": "stdout",
     "output_type": "stream",
     "text": [
      "   C1  C2  C3\n",
      "0  11  12  13\n",
      "1  21  22  23\n",
      "2  31  32  33\n",
      "--------\n",
      "   C1  C2  C3  C1+ar1  C2+ar2\n",
      "0  11  12  13      14      15\n",
      "1  21  22  23      24      25\n",
      "2  31  32  33      34      35\n"
     ]
    }
   ],
   "source": [
    "df = pd.DataFrame([[11, 12, 13], [21, 22, 23], [31, 32, 33]], columns=['C1', 'C2', 'C3'])\n",
    "print(df)\n",
    "print('--------')\n",
    "\n",
    "def function_1(sample_input, argument1=1, argument2=2):\n",
    "    sample_input['C1+ar1'] = sample_input['C1'] + argument1\n",
    "    sample_input['C2+ar2'] = sample_input['C2'] + argument2\n",
    "    return sample_input\n",
    "\n",
    "df_tmp = df.copy()\n",
    "df_tmp = df_tmp.apply(function_1, args=(3, 3), axis=1)\n",
    "print(df_tmp)"
   ]
  },
  {
   "cell_type": "markdown",
   "id": "3a338fce",
   "metadata": {},
   "source": [
    "Many-row input, many-row output."
   ]
  },
  {
   "cell_type": "code",
   "execution_count": 48,
   "id": "8b5e0ae0",
   "metadata": {},
   "outputs": [
    {
     "name": "stdout",
     "output_type": "stream",
     "text": [
      "   C1  C2  C3\n",
      "0  11  12  13\n",
      "1  21  22  23\n",
      "2  31  32  33\n",
      "--------\n",
      "   C1  C2  C3\n",
      "0  11  12  13\n",
      "1  21  22  23\n",
      "2  31  32  33\n",
      "3  41  42  43\n",
      "4  51  52  53\n"
     ]
    }
   ],
   "source": [
    "df = pd.DataFrame([[11, 12, 13], [21, 22, 23], [31, 32, 33]], columns=['C1', 'C2', 'C3'])\n",
    "print(df)\n",
    "print('--------')\n",
    "\n",
    "def function_2(sample_input, argument1=1, argument2=2):\n",
    "    sample_input.loc[3] = sample_input.loc[0] + argument1\n",
    "    sample_input.loc[4] = sample_input.loc[1] + argument2\n",
    "    return sample_input\n",
    "\n",
    "df_tmp = df.copy()\n",
    "df_tmp = df_tmp.apply(function_2, args=(30, 30), axis=0)\n",
    "print(df_tmp)"
   ]
  },
  {
   "cell_type": "markdown",
   "id": "de449aa9-f64f-463c-9cd8-ff7b75d3e1ec",
   "metadata": {},
   "source": [
    "# Combination of Dataframes\n",
    "## Join\n",
    "```data_frame_a.join(data_frame_b)``` will join the two dataframes `data_frame_a` and `data_frame_b` together:"
   ]
  },
  {
   "cell_type": "code",
   "execution_count": 22,
   "id": "2267873c",
   "metadata": {},
   "outputs": [
    {
     "name": "stdout",
     "output_type": "stream",
     "text": [
      "   C1  C2  C3\n",
      "0   1   2   3\n",
      "1  21  22  23\n",
      "2  31  32  33\n",
      "--------\n",
      "   C1  C5  C6\n",
      "0   4   5   6\n",
      "1  24  25  26\n",
      "2  34  35  36\n",
      "--------\n",
      "   C1_left  C2  C3  C1_right  C5  C6\n",
      "0        1   2   3         4   5   6\n",
      "1       21  22  23        24  25  26\n",
      "2       31  32  33        34  35  36\n"
     ]
    }
   ],
   "source": [
    "# set up example dataframe\n",
    "column_name = ['C1', 'C2', 'C3']\n",
    "a = [1, 2, 3]\n",
    "b = [21, 22, 23]\n",
    "c = [31, 32, 33]\n",
    "df1 = pd.DataFrame([a, b, c], columns=column_name)\n",
    "column_name = ['C1', 'C5', 'C6']\n",
    "a = [4, 5, 6]\n",
    "b = [24, 25, 26]\n",
    "c = [34, 35, 36]\n",
    "df2 = pd.DataFrame([a, b, c], columns=column_name)\n",
    "\n",
    "\n",
    "print(df1)\n",
    "print('--------')\n",
    "print(df2)\n",
    "print('--------')\n",
    "df_tmp = df1.join(df2, lsuffix = '_left', rsuffix = '_right') # will give error if suffix is not supplied (but pandas dataframe does accept duplicate column names)\n",
    "print(df_tmp)\n",
    "del df1, df2, df_tmp"
   ]
  },
  {
   "cell_type": "markdown",
   "id": "f2e25fee-5992-4aa3-af2c-962e06f90050",
   "metadata": {},
   "source": [
    "## Merge\n",
    "\n",
    "Merge two dataframes by matching the values of a specified column in the two dataframes.\n"
   ]
  },
  {
   "cell_type": "code",
   "execution_count": 23,
   "id": "e35fcc10-69d4-49ea-9303-02e0b8337e06",
   "metadata": {},
   "outputs": [
    {
     "name": "stdout",
     "output_type": "stream",
     "text": [
      "   C1  C2  C3\n",
      "0   1   2   3\n",
      "1  21  22  23\n",
      "2  31  32  33\n",
      "--------\n",
      "   C4  C5  C6\n",
      "0   1   5   6\n",
      "1  31  25  26\n",
      "2  21  35  36\n",
      "--------\n",
      "   C1  C2  C3  C4  C5  C6\n",
      "0   1   2   3   1   5   6\n",
      "1  21  22  23  21  35  36\n",
      "2  31  32  33  31  25  26\n"
     ]
    }
   ],
   "source": [
    "# set up example dataframe\n",
    "column_name = ['C1', 'C2', 'C3']\n",
    "a = [1, 2, 3]\n",
    "b = [21, 22, 23]\n",
    "c = [31, 32, 33]\n",
    "df1 = pd.DataFrame([a, b, c], columns=column_name)\n",
    "column_name = ['C4', 'C5', 'C6']\n",
    "a = [1, 5, 6]\n",
    "b = [31, 25, 26]\n",
    "c = [21, 35, 36]\n",
    "df2 = pd.DataFrame([a, b, c], columns=column_name)\n",
    "\n",
    "\n",
    "print(df1)\n",
    "print('--------')\n",
    "print(df2)\n",
    "print('--------')\n",
    "df_tmp = df1.merge(df2, left_on='C1', right_on='C4')\n",
    "print(df_tmp)\n",
    "del df1, df2, df_tmp"
   ]
  },
  {
   "cell_type": "markdown",
   "id": "f20037e1",
   "metadata": {},
   "source": [
    "If the duplicates occur in the matching column, all possible combinations will be created:"
   ]
  },
  {
   "cell_type": "code",
   "execution_count": 24,
   "id": "c6906cc4",
   "metadata": {},
   "outputs": [
    {
     "name": "stdout",
     "output_type": "stream",
     "text": [
      "   C1  C2\n",
      "0   1   2\n",
      "1   4  22\n",
      "2   4  32\n",
      "--------\n",
      "   C3  C4\n",
      "0   1   5\n",
      "1   4  25\n",
      "2   4  35\n",
      "--------\n",
      "   C1  C2  C3  C4\n",
      "0   1   2   1   5\n",
      "1   4  22   4  25\n",
      "2   4  22   4  35\n",
      "3   4  32   4  25\n",
      "4   4  32   4  35\n"
     ]
    }
   ],
   "source": [
    "# set up example dataframe\n",
    "column_name = ['C1', 'C2']\n",
    "a = [1, 2]\n",
    "b = [4, 22]\n",
    "c = [4, 32]\n",
    "df1 = pd.DataFrame([a, b, c], columns=column_name)\n",
    "column_name = ['C3', 'C4']\n",
    "a = [1, 5]\n",
    "b = [4, 25]\n",
    "c = [4, 35]\n",
    "df2 = pd.DataFrame([a, b, c], columns=column_name)\n",
    "\n",
    "\n",
    "print(df1)\n",
    "print('--------')\n",
    "print(df2)\n",
    "print('--------')\n",
    "df_tmp = df1.merge(df2, left_on='C1', right_on='C3')\n",
    "print(df_tmp)\n",
    "del df1, df2, df_tmp"
   ]
  },
  {
   "cell_type": "markdown",
   "id": "c80c253f-8116-4b0b-bf94-c5fabfb09107",
   "metadata": {},
   "source": [
    "## Concatenate\n",
    "\n",
    "Combine two dataframe in a specific direction (`axis=1` for the column-changing direction, and `axis=0` for the row-changing direction).\n",
    "\n",
    "When `axis=0`, use `ignore_index=True` to reset the index."
   ]
  },
  {
   "cell_type": "markdown",
   "id": "7ebe37f7",
   "metadata": {},
   "source": [
    "# Discuss the parameter `join={'inner', 'outer'}` in concat."
   ]
  },
  {
   "cell_type": "code",
   "execution_count": 25,
   "id": "752a69a7-b6d0-4ebb-b768-8d835118344d",
   "metadata": {},
   "outputs": [
    {
     "name": "stdout",
     "output_type": "stream",
     "text": [
      "   C1  C2\n",
      "0   1   2\n",
      "1   2  22\n",
      "2   3  32\n",
      "--------\n",
      "   C1  C2\n",
      "0   4   2\n",
      "1   5  22\n",
      "2   6  32\n",
      "--------\n",
      "   C3  C4\n",
      "0   1   5\n",
      "1   2  25\n",
      "2   3  35\n",
      "--------\n",
      "   C1  C2\n",
      "0   1   2\n",
      "1   2  22\n",
      "2   3  32\n",
      "3   4   2\n",
      "4   5  22\n",
      "5   6  32\n",
      "--------\n",
      "   C1  C2  C3  C4\n",
      "0   1   2   1   5\n",
      "1   2  22   2  25\n",
      "2   3  32   3  35\n"
     ]
    }
   ],
   "source": [
    "# set up example dataframe\n",
    "column_name = ['C1', 'C2']\n",
    "a = [1, 2]\n",
    "b = [2, 22]\n",
    "c = [3, 32]\n",
    "df1 = pd.DataFrame([a, b, c], columns=column_name)\n",
    "column_name = ['C1', 'C2']\n",
    "a = [4, 2]\n",
    "b = [5, 22]\n",
    "c = [6, 32]\n",
    "df2 = pd.DataFrame([a, b, c], columns=column_name)\n",
    "column_name = ['C3', 'C4']\n",
    "a = [1, 5]\n",
    "b = [2, 25]\n",
    "c = [3, 35]\n",
    "df3 = pd.DataFrame([a, b, c], columns=column_name)\n",
    "\n",
    "\n",
    "print(df1)\n",
    "print('--------')\n",
    "print(df2)\n",
    "print('--------')\n",
    "print(df3)\n",
    "print('--------')\n",
    "df_tmp = pd.concat([df1, df2], axis=0, ignore_index=True) \n",
    "print(df_tmp)\n",
    "print('--------')\n",
    "df_tmp = pd.concat([df1, df3], axis=1)\n",
    "print(df_tmp)\n",
    "del df1, df2, df3, df_tmp"
   ]
  },
  {
   "cell_type": "markdown",
   "id": "26ddf559-aeef-4e95-8d41-d111ea55c920",
   "metadata": {},
   "source": [
    "# Data Read-in"
   ]
  },
  {
   "cell_type": "code",
   "execution_count": 26,
   "id": "13039724-cf9f-4882-b7a2-d5bb07b0d3b7",
   "metadata": {},
   "outputs": [
    {
     "name": "stdout",
     "output_type": "stream",
     "text": [
      "<class 'pandas.core.frame.DataFrame'>\n",
      "RangeIndex: 150 entries, 0 to 149\n",
      "Data columns (total 5 columns):\n",
      " #   Column        Non-Null Count  Dtype  \n",
      "---  ------        --------------  -----  \n",
      " 0   sepal_length  150 non-null    float64\n",
      " 1   sepal_width   150 non-null    float64\n",
      " 2   petal_length  150 non-null    float64\n",
      " 3   petal_width   150 non-null    float64\n",
      " 4   species       150 non-null    object \n",
      "dtypes: float64(4), object(1)\n",
      "memory usage: 6.0+ KB\n"
     ]
    },
    {
     "data": {
      "text/html": [
       "<div>\n",
       "<style scoped>\n",
       "    .dataframe tbody tr th:only-of-type {\n",
       "        vertical-align: middle;\n",
       "    }\n",
       "\n",
       "    .dataframe tbody tr th {\n",
       "        vertical-align: top;\n",
       "    }\n",
       "\n",
       "    .dataframe thead th {\n",
       "        text-align: right;\n",
       "    }\n",
       "</style>\n",
       "<table border=\"1\" class=\"dataframe\">\n",
       "  <thead>\n",
       "    <tr style=\"text-align: right;\">\n",
       "      <th></th>\n",
       "      <th>sepal_length</th>\n",
       "      <th>sepal_width</th>\n",
       "      <th>petal_length</th>\n",
       "      <th>petal_width</th>\n",
       "    </tr>\n",
       "  </thead>\n",
       "  <tbody>\n",
       "    <tr>\n",
       "      <th>count</th>\n",
       "      <td>150.000000</td>\n",
       "      <td>150.000000</td>\n",
       "      <td>150.000000</td>\n",
       "      <td>150.000000</td>\n",
       "    </tr>\n",
       "    <tr>\n",
       "      <th>mean</th>\n",
       "      <td>5.843333</td>\n",
       "      <td>3.054000</td>\n",
       "      <td>3.758667</td>\n",
       "      <td>1.198667</td>\n",
       "    </tr>\n",
       "    <tr>\n",
       "      <th>std</th>\n",
       "      <td>0.828066</td>\n",
       "      <td>0.433594</td>\n",
       "      <td>1.764420</td>\n",
       "      <td>0.763161</td>\n",
       "    </tr>\n",
       "    <tr>\n",
       "      <th>min</th>\n",
       "      <td>4.300000</td>\n",
       "      <td>2.000000</td>\n",
       "      <td>1.000000</td>\n",
       "      <td>0.100000</td>\n",
       "    </tr>\n",
       "    <tr>\n",
       "      <th>25%</th>\n",
       "      <td>5.100000</td>\n",
       "      <td>2.800000</td>\n",
       "      <td>1.600000</td>\n",
       "      <td>0.300000</td>\n",
       "    </tr>\n",
       "    <tr>\n",
       "      <th>50%</th>\n",
       "      <td>5.800000</td>\n",
       "      <td>3.000000</td>\n",
       "      <td>4.350000</td>\n",
       "      <td>1.300000</td>\n",
       "    </tr>\n",
       "    <tr>\n",
       "      <th>75%</th>\n",
       "      <td>6.400000</td>\n",
       "      <td>3.300000</td>\n",
       "      <td>5.100000</td>\n",
       "      <td>1.800000</td>\n",
       "    </tr>\n",
       "    <tr>\n",
       "      <th>max</th>\n",
       "      <td>7.900000</td>\n",
       "      <td>4.400000</td>\n",
       "      <td>6.900000</td>\n",
       "      <td>2.500000</td>\n",
       "    </tr>\n",
       "  </tbody>\n",
       "</table>\n",
       "</div>"
      ],
      "text/plain": [
       "       sepal_length  sepal_width  petal_length  petal_width\n",
       "count    150.000000   150.000000    150.000000   150.000000\n",
       "mean       5.843333     3.054000      3.758667     1.198667\n",
       "std        0.828066     0.433594      1.764420     0.763161\n",
       "min        4.300000     2.000000      1.000000     0.100000\n",
       "25%        5.100000     2.800000      1.600000     0.300000\n",
       "50%        5.800000     3.000000      4.350000     1.300000\n",
       "75%        6.400000     3.300000      5.100000     1.800000\n",
       "max        7.900000     4.400000      6.900000     2.500000"
      ]
     },
     "execution_count": 26,
     "metadata": {},
     "output_type": "execute_result"
    }
   ],
   "source": [
    "df_iris = pd.read_csv(\"data/iris.csv\")\n",
    "df_iris.info()\n",
    "df_iris.describe()"
   ]
  },
  {
   "cell_type": "markdown",
   "id": "30c97c9b-8ea4-48d9-888d-a7affe8818c4",
   "metadata": {},
   "source": [
    "## Time Data"
   ]
  },
  {
   "cell_type": "code",
   "execution_count": 27,
   "id": "f90de9d7-a042-4322-b313-33a4604aa13e",
   "metadata": {},
   "outputs": [],
   "source": [
    "# read a file and parse time at certain column\n",
    "#df = DataFrame(\"data/time.csv\", parse_dates=[\"date_1\", \"date_2\"])"
   ]
  },
  {
   "cell_type": "code",
   "execution_count": 28,
   "id": "d59eea1a-1e49-40f2-91cf-3eb2b7f5f32a",
   "metadata": {},
   "outputs": [
    {
     "data": {
      "text/plain": [
       "28"
      ]
     },
     "execution_count": 28,
     "metadata": {},
     "output_type": "execute_result"
    }
   ],
   "source": [
    "# days in a month \n",
    "pd.Period('2018-2-17').days_in_month"
   ]
  },
  {
   "cell_type": "code",
   "execution_count": null,
   "id": "fdd4298b-9420-40dc-8662-d5843633179e",
   "metadata": {},
   "outputs": [],
   "source": []
  }
 ],
 "metadata": {
  "interpreter": {
   "hash": "2637a4237c9832f1722b2cd300ef9b76dbc03b8bb4d86f4166da260fe841abb3"
  },
  "kernelspec": {
   "display_name": "Python 3.7.9 64-bit",
   "language": "python",
   "name": "python3"
  },
  "language_info": {
   "codemirror_mode": {
    "name": "ipython",
    "version": 3
   },
   "file_extension": ".py",
   "mimetype": "text/x-python",
   "name": "python",
   "nbconvert_exporter": "python",
   "pygments_lexer": "ipython3",
   "version": "3.7.9"
  }
 },
 "nbformat": 4,
 "nbformat_minor": 5
}
