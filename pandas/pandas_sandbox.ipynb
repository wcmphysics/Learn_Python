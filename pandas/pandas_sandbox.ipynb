{
 "cells": [
  {
   "cell_type": "markdown",
   "id": "34bbafa9-0ed3-4629-b315-69f1155971f2",
   "metadata": {},
   "source": [
    "# Data Creation\n",
    "There are several ways to create dataframe:"
   ]
  },
  {
   "cell_type": "code",
   "execution_count": 3,
   "id": "b5236d84-3ab0-4258-b1bd-b72139688b6f",
   "metadata": {},
   "outputs": [
    {
     "data": {
      "text/html": [
       "<div>\n",
       "<style scoped>\n",
       "    .dataframe tbody tr th:only-of-type {\n",
       "        vertical-align: middle;\n",
       "    }\n",
       "\n",
       "    .dataframe tbody tr th {\n",
       "        vertical-align: top;\n",
       "    }\n",
       "\n",
       "    .dataframe thead th {\n",
       "        text-align: right;\n",
       "    }\n",
       "</style>\n",
       "<table border=\"1\" class=\"dataframe\">\n",
       "  <thead>\n",
       "    <tr style=\"text-align: right;\">\n",
       "      <th></th>\n",
       "      <th>C1</th>\n",
       "      <th>C2</th>\n",
       "      <th>C3</th>\n",
       "      <th>C4</th>\n",
       "    </tr>\n",
       "  </thead>\n",
       "  <tbody>\n",
       "    <tr>\n",
       "      <th>0</th>\n",
       "      <td>1</td>\n",
       "      <td>2</td>\n",
       "      <td>3</td>\n",
       "      <td>4</td>\n",
       "    </tr>\n",
       "    <tr>\n",
       "      <th>1</th>\n",
       "      <td>21</td>\n",
       "      <td>22</td>\n",
       "      <td>23</td>\n",
       "      <td>24</td>\n",
       "    </tr>\n",
       "  </tbody>\n",
       "</table>\n",
       "</div>"
      ],
      "text/plain": [
       "   C1  C2  C3  C4\n",
       "0   1   2   3   4\n",
       "1  21  22  23  24"
      ]
     },
     "execution_count": 3,
     "metadata": {},
     "output_type": "execute_result"
    }
   ],
   "source": [
    "import pandas as pd\n",
    "\n",
    "a = [1, 2, 3, 4]\n",
    "b = [21, 22, 23, 24]\n",
    "name = [\"C1\", \"C2\", \"C3\", \"C4\"]\n",
    "df1 = pd.DataFrame([a, b])\n",
    "df1.columns = name\n",
    "df1"
   ]
  },
  {
   "cell_type": "markdown",
   "id": "7b562254-9db8-4c59-a7d8-6e32758f6ff9",
   "metadata": {},
   "source": [
    "or:"
   ]
  },
  {
   "cell_type": "code",
   "execution_count": 46,
   "id": "7724a975",
   "metadata": {},
   "outputs": [
    {
     "data": {
      "text/html": [
       "<div>\n",
       "<style scoped>\n",
       "    .dataframe tbody tr th:only-of-type {\n",
       "        vertical-align: middle;\n",
       "    }\n",
       "\n",
       "    .dataframe tbody tr th {\n",
       "        vertical-align: top;\n",
       "    }\n",
       "\n",
       "    .dataframe thead th {\n",
       "        text-align: right;\n",
       "    }\n",
       "</style>\n",
       "<table border=\"1\" class=\"dataframe\">\n",
       "  <thead>\n",
       "    <tr style=\"text-align: right;\">\n",
       "      <th></th>\n",
       "      <th>C1</th>\n",
       "      <th>D1</th>\n",
       "      <th>D2</th>\n",
       "    </tr>\n",
       "  </thead>\n",
       "  <tbody>\n",
       "    <tr>\n",
       "      <th>0</th>\n",
       "      <td>1</td>\n",
       "      <td>a</td>\n",
       "      <td>a1</td>\n",
       "    </tr>\n",
       "    <tr>\n",
       "      <th>1</th>\n",
       "      <td>21</td>\n",
       "      <td>b</td>\n",
       "      <td>b1</td>\n",
       "    </tr>\n",
       "    <tr>\n",
       "      <th>2</th>\n",
       "      <td>31</td>\n",
       "      <td>c</td>\n",
       "      <td>c1</td>\n",
       "    </tr>\n",
       "  </tbody>\n",
       "</table>\n",
       "</div>"
      ],
      "text/plain": [
       "   C1 D1  D2\n",
       "0   1  a  a1\n",
       "1  21  b  b1\n",
       "2  31  c  c1"
      ]
     },
     "execution_count": 46,
     "metadata": {},
     "output_type": "execute_result"
    }
   ],
   "source": [
    "a = [1, \"a\", \"a1\"]\n",
    "b = [21, \"b\", \"b1\"]\n",
    "c = [31, \"c\", \"c1\"]\n",
    "name = [\"C1\", \"D1\", \"D2\"]\n",
    "df2 = pd.DataFrame([a, b, c])\n",
    "df2.columns = name\n",
    "df2"
   ]
  },
  {
   "cell_type": "code",
   "execution_count": 47,
   "id": "f8052142-0770-4fb7-8509-266a723f556b",
   "metadata": {},
   "outputs": [
    {
     "data": {
      "text/html": [
       "<div>\n",
       "<style scoped>\n",
       "    .dataframe tbody tr th:only-of-type {\n",
       "        vertical-align: middle;\n",
       "    }\n",
       "\n",
       "    .dataframe tbody tr th {\n",
       "        vertical-align: top;\n",
       "    }\n",
       "\n",
       "    .dataframe thead th {\n",
       "        text-align: right;\n",
       "    }\n",
       "</style>\n",
       "<table border=\"1\" class=\"dataframe\">\n",
       "  <thead>\n",
       "    <tr style=\"text-align: right;\">\n",
       "      <th></th>\n",
       "      <th>E1</th>\n",
       "      <th>E2</th>\n",
       "      <th>E3</th>\n",
       "    </tr>\n",
       "  </thead>\n",
       "  <tbody>\n",
       "    <tr>\n",
       "      <th>0</th>\n",
       "      <td>1</td>\n",
       "      <td>11</td>\n",
       "      <td>111</td>\n",
       "    </tr>\n",
       "    <tr>\n",
       "      <th>1</th>\n",
       "      <td>21</td>\n",
       "      <td>22</td>\n",
       "      <td>222</td>\n",
       "    </tr>\n",
       "    <tr>\n",
       "      <th>2</th>\n",
       "      <td>41</td>\n",
       "      <td>44</td>\n",
       "      <td>444</td>\n",
       "    </tr>\n",
       "  </tbody>\n",
       "</table>\n",
       "</div>"
      ],
      "text/plain": [
       "   E1  E2   E3\n",
       "0   1  11  111\n",
       "1  21  22  222\n",
       "2  41  44  444"
      ]
     },
     "execution_count": 47,
     "metadata": {},
     "output_type": "execute_result"
    }
   ],
   "source": [
    "a = [1, 11, 111]\n",
    "b = [21, 22, 222]\n",
    "c = [41, 44, 444]\n",
    "name = [\"E1\", \"E2\", \"E3\"]\n",
    "df3 = pd.DataFrame([a, b, c])\n",
    "df3.columns = name\n",
    "df3"
   ]
  },
  {
   "cell_type": "code",
   "execution_count": 180,
   "id": "b1fc95fa-5eb5-47a7-8355-400037c5a7cc",
   "metadata": {},
   "outputs": [
    {
     "data": {
      "text/html": [
       "<div>\n",
       "<style scoped>\n",
       "    .dataframe tbody tr th:only-of-type {\n",
       "        vertical-align: middle;\n",
       "    }\n",
       "\n",
       "    .dataframe tbody tr th {\n",
       "        vertical-align: top;\n",
       "    }\n",
       "\n",
       "    .dataframe thead th {\n",
       "        text-align: right;\n",
       "    }\n",
       "</style>\n",
       "<table border=\"1\" class=\"dataframe\">\n",
       "  <thead>\n",
       "    <tr style=\"text-align: right;\">\n",
       "      <th></th>\n",
       "      <th>F1</th>\n",
       "      <th>F2</th>\n",
       "      <th>F3</th>\n",
       "    </tr>\n",
       "  </thead>\n",
       "  <tbody>\n",
       "    <tr>\n",
       "      <th>0</th>\n",
       "      <td>1</td>\n",
       "      <td>11</td>\n",
       "      <td>111.0</td>\n",
       "    </tr>\n",
       "    <tr>\n",
       "      <th>1</th>\n",
       "      <td>21</td>\n",
       "      <td>22</td>\n",
       "      <td>222.0</td>\n",
       "    </tr>\n",
       "    <tr>\n",
       "      <th>2</th>\n",
       "      <td>51</td>\n",
       "      <td>52</td>\n",
       "      <td>NaN</td>\n",
       "    </tr>\n",
       "  </tbody>\n",
       "</table>\n",
       "</div>"
      ],
      "text/plain": [
       "   F1  F2     F3\n",
       "0   1  11  111.0\n",
       "1  21  22  222.0\n",
       "2  51  52    NaN"
      ]
     },
     "execution_count": 180,
     "metadata": {},
     "output_type": "execute_result"
    }
   ],
   "source": [
    "a = [1, 11, 111]\n",
    "b = [21, 22, 222]\n",
    "c = [51, 52]\n",
    "name = [\"F1\", \"F2\", \"F3\"]\n",
    "df4 = pd.DataFrame([a, b, c])\n",
    "df4.columns = name\n",
    "df4"
   ]
  },
  {
   "cell_type": "markdown",
   "id": "d82c2783-9bb2-45ca-90e9-c3aca9203003",
   "metadata": {},
   "source": [
    "# Basic Properties of the Data\n",
    "The number of rows and columns of the dataframe:"
   ]
  },
  {
   "cell_type": "code",
   "execution_count": 118,
   "id": "91ee58de-a36e-4a81-8d74-491716445f08",
   "metadata": {},
   "outputs": [
    {
     "name": "stdout",
     "output_type": "stream",
     "text": [
      "   C1  C2  C3  C4\n",
      "0   1   2   3   4\n",
      "1  21  22  23  24\n",
      "-------------\n",
      "(2, 4)\n"
     ]
    }
   ],
   "source": [
    "print(df1)\n",
    "print('-------------')\n",
    "print(df1.shape)"
   ]
  },
  {
   "cell_type": "markdown",
   "id": "0de84615-ba5f-4e41-b1af-ca44f7e634be",
   "metadata": {},
   "source": [
    "Get a more detailed info on the data structure:"
   ]
  },
  {
   "cell_type": "code",
   "execution_count": 69,
   "id": "3b4112d0-da8e-4aa7-a782-051cef96ac50",
   "metadata": {},
   "outputs": [
    {
     "name": "stdout",
     "output_type": "stream",
     "text": [
      "<class 'pandas.core.frame.DataFrame'>\n",
      "RangeIndex: 2 entries, 0 to 1\n",
      "Data columns (total 4 columns):\n",
      " #   Column  Non-Null Count  Dtype\n",
      "---  ------  --------------  -----\n",
      " 0   C1      2 non-null      int64\n",
      " 1   C2      2 non-null      int64\n",
      " 2   C3      2 non-null      int64\n",
      " 3   C4      2 non-null      int64\n",
      "dtypes: int64(4)\n",
      "memory usage: 192.0 bytes\n"
     ]
    }
   ],
   "source": [
    "df1.info()"
   ]
  },
  {
   "cell_type": "markdown",
   "id": "24082a7d-0a26-4a1e-8e20-5467d0882189",
   "metadata": {},
   "source": [
    "Get some basic analysis:"
   ]
  },
  {
   "cell_type": "code",
   "execution_count": 68,
   "id": "a67ea537-f6f3-4b56-a7d4-0507353c91e9",
   "metadata": {},
   "outputs": [
    {
     "data": {
      "text/html": [
       "<div>\n",
       "<style scoped>\n",
       "    .dataframe tbody tr th:only-of-type {\n",
       "        vertical-align: middle;\n",
       "    }\n",
       "\n",
       "    .dataframe tbody tr th {\n",
       "        vertical-align: top;\n",
       "    }\n",
       "\n",
       "    .dataframe thead th {\n",
       "        text-align: right;\n",
       "    }\n",
       "</style>\n",
       "<table border=\"1\" class=\"dataframe\">\n",
       "  <thead>\n",
       "    <tr style=\"text-align: right;\">\n",
       "      <th></th>\n",
       "      <th>C1</th>\n",
       "      <th>C2</th>\n",
       "      <th>C3</th>\n",
       "      <th>C4</th>\n",
       "    </tr>\n",
       "  </thead>\n",
       "  <tbody>\n",
       "    <tr>\n",
       "      <th>count</th>\n",
       "      <td>2.000000</td>\n",
       "      <td>2.000000</td>\n",
       "      <td>2.000000</td>\n",
       "      <td>2.000000</td>\n",
       "    </tr>\n",
       "    <tr>\n",
       "      <th>mean</th>\n",
       "      <td>11.000000</td>\n",
       "      <td>12.000000</td>\n",
       "      <td>13.000000</td>\n",
       "      <td>14.000000</td>\n",
       "    </tr>\n",
       "    <tr>\n",
       "      <th>std</th>\n",
       "      <td>14.142136</td>\n",
       "      <td>14.142136</td>\n",
       "      <td>14.142136</td>\n",
       "      <td>14.142136</td>\n",
       "    </tr>\n",
       "    <tr>\n",
       "      <th>min</th>\n",
       "      <td>1.000000</td>\n",
       "      <td>2.000000</td>\n",
       "      <td>3.000000</td>\n",
       "      <td>4.000000</td>\n",
       "    </tr>\n",
       "    <tr>\n",
       "      <th>25%</th>\n",
       "      <td>6.000000</td>\n",
       "      <td>7.000000</td>\n",
       "      <td>8.000000</td>\n",
       "      <td>9.000000</td>\n",
       "    </tr>\n",
       "    <tr>\n",
       "      <th>50%</th>\n",
       "      <td>11.000000</td>\n",
       "      <td>12.000000</td>\n",
       "      <td>13.000000</td>\n",
       "      <td>14.000000</td>\n",
       "    </tr>\n",
       "    <tr>\n",
       "      <th>75%</th>\n",
       "      <td>16.000000</td>\n",
       "      <td>17.000000</td>\n",
       "      <td>18.000000</td>\n",
       "      <td>19.000000</td>\n",
       "    </tr>\n",
       "    <tr>\n",
       "      <th>max</th>\n",
       "      <td>21.000000</td>\n",
       "      <td>22.000000</td>\n",
       "      <td>23.000000</td>\n",
       "      <td>24.000000</td>\n",
       "    </tr>\n",
       "  </tbody>\n",
       "</table>\n",
       "</div>"
      ],
      "text/plain": [
       "              C1         C2         C3         C4\n",
       "count   2.000000   2.000000   2.000000   2.000000\n",
       "mean   11.000000  12.000000  13.000000  14.000000\n",
       "std    14.142136  14.142136  14.142136  14.142136\n",
       "min     1.000000   2.000000   3.000000   4.000000\n",
       "25%     6.000000   7.000000   8.000000   9.000000\n",
       "50%    11.000000  12.000000  13.000000  14.000000\n",
       "75%    16.000000  17.000000  18.000000  19.000000\n",
       "max    21.000000  22.000000  23.000000  24.000000"
      ]
     },
     "execution_count": 68,
     "metadata": {},
     "output_type": "execute_result"
    }
   ],
   "source": [
    "df1.describe()"
   ]
  },
  {
   "cell_type": "markdown",
   "id": "080c275f-f5d9-4f57-896b-860b7beb4cc4",
   "metadata": {},
   "source": [
    "# Select Data\n",
    "Column:"
   ]
  },
  {
   "cell_type": "code",
   "execution_count": 124,
   "id": "ea39e384-21e3-4ea7-bec5-b21d9cc91af7",
   "metadata": {},
   "outputs": [
    {
     "name": "stdout",
     "output_type": "stream",
     "text": [
      "   E1  E2   E3\n",
      "0   1  11  111\n",
      "1  21  22  222\n",
      "2  41  44  444\n",
      "--------\n",
      "0     1\n",
      "1    21\n",
      "2    41\n",
      "Name: E1, dtype: int64\n",
      "--------\n",
      "0     1\n",
      "1    21\n",
      "2    41\n",
      "Name: E1, dtype: int64\n"
     ]
    }
   ],
   "source": [
    "print(df3)\n",
    "print('--------')\n",
    "print(df3['E1']) # column\n",
    "print('--------')\n",
    "print(df3.E1)"
   ]
  },
  {
   "cell_type": "markdown",
   "id": "45e2c128-cf2c-4a1d-b015-db90b839938c",
   "metadata": {},
   "source": [
    "Row:"
   ]
  },
  {
   "cell_type": "code",
   "execution_count": 94,
   "id": "380c3780-dd86-4a35-81d8-3648214bc41b",
   "metadata": {},
   "outputs": [
    {
     "name": "stdout",
     "output_type": "stream",
     "text": [
      "   E1  E2   E3\n",
      "0   1  11  111\n",
      "1  21  22  222\n",
      "2  41  44  444\n",
      "--------\n",
      "   E1  E2   E3\n",
      "1  21  22  222\n"
     ]
    }
   ],
   "source": [
    "print(df3)\n",
    "print('--------')\n",
    "print(df3[1:2]) # row"
   ]
  },
  {
   "cell_type": "markdown",
   "id": "c2604461-f0c7-47f5-a772-ec7d44ddb07d",
   "metadata": {},
   "source": [
    "Subset of the data:"
   ]
  },
  {
   "cell_type": "code",
   "execution_count": 113,
   "id": "a1744877-c206-4d70-9cec-5869749367d4",
   "metadata": {},
   "outputs": [
    {
     "name": "stdout",
     "output_type": "stream",
     "text": [
      "   E1  E2   E3\n",
      "0   1  11  111\n",
      "1  21  22  222\n",
      "2  41  44  444\n",
      "--------\n",
      "   E2\n",
      "0  11\n",
      "1  22\n",
      "--------\n"
     ]
    },
    {
     "data": {
      "text/html": [
       "<div>\n",
       "<style scoped>\n",
       "    .dataframe tbody tr th:only-of-type {\n",
       "        vertical-align: middle;\n",
       "    }\n",
       "\n",
       "    .dataframe tbody tr th {\n",
       "        vertical-align: top;\n",
       "    }\n",
       "\n",
       "    .dataframe thead th {\n",
       "        text-align: right;\n",
       "    }\n",
       "</style>\n",
       "<table border=\"1\" class=\"dataframe\">\n",
       "  <thead>\n",
       "    <tr style=\"text-align: right;\">\n",
       "      <th></th>\n",
       "      <th>E1</th>\n",
       "      <th>E3</th>\n",
       "    </tr>\n",
       "  </thead>\n",
       "  <tbody>\n",
       "    <tr>\n",
       "      <th>1</th>\n",
       "      <td>21</td>\n",
       "      <td>222</td>\n",
       "    </tr>\n",
       "    <tr>\n",
       "      <th>2</th>\n",
       "      <td>41</td>\n",
       "      <td>444</td>\n",
       "    </tr>\n",
       "  </tbody>\n",
       "</table>\n",
       "</div>"
      ],
      "text/plain": [
       "   E1   E3\n",
       "1  21  222\n",
       "2  41  444"
      ]
     },
     "execution_count": 113,
     "metadata": {},
     "output_type": "execute_result"
    }
   ],
   "source": [
    "print(df3)\n",
    "print('--------')\n",
    "print(df3.iloc[0:2,1:2] ) # row 0 and 1, column 1\n",
    "print('--------')\n",
    "df3.loc[1:2, ['E1','E3']] # note that, for slices, loc defaults to non-pythonic index: starting from 1 and endpoint is included"
   ]
  },
  {
   "cell_type": "markdown",
   "id": "6be87e78-0b68-49d9-9384-1c9c223fd92b",
   "metadata": {},
   "source": [
    "Specific item in the dataframe:"
   ]
  },
  {
   "cell_type": "code",
   "execution_count": 181,
   "id": "b533ba25-c768-4510-a620-8ffb088c5883",
   "metadata": {},
   "outputs": [
    {
     "name": "stdout",
     "output_type": "stream",
     "text": [
      "   E1  E2   E3\n",
      "0   1  11  111\n",
      "1  21  22  222\n",
      "2  41  44  444\n",
      "--------\n",
      "22\n",
      "--------\n"
     ]
    },
    {
     "data": {
      "text/plain": [
       "22"
      ]
     },
     "execution_count": 181,
     "metadata": {},
     "output_type": "execute_result"
    }
   ],
   "source": [
    "print(df3)\n",
    "print('--------')\n",
    "print(df3.iloc[1,1] ) # row 1, column 1\n",
    "print('--------')\n",
    "df3.loc[1, 'E2'] # note that, for non-slices case, loc is still pythonic"
   ]
  },
  {
   "cell_type": "markdown",
   "id": "8635e01e-f158-4c84-9100-4f7925a0b081",
   "metadata": {},
   "source": [
    "# Manipulation of Data"
   ]
  },
  {
   "cell_type": "code",
   "execution_count": 141,
   "id": "56d0a9ac-9857-4957-bd02-666aa964c8f1",
   "metadata": {},
   "outputs": [
    {
     "name": "stdout",
     "output_type": "stream",
     "text": [
      "   C1  C2  C3  C4\n",
      "0   1   2   3   4\n",
      "1  21  22  23  24\n",
      "   C1  C2  C3  C4  C5\n",
      "0   1   2   3   4   5\n",
      "1  21  22  23  24  25\n"
     ]
    }
   ],
   "source": [
    "df_tmp = df1.copy() # deep copy of dataframe. If use =, it only passes reference.\n",
    "print(df_tmp)\n",
    "df_tmp['C5'] = [5, 25] # add one column\n",
    "print(df_tmp)\n",
    "del df_tmp"
   ]
  },
  {
   "cell_type": "code",
   "execution_count": 156,
   "id": "ac59e63f-282c-43df-ab00-ee6ee27ece9b",
   "metadata": {},
   "outputs": [
    {
     "name": "stdout",
     "output_type": "stream",
     "text": [
      "   C1  C2  C3  C4\n",
      "0   1   2   3   4\n",
      "1  21  22  23  24\n"
     ]
    }
   ],
   "source": [
    "df_tmp = df1.copy()\n",
    "print(df_tmp)\n",
    "############# something wrong here: df_tmp[2:3] = [1, 2, 3, 4] # add one row \n",
    "#df_tmp"
   ]
  },
  {
   "cell_type": "markdown",
   "id": "315074ad-c833-48e0-9bde-f6cf648710af",
   "metadata": {},
   "source": [
    "# Filtering Data"
   ]
  },
  {
   "cell_type": "markdown",
   "id": "62523275-d9e8-4d9b-8eca-a4f9629eefcb",
   "metadata": {},
   "source": [
    "Specifying conditions for filtering data:"
   ]
  },
  {
   "cell_type": "code",
   "execution_count": 187,
   "id": "383802ed-194f-48da-892f-56e147c6e632",
   "metadata": {},
   "outputs": [
    {
     "name": "stdout",
     "output_type": "stream",
     "text": [
      "   E1  E2   E3\n",
      "0   1  11  111\n",
      "1  21  22  222\n",
      "2  41  44  444\n",
      "------------------\n",
      "   E1  E2   E3\n",
      "1  21  22  222\n",
      "2  41  44  444\n",
      "------------------\n",
      "   E1  E2   E3\n",
      "0   1  11  111\n",
      "2  41  44  444\n"
     ]
    }
   ],
   "source": [
    "print(df3)\n",
    "print('------------------')\n",
    "print(df3[df3['E2'] > 20])\n",
    "print('------------------')\n",
    "print(df3[df3['E2'].isin([11, 44])])"
   ]
  },
  {
   "cell_type": "markdown",
   "id": "daaf3f20-cb7e-4e9a-b53e-2772536e255f",
   "metadata": {},
   "source": [
    "Remove \"not available\":"
   ]
  },
  {
   "cell_type": "code",
   "execution_count": 189,
   "id": "f9266251-d8c4-42eb-861b-5bb8a25a71e1",
   "metadata": {},
   "outputs": [
    {
     "name": "stdout",
     "output_type": "stream",
     "text": [
      "   F1  F2     F3\n",
      "0   1  11  111.0\n",
      "1  21  22  222.0\n",
      "2  51  52    NaN\n",
      "--------\n",
      "   F1  F2     F3\n",
      "0   1  11  111.0\n",
      "1  21  22  222.0\n"
     ]
    }
   ],
   "source": [
    "print(df4)\n",
    "print('--------')\n",
    "print(df4[df4['F3'].notna()]) # notna = not NA = not not-available"
   ]
  },
  {
   "cell_type": "markdown",
   "id": "de449aa9-f64f-463c-9cd8-ff7b75d3e1ec",
   "metadata": {},
   "source": [
    "# Combination of Dataframes\n",
    "## Join\n",
    "```data_frame_a.join(data_frame_b)``` will join the two dataframes `data_frame_a` and `data_frame_b` together:"
   ]
  },
  {
   "cell_type": "code",
   "execution_count": 48,
   "id": "2267873c",
   "metadata": {},
   "outputs": [
    {
     "name": "stdout",
     "output_type": "stream",
     "text": [
      "   C1  C2  C3  C4\n",
      "0   1   2   3   4\n",
      "1  21  22  23  24\n",
      "   C1 D1  D2\n",
      "0   1  a  a1\n",
      "1  21  b  b1\n",
      "2  31  c  c1\n"
     ]
    },
    {
     "data": {
      "text/html": [
       "<div>\n",
       "<style scoped>\n",
       "    .dataframe tbody tr th:only-of-type {\n",
       "        vertical-align: middle;\n",
       "    }\n",
       "\n",
       "    .dataframe tbody tr th {\n",
       "        vertical-align: top;\n",
       "    }\n",
       "\n",
       "    .dataframe thead th {\n",
       "        text-align: right;\n",
       "    }\n",
       "</style>\n",
       "<table border=\"1\" class=\"dataframe\">\n",
       "  <thead>\n",
       "    <tr style=\"text-align: right;\">\n",
       "      <th></th>\n",
       "      <th>C1_left</th>\n",
       "      <th>C2</th>\n",
       "      <th>C3</th>\n",
       "      <th>C4</th>\n",
       "      <th>C1_right</th>\n",
       "      <th>D1</th>\n",
       "      <th>D2</th>\n",
       "    </tr>\n",
       "  </thead>\n",
       "  <tbody>\n",
       "    <tr>\n",
       "      <th>0</th>\n",
       "      <td>1</td>\n",
       "      <td>2</td>\n",
       "      <td>3</td>\n",
       "      <td>4</td>\n",
       "      <td>1</td>\n",
       "      <td>a</td>\n",
       "      <td>a1</td>\n",
       "    </tr>\n",
       "    <tr>\n",
       "      <th>1</th>\n",
       "      <td>21</td>\n",
       "      <td>22</td>\n",
       "      <td>23</td>\n",
       "      <td>24</td>\n",
       "      <td>21</td>\n",
       "      <td>b</td>\n",
       "      <td>b1</td>\n",
       "    </tr>\n",
       "  </tbody>\n",
       "</table>\n",
       "</div>"
      ],
      "text/plain": [
       "   C1_left  C2  C3  C4  C1_right D1  D2\n",
       "0        1   2   3   4         1  a  a1\n",
       "1       21  22  23  24        21  b  b1"
      ]
     },
     "execution_count": 48,
     "metadata": {},
     "output_type": "execute_result"
    }
   ],
   "source": [
    "print(df1)\n",
    "print(df2)\n",
    "df1.join(df2, lsuffix = '_left', rsuffix = '_right') # will give error if suffix is not supplied (but somehow it accepts the same suffix)"
   ]
  },
  {
   "cell_type": "markdown",
   "id": "f2e25fee-5992-4aa3-af2c-962e06f90050",
   "metadata": {},
   "source": [
    "## Merge\n"
   ]
  },
  {
   "cell_type": "code",
   "execution_count": 43,
   "id": "e35fcc10-69d4-49ea-9303-02e0b8337e06",
   "metadata": {},
   "outputs": [
    {
     "name": "stdout",
     "output_type": "stream",
     "text": [
      "   C1  C2  C3  C4\n",
      "0  11  22  33  44\n",
      "1  91  92  93  94\n",
      "   C1 D1  D2\n",
      "0  11  a  a1\n",
      "1  91  b  b1\n",
      "2  11  c  c1\n"
     ]
    },
    {
     "data": {
      "text/html": [
       "<div>\n",
       "<style scoped>\n",
       "    .dataframe tbody tr th:only-of-type {\n",
       "        vertical-align: middle;\n",
       "    }\n",
       "\n",
       "    .dataframe tbody tr th {\n",
       "        vertical-align: top;\n",
       "    }\n",
       "\n",
       "    .dataframe thead th {\n",
       "        text-align: right;\n",
       "    }\n",
       "</style>\n",
       "<table border=\"1\" class=\"dataframe\">\n",
       "  <thead>\n",
       "    <tr style=\"text-align: right;\">\n",
       "      <th></th>\n",
       "      <th>C1</th>\n",
       "      <th>C2</th>\n",
       "      <th>C3</th>\n",
       "      <th>C4</th>\n",
       "      <th>D1</th>\n",
       "      <th>D2</th>\n",
       "    </tr>\n",
       "  </thead>\n",
       "  <tbody>\n",
       "    <tr>\n",
       "      <th>0</th>\n",
       "      <td>11</td>\n",
       "      <td>22</td>\n",
       "      <td>33</td>\n",
       "      <td>44</td>\n",
       "      <td>a</td>\n",
       "      <td>a1</td>\n",
       "    </tr>\n",
       "    <tr>\n",
       "      <th>1</th>\n",
       "      <td>11</td>\n",
       "      <td>22</td>\n",
       "      <td>33</td>\n",
       "      <td>44</td>\n",
       "      <td>c</td>\n",
       "      <td>c1</td>\n",
       "    </tr>\n",
       "    <tr>\n",
       "      <th>2</th>\n",
       "      <td>91</td>\n",
       "      <td>92</td>\n",
       "      <td>93</td>\n",
       "      <td>94</td>\n",
       "      <td>b</td>\n",
       "      <td>b1</td>\n",
       "    </tr>\n",
       "  </tbody>\n",
       "</table>\n",
       "</div>"
      ],
      "text/plain": [
       "   C1  C2  C3  C4 D1  D2\n",
       "0  11  22  33  44  a  a1\n",
       "1  11  22  33  44  c  c1\n",
       "2  91  92  93  94  b  b1"
      ]
     },
     "execution_count": 43,
     "metadata": {},
     "output_type": "execute_result"
    }
   ],
   "source": [
    "print(df1)\n",
    "print(df2)\n",
    "df1.merge(df2)"
   ]
  },
  {
   "cell_type": "markdown",
   "id": "c80c253f-8116-4b0b-bf94-c5fabfb09107",
   "metadata": {},
   "source": [
    "## Concatenate"
   ]
  },
  {
   "cell_type": "code",
   "execution_count": 44,
   "id": "752a69a7-b6d0-4ebb-b768-8d835118344d",
   "metadata": {},
   "outputs": [
    {
     "name": "stdout",
     "output_type": "stream",
     "text": [
      "   C1  C2  C3  C4\n",
      "0  11  22  33  44\n",
      "1  91  92  93  94\n",
      "   C1 D1  D2\n",
      "0  11  a  a1\n",
      "1  91  b  b1\n",
      "2  11  c  c1\n"
     ]
    },
    {
     "data": {
      "text/html": [
       "<div>\n",
       "<style scoped>\n",
       "    .dataframe tbody tr th:only-of-type {\n",
       "        vertical-align: middle;\n",
       "    }\n",
       "\n",
       "    .dataframe tbody tr th {\n",
       "        vertical-align: top;\n",
       "    }\n",
       "\n",
       "    .dataframe thead th {\n",
       "        text-align: right;\n",
       "    }\n",
       "</style>\n",
       "<table border=\"1\" class=\"dataframe\">\n",
       "  <thead>\n",
       "    <tr style=\"text-align: right;\">\n",
       "      <th></th>\n",
       "      <th>C1</th>\n",
       "      <th>C2</th>\n",
       "      <th>C3</th>\n",
       "      <th>C4</th>\n",
       "      <th>D1</th>\n",
       "      <th>D2</th>\n",
       "    </tr>\n",
       "  </thead>\n",
       "  <tbody>\n",
       "    <tr>\n",
       "      <th>0</th>\n",
       "      <td>11</td>\n",
       "      <td>22.0</td>\n",
       "      <td>33.0</td>\n",
       "      <td>44.0</td>\n",
       "      <td>NaN</td>\n",
       "      <td>NaN</td>\n",
       "    </tr>\n",
       "    <tr>\n",
       "      <th>1</th>\n",
       "      <td>91</td>\n",
       "      <td>92.0</td>\n",
       "      <td>93.0</td>\n",
       "      <td>94.0</td>\n",
       "      <td>NaN</td>\n",
       "      <td>NaN</td>\n",
       "    </tr>\n",
       "    <tr>\n",
       "      <th>0</th>\n",
       "      <td>11</td>\n",
       "      <td>NaN</td>\n",
       "      <td>NaN</td>\n",
       "      <td>NaN</td>\n",
       "      <td>a</td>\n",
       "      <td>a1</td>\n",
       "    </tr>\n",
       "    <tr>\n",
       "      <th>1</th>\n",
       "      <td>91</td>\n",
       "      <td>NaN</td>\n",
       "      <td>NaN</td>\n",
       "      <td>NaN</td>\n",
       "      <td>b</td>\n",
       "      <td>b1</td>\n",
       "    </tr>\n",
       "    <tr>\n",
       "      <th>2</th>\n",
       "      <td>11</td>\n",
       "      <td>NaN</td>\n",
       "      <td>NaN</td>\n",
       "      <td>NaN</td>\n",
       "      <td>c</td>\n",
       "      <td>c1</td>\n",
       "    </tr>\n",
       "  </tbody>\n",
       "</table>\n",
       "</div>"
      ],
      "text/plain": [
       "   C1    C2    C3    C4   D1   D2\n",
       "0  11  22.0  33.0  44.0  NaN  NaN\n",
       "1  91  92.0  93.0  94.0  NaN  NaN\n",
       "0  11   NaN   NaN   NaN    a   a1\n",
       "1  91   NaN   NaN   NaN    b   b1\n",
       "2  11   NaN   NaN   NaN    c   c1"
      ]
     },
     "execution_count": 44,
     "metadata": {},
     "output_type": "execute_result"
    }
   ],
   "source": [
    "print(df1)\n",
    "print(df2)\n",
    "pd.concat([df1, df2], axis=0)"
   ]
  },
  {
   "cell_type": "markdown",
   "id": "26ddf559-aeef-4e95-8d41-d111ea55c920",
   "metadata": {},
   "source": [
    "# Data Read-in"
   ]
  },
  {
   "cell_type": "code",
   "execution_count": 21,
   "id": "13039724-cf9f-4882-b7a2-d5bb07b0d3b7",
   "metadata": {},
   "outputs": [
    {
     "name": "stdout",
     "output_type": "stream",
     "text": [
      "<class 'pandas.core.frame.DataFrame'>\n",
      "RangeIndex: 150 entries, 0 to 149\n",
      "Data columns (total 5 columns):\n",
      " #   Column        Non-Null Count  Dtype  \n",
      "---  ------        --------------  -----  \n",
      " 0   sepal_length  150 non-null    float64\n",
      " 1   sepal_width   150 non-null    float64\n",
      " 2   petal_length  150 non-null    float64\n",
      " 3   petal_width   150 non-null    float64\n",
      " 4   species       150 non-null    object \n",
      "dtypes: float64(4), object(1)\n",
      "memory usage: 6.0+ KB\n"
     ]
    },
    {
     "data": {
      "text/html": [
       "<div>\n",
       "<style scoped>\n",
       "    .dataframe tbody tr th:only-of-type {\n",
       "        vertical-align: middle;\n",
       "    }\n",
       "\n",
       "    .dataframe tbody tr th {\n",
       "        vertical-align: top;\n",
       "    }\n",
       "\n",
       "    .dataframe thead th {\n",
       "        text-align: right;\n",
       "    }\n",
       "</style>\n",
       "<table border=\"1\" class=\"dataframe\">\n",
       "  <thead>\n",
       "    <tr style=\"text-align: right;\">\n",
       "      <th></th>\n",
       "      <th>sepal_length</th>\n",
       "      <th>sepal_width</th>\n",
       "      <th>petal_length</th>\n",
       "      <th>petal_width</th>\n",
       "    </tr>\n",
       "  </thead>\n",
       "  <tbody>\n",
       "    <tr>\n",
       "      <th>count</th>\n",
       "      <td>150.000000</td>\n",
       "      <td>150.000000</td>\n",
       "      <td>150.000000</td>\n",
       "      <td>150.000000</td>\n",
       "    </tr>\n",
       "    <tr>\n",
       "      <th>mean</th>\n",
       "      <td>5.843333</td>\n",
       "      <td>3.054000</td>\n",
       "      <td>3.758667</td>\n",
       "      <td>1.198667</td>\n",
       "    </tr>\n",
       "    <tr>\n",
       "      <th>std</th>\n",
       "      <td>0.828066</td>\n",
       "      <td>0.433594</td>\n",
       "      <td>1.764420</td>\n",
       "      <td>0.763161</td>\n",
       "    </tr>\n",
       "    <tr>\n",
       "      <th>min</th>\n",
       "      <td>4.300000</td>\n",
       "      <td>2.000000</td>\n",
       "      <td>1.000000</td>\n",
       "      <td>0.100000</td>\n",
       "    </tr>\n",
       "    <tr>\n",
       "      <th>25%</th>\n",
       "      <td>5.100000</td>\n",
       "      <td>2.800000</td>\n",
       "      <td>1.600000</td>\n",
       "      <td>0.300000</td>\n",
       "    </tr>\n",
       "    <tr>\n",
       "      <th>50%</th>\n",
       "      <td>5.800000</td>\n",
       "      <td>3.000000</td>\n",
       "      <td>4.350000</td>\n",
       "      <td>1.300000</td>\n",
       "    </tr>\n",
       "    <tr>\n",
       "      <th>75%</th>\n",
       "      <td>6.400000</td>\n",
       "      <td>3.300000</td>\n",
       "      <td>5.100000</td>\n",
       "      <td>1.800000</td>\n",
       "    </tr>\n",
       "    <tr>\n",
       "      <th>max</th>\n",
       "      <td>7.900000</td>\n",
       "      <td>4.400000</td>\n",
       "      <td>6.900000</td>\n",
       "      <td>2.500000</td>\n",
       "    </tr>\n",
       "  </tbody>\n",
       "</table>\n",
       "</div>"
      ],
      "text/plain": [
       "       sepal_length  sepal_width  petal_length  petal_width\n",
       "count    150.000000   150.000000    150.000000   150.000000\n",
       "mean       5.843333     3.054000      3.758667     1.198667\n",
       "std        0.828066     0.433594      1.764420     0.763161\n",
       "min        4.300000     2.000000      1.000000     0.100000\n",
       "25%        5.100000     2.800000      1.600000     0.300000\n",
       "50%        5.800000     3.000000      4.350000     1.300000\n",
       "75%        6.400000     3.300000      5.100000     1.800000\n",
       "max        7.900000     4.400000      6.900000     2.500000"
      ]
     },
     "execution_count": 21,
     "metadata": {},
     "output_type": "execute_result"
    }
   ],
   "source": [
    "df_iris = pd.read_csv(\"data/iris.csv\")\n",
    "df_iris.info()\n",
    "df_iris.describe()"
   ]
  },
  {
   "cell_type": "markdown",
   "id": "30c97c9b-8ea4-48d9-888d-a7affe8818c4",
   "metadata": {},
   "source": [
    "## Time Data"
   ]
  },
  {
   "cell_type": "code",
   "execution_count": 1,
   "id": "f90de9d7-a042-4322-b313-33a4604aa13e",
   "metadata": {},
   "outputs": [],
   "source": [
    "# read a file and parse time at certain column\n",
    "#df = DataFrame(\"data/time.csv\", parse_dates=[\"date_1\", \"date_2\"])"
   ]
  },
  {
   "cell_type": "code",
   "execution_count": 7,
   "id": "d59eea1a-1e49-40f2-91cf-3eb2b7f5f32a",
   "metadata": {},
   "outputs": [
    {
     "data": {
      "text/plain": [
       "28"
      ]
     },
     "execution_count": 7,
     "metadata": {},
     "output_type": "execute_result"
    }
   ],
   "source": [
    "# days in a month \n",
    "pd.Period('2018-2-17').days_in_month"
   ]
  },
  {
   "cell_type": "code",
   "execution_count": null,
   "id": "fdd4298b-9420-40dc-8662-d5843633179e",
   "metadata": {},
   "outputs": [],
   "source": []
  }
 ],
 "metadata": {
  "kernelspec": {
   "display_name": "Python 3",
   "language": "python",
   "name": "python3"
  },
  "language_info": {
   "codemirror_mode": {
    "name": "ipython",
    "version": 3
   },
   "file_extension": ".py",
   "mimetype": "text/x-python",
   "name": "python",
   "nbconvert_exporter": "python",
   "pygments_lexer": "ipython3",
   "version": "3.8.8"
  }
 },
 "nbformat": 4,
 "nbformat_minor": 5
}
