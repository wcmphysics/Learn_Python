{
 "cells": [
  {
   "cell_type": "markdown",
   "metadata": {},
   "source": [
    "# pyenv Test\n",
    "This is a jupyter notebook for testing pyenv installation\n"
   ]
  },
  {
   "cell_type": "markdown",
   "metadata": {},
   "source": [
    "# Install pyenv on windows \n",
    "I think it comes with python installer for windows (even the user path for pyenv is set?). \n",
    "\n",
    "Otherwise, follow the installation using pip detailed in [pyenv-win git repository](https://github.com/pyenv-win/pyenv-win#usage).\n"
   ]
  },
  {
   "cell_type": "markdown",
   "metadata": {},
   "source": [
    "\n",
    "# Check the User Path and System Path\n",
    "\n",
    "It's important to know how pyenv select which python to run. Read the sections \"Understanding Python version selection\", and maybe \"How it works\", \"Understand PATH\", and \"Understanding Shims\" in the [pyenv README](https://github.com/pyenv/pyenv#understanding-path).\n",
    "\n",
    "Make sure you have `shims' for pyenv in user path and your system python installation (Python3X) in your system path. Similar to [this one](https://github.com/pyenv-win/pyenv-win/issues/160)."
   ]
  },
  {
   "cell_type": "markdown",
   "metadata": {},
   "source": [
    "# Create a New Environment"
   ]
  },
  {
   "cell_type": "markdown",
   "metadata": {},
   "source": [
    "1. Find the Python version supported by pyenv by typing:\n",
    "\n",
    "    ```pyenv install --list```\n",
    "\n",
    "2. Install the desired Python version:\n",
    "\n",
    "    ```pyenv install 3.9.6```\n",
    "\n",
    "    You might need to restart your VS code to see it appears.\n",
    "    You might see some version like `3.9.6-Win32`. That might be a 32 bit version?\n",
    "\n",
    "3. Go to the desired directory and specify the local Python version:\n",
    "\n",
    "    ```pyenv local 3.9.6```\n",
    "\n",
    "4. Create the virtual environment (`.venv` can be any name you want):\n",
    "\n",
    "    ```python -m venv .venv```\n",
    "    \n",
    "    "
   ]
  },
  {
   "cell_type": "markdown",
   "metadata": {},
   "source": [
    "# Activate and Deactivate a Virtual Environment"
   ]
  },
  {
   "cell_type": "markdown",
   "metadata": {},
   "source": [
    "Use a commnand prompt and go to the directory where the environment directory is located:\n",
    "\n",
    "To activate:\n",
    "\n",
    "```\n",
    "pyenv local 3.9.6\n",
    "source .venv/bin/activate  # for Mac\n",
    ".venv/Scripts/activate # for Windows\n",
    "```\n",
    "\n",
    "The activation on Windows might be blocked due to safety issue.\n",
    "\n",
    "Check the python version by `python --version` and `pyenv which python`. Sometimes you may see the first one is wrong but the second one corrent. This might have to do with the system PATH setting (see [here](https://stackoverflow.com/questions/63941443/local-python-version-not-changing-after-installing-pyenv-win) for more details). Go to Control Panel => System => search \"environment\" in search box => environment variable. Make sure `pyenv` is at the top:\n",
    "\n",
    "![image](./image/system_path_issue.png)\n",
    "\n",
    "When activated successfully, you should see the name of the environment appears in the command prompt. Any program started here will use this environment.\n",
    "\n",
    "\n",
    "To deactive:\n",
    "\n",
    "```\n",
    "deactivate  # for both Mac and Windows\n",
    "```\n"
   ]
  },
  {
   "cell_type": "markdown",
   "metadata": {},
   "source": [
    "### Note About Using an Environment inside VS Code\n",
    "\n",
    "If you follow the steps above and create the virtual environment using command line inside VS code and the environment is in current working directory, VS code will prompt you about adding this environment into the kernel menu.\n",
    "\n",
    "However, if you create the virtual environment somewhere else, VS code may not see the virtual environment installed in the directory so we need to tell it for the first time when using the environment (see description [here](https://stackoverflow.com/questions/66869413/visual-studio-code-does-not-detect-virtual-environments)).\n",
    "\n",
    "- Open command pallete by `Ctrl+Shift+P`.\n",
    "- Type `Python: Select Interpreter` and enter.\n",
    "- Choose `Select Interpreter`, `Enter interpreter path...`, and click on the folder of the environment.\n",
    "- Select `python` inside `bin` (Mac) or `Scripts` (Windows).\n",
    "- Now the interpreter will appear on kernel selection. Choose it to activate.\n",
    "\n",
    "Note that when the kernel selects a virtual environment, it has nothing to do with the environment of the command prompt inside VS code. You still need to activate the environment in the command prompt to use the right Python version or install packages to the correct kernel."
   ]
  },
  {
   "cell_type": "code",
   "execution_count": 1,
   "metadata": {},
   "outputs": [
    {
     "name": "stdout",
     "output_type": "stream",
     "text": [
      "Current python version:\n",
      "3.9.6 (tags/v3.9.6:db3ff76, Jun 28 2021, 15:26:21) [MSC v.1929 64 bit (AMD64)]\n"
     ]
    }
   ],
   "source": [
    "import sys\n",
    "print('Current python version:')\n",
    "print(sys.version)"
   ]
  },
  {
   "cell_type": "code",
   "execution_count": null,
   "metadata": {},
   "outputs": [],
   "source": []
  }
 ],
 "metadata": {
  "kernelspec": {
   "display_name": "Python 3.9.6 ('.venv': venv)",
   "language": "python",
   "name": "python3"
  },
  "language_info": {
   "codemirror_mode": {
    "name": "ipython",
    "version": 3
   },
   "file_extension": ".py",
   "mimetype": "text/x-python",
   "name": "python",
   "nbconvert_exporter": "python",
   "pygments_lexer": "ipython3",
   "version": "3.9.6"
  },
  "orig_nbformat": 4,
  "vscode": {
   "interpreter": {
    "hash": "c736982673ee198b9f4b4c789cd5b5bbe42282b307f33eae96fefd70a75ad30f"
   }
  }
 },
 "nbformat": 4,
 "nbformat_minor": 2
}
